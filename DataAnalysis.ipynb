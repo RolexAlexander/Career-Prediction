{
 "cells": [
  {
   "cell_type": "markdown",
   "id": "787f641a-4af1-4a4f-ac3a-1d9433bdcada",
   "metadata": {},
   "source": [
    "# Introduction\n",
    "\n",
    "The field of data analysis offers powerful tools to uncover patterns and make informed predictions based on historical data. In this project, we aim to leverage data analysis techniques to predict the future careers of computer science students. By examining a variety of metrics, including GPA, proficiency in programming languages, and interested domain, we seek to identify key factors that influence a student's career trajectory. This analysis not only helps in predicting career outcomes but also provides valuable insights that can guide educational strategies and career counseling efforts for students in the computer science discipline.\n",
    "\n",
    "### Objectves:\n",
    "\n",
    "1. **Predict Future Career Paths**: The primary objective of this project is to predict the most likely future career path for computer science students based on key metrics such as GPA, proficiency in programming languages (Python, SQL, Java), and their interest domains. By understanding how these factors correlate with different career outcomes, we can provide data-driven career guidance to students.\n",
    "\n",
    "2. **Analyze the Impact of Project Experience**: Another objective of this project is to analyze the impact of project experience on career outcomes. We aim to investigate how the type and number of projects completed by students influence their future career paths. This analysis will help identify the importance of practical experience in shaping career trajectories.\n",
    "\n",
    "3. **Examine Gender-Based Career Trends**: A third objective is to examine potential gender-based trends in career outcomes. By analyzing the data for patterns related to gender, we can identify whether certain career paths are more common among male or female students, and explore the underlying reasons for these trends. This analysis will contribute to understanding and addressing any gender disparities in career outcomes within the computer science field. "
   ]
  },
  {
   "cell_type": "markdown",
   "id": "26ba1dcc-e02c-47df-96f5-8a82e00903cd",
   "metadata": {},
   "source": [
    "# Visualisation\n"
   ]
  },
  {
   "cell_type": "code",
   "execution_count": 26,
   "id": "c68a714d-6d02-4c16-8965-5c463539ed7c",
   "metadata": {},
   "outputs": [],
   "source": [
    "# import necessary libraries\n",
    "import pandas as pd\n",
    "import numpy as np\n",
    "import plotly.express as px\n",
    "import seaborn as sns\n",
    "import matplotlib.pyplot as plt\n",
    "from ipywidgets import interact, widgets\n",
    "\n",
    "# load dataframe\n",
    "df = pd.read_csv(\"./cs_students.csv\")"
   ]
  },
  {
   "cell_type": "code",
   "execution_count": 27,
   "id": "ac8e4624-c4c7-4ede-910d-ba0406657910",
   "metadata": {},
   "outputs": [
    {
     "data": {
      "application/vnd.jupyter.widget-view+json": {
       "model_id": "e803f944186341b09d876c108d3ef0cd",
       "version_major": 2,
       "version_minor": 0
      },
      "text/plain": [
       "interactive(children=(IntSlider(value=0, description='Start Index', max=170, step=10), IntSlider(value=10, des…"
      ]
     },
     "metadata": {},
     "output_type": "display_data"
    },
    {
     "data": {
      "text/plain": [
       "<function __main__.display_df(index=0, rows=10, column_filter='')>"
      ]
     },
     "execution_count": 27,
     "metadata": {},
     "output_type": "execute_result"
    }
   ],
   "source": [
    "from ipywidgets import interactive, IntSlider, Dropdown, Text, VBox, HBox, interact\n",
    "\n",
    "# Function to display a slice of the DataFrame with filtering\n",
    "def display_df(index=0, rows=10, column_filter=''):\n",
    "    filtered_df = df\n",
    "    if column_filter:\n",
    "        # Apply filter across all columns, case-insensitive\n",
    "        filtered_df = df[df.apply(lambda row: row.astype(str).str.contains(column_filter, case=False).any(), axis=1)]\n",
    "    display(filtered_df.iloc[index:index+rows])\n",
    "\n",
    "# Widgets for interaction\n",
    "index_slider = IntSlider(min=0, max=len(df)-10, step=10, description='Start Index')\n",
    "row_slider = IntSlider(min=1, max=100, step=1, value=10, description='Rows')\n",
    "column_filter = Text(value='', description='Filter')\n",
    "\n",
    "# Interactive widget\n",
    "interact(display_df, index=index_slider, rows=row_slider, column_filter=column_filter)"
   ]
  },
  {
   "cell_type": "code",
   "execution_count": 28,
   "id": "2f70a5b3",
   "metadata": {},
   "outputs": [
    {
     "data": {
      "application/vnd.plotly.v1+json": {
       "config": {
        "plotlyServerURL": "https://plot.ly"
       },
       "data": [
        {
         "alignmentgroup": "True",
         "bingroup": "x",
         "hovertemplate": "Gender=Male<br>GPA=%{x}<br>count=%{y}<extra></extra>",
         "legendgroup": "Male",
         "marker": {
          "color": "#636efa",
          "pattern": {
           "shape": ""
          }
         },
         "name": "Male",
         "offsetgroup": "Male",
         "orientation": "v",
         "showlegend": true,
         "type": "histogram",
         "x": [
          3.5,
          3.8,
          3.4,
          3.6,
          3.3,
          3.8,
          3.7,
          3.5,
          3.6,
          3.6,
          3.3,
          3.8,
          3.7,
          3.5,
          3.6,
          3.6,
          3.3,
          3.8,
          3.7,
          3.5,
          3.6,
          3.3,
          3.5,
          3.6,
          3.7,
          3.8,
          3.6,
          3.3,
          3.3,
          3.7,
          3.5,
          3.8,
          3.6,
          3.3,
          3.7,
          3.5,
          3.8,
          3.3,
          3.7,
          3.5,
          3.8,
          3.6,
          3.3,
          3.7,
          3.5,
          3.8,
          3.3,
          3.7,
          3.5,
          3.9,
          3.9,
          3.8,
          3.6,
          3.7,
          3.8,
          3.9,
          3.4,
          3.6,
          3.8,
          3.4,
          3.6,
          3.3,
          3.8,
          3.7,
          3.5,
          3.6,
          3.6,
          3.3,
          3.8,
          3.4,
          3.7,
          3.8,
          3.3,
          3.8,
          3.3,
          3.8,
          3.3,
          3.8,
          3.7,
          3.4,
          3.7,
          3.8,
          3.3,
          3.6,
          3.6,
          3.7,
          3.9,
          3.6,
          3.8,
          3.7,
          3.4,
          3.7,
          3.7,
          3.6,
          3.6,
          3.7,
          3.9,
          3.6,
          3.8,
          3.7,
          3.4,
          3.7
         ],
         "xaxis": "x",
         "yaxis": "y"
        },
        {
         "alignmentgroup": "True",
         "hovertemplate": "Gender=Male<br>GPA=%{x}<extra></extra>",
         "legendgroup": "Male",
         "marker": {
          "color": "#636efa"
         },
         "name": "Male",
         "notched": true,
         "offsetgroup": "Male",
         "showlegend": false,
         "type": "box",
         "x": [
          3.5,
          3.8,
          3.4,
          3.6,
          3.3,
          3.8,
          3.7,
          3.5,
          3.6,
          3.6,
          3.3,
          3.8,
          3.7,
          3.5,
          3.6,
          3.6,
          3.3,
          3.8,
          3.7,
          3.5,
          3.6,
          3.3,
          3.5,
          3.6,
          3.7,
          3.8,
          3.6,
          3.3,
          3.3,
          3.7,
          3.5,
          3.8,
          3.6,
          3.3,
          3.7,
          3.5,
          3.8,
          3.3,
          3.7,
          3.5,
          3.8,
          3.6,
          3.3,
          3.7,
          3.5,
          3.8,
          3.3,
          3.7,
          3.5,
          3.9,
          3.9,
          3.8,
          3.6,
          3.7,
          3.8,
          3.9,
          3.4,
          3.6,
          3.8,
          3.4,
          3.6,
          3.3,
          3.8,
          3.7,
          3.5,
          3.6,
          3.6,
          3.3,
          3.8,
          3.4,
          3.7,
          3.8,
          3.3,
          3.8,
          3.3,
          3.8,
          3.3,
          3.8,
          3.7,
          3.4,
          3.7,
          3.8,
          3.3,
          3.6,
          3.6,
          3.7,
          3.9,
          3.6,
          3.8,
          3.7,
          3.4,
          3.7,
          3.7,
          3.6,
          3.6,
          3.7,
          3.9,
          3.6,
          3.8,
          3.7,
          3.4,
          3.7
         ],
         "xaxis": "x2",
         "yaxis": "y2"
        },
        {
         "alignmentgroup": "True",
         "bingroup": "x",
         "hovertemplate": "Gender=Female<br>GPA=%{x}<br>count=%{y}<extra></extra>",
         "legendgroup": "Female",
         "marker": {
          "color": "#EF553B",
          "pattern": {
           "shape": ""
          }
         },
         "name": "Female",
         "offsetgroup": "Female",
         "orientation": "v",
         "showlegend": true,
         "type": "histogram",
         "x": [
          3.2,
          3.7,
          3.9,
          3.7,
          3.5,
          3.3,
          3.8,
          3.9,
          3.7,
          3.5,
          3.3,
          3.8,
          3.9,
          3.7,
          3.5,
          3.3,
          3.8,
          3.9,
          3.6,
          3.7,
          3.8,
          3.3,
          3.5,
          3.7,
          3.8,
          3.6,
          3.7,
          3.8,
          3.7,
          3.6,
          3.5,
          3.7,
          3.6,
          3.5,
          3.7,
          3.5,
          3.2,
          3.7,
          3.9,
          3.7,
          3.5,
          3.3,
          3.8,
          3.9,
          3.7,
          3.5,
          3.6,
          3.9,
          3.5,
          3.7,
          3.5,
          3.7,
          3.5,
          3.7,
          3.5,
          3.6,
          3.9,
          3.5,
          3.7,
          3.5,
          3.7,
          3.7,
          3.8,
          3.5,
          3.7,
          3.5,
          3.6,
          3.5,
          3.8,
          3.5,
          3.7,
          3.7,
          3.8,
          3.5,
          3.7,
          3.5,
          3.6,
          3.5
         ],
         "xaxis": "x",
         "yaxis": "y"
        },
        {
         "alignmentgroup": "True",
         "hovertemplate": "Gender=Female<br>GPA=%{x}<extra></extra>",
         "legendgroup": "Female",
         "marker": {
          "color": "#EF553B"
         },
         "name": "Female",
         "notched": true,
         "offsetgroup": "Female",
         "showlegend": false,
         "type": "box",
         "x": [
          3.2,
          3.7,
          3.9,
          3.7,
          3.5,
          3.3,
          3.8,
          3.9,
          3.7,
          3.5,
          3.3,
          3.8,
          3.9,
          3.7,
          3.5,
          3.3,
          3.8,
          3.9,
          3.6,
          3.7,
          3.8,
          3.3,
          3.5,
          3.7,
          3.8,
          3.6,
          3.7,
          3.8,
          3.7,
          3.6,
          3.5,
          3.7,
          3.6,
          3.5,
          3.7,
          3.5,
          3.2,
          3.7,
          3.9,
          3.7,
          3.5,
          3.3,
          3.8,
          3.9,
          3.7,
          3.5,
          3.6,
          3.9,
          3.5,
          3.7,
          3.5,
          3.7,
          3.5,
          3.7,
          3.5,
          3.6,
          3.9,
          3.5,
          3.7,
          3.5,
          3.7,
          3.7,
          3.8,
          3.5,
          3.7,
          3.5,
          3.6,
          3.5,
          3.8,
          3.5,
          3.7,
          3.7,
          3.8,
          3.5,
          3.7,
          3.5,
          3.6,
          3.5
         ],
         "xaxis": "x2",
         "yaxis": "y2"
        }
       ],
       "layout": {
        "barmode": "relative",
        "legend": {
         "title": {
          "text": "Gender"
         },
         "tracegroupgap": 0
        },
        "template": {
         "data": {
          "bar": [
           {
            "error_x": {
             "color": "#2a3f5f"
            },
            "error_y": {
             "color": "#2a3f5f"
            },
            "marker": {
             "line": {
              "color": "#E5ECF6",
              "width": 0.5
             },
             "pattern": {
              "fillmode": "overlay",
              "size": 10,
              "solidity": 0.2
             }
            },
            "type": "bar"
           }
          ],
          "barpolar": [
           {
            "marker": {
             "line": {
              "color": "#E5ECF6",
              "width": 0.5
             },
             "pattern": {
              "fillmode": "overlay",
              "size": 10,
              "solidity": 0.2
             }
            },
            "type": "barpolar"
           }
          ],
          "carpet": [
           {
            "aaxis": {
             "endlinecolor": "#2a3f5f",
             "gridcolor": "white",
             "linecolor": "white",
             "minorgridcolor": "white",
             "startlinecolor": "#2a3f5f"
            },
            "baxis": {
             "endlinecolor": "#2a3f5f",
             "gridcolor": "white",
             "linecolor": "white",
             "minorgridcolor": "white",
             "startlinecolor": "#2a3f5f"
            },
            "type": "carpet"
           }
          ],
          "choropleth": [
           {
            "colorbar": {
             "outlinewidth": 0,
             "ticks": ""
            },
            "type": "choropleth"
           }
          ],
          "contour": [
           {
            "colorbar": {
             "outlinewidth": 0,
             "ticks": ""
            },
            "colorscale": [
             [
              0,
              "#0d0887"
             ],
             [
              0.1111111111111111,
              "#46039f"
             ],
             [
              0.2222222222222222,
              "#7201a8"
             ],
             [
              0.3333333333333333,
              "#9c179e"
             ],
             [
              0.4444444444444444,
              "#bd3786"
             ],
             [
              0.5555555555555556,
              "#d8576b"
             ],
             [
              0.6666666666666666,
              "#ed7953"
             ],
             [
              0.7777777777777778,
              "#fb9f3a"
             ],
             [
              0.8888888888888888,
              "#fdca26"
             ],
             [
              1,
              "#f0f921"
             ]
            ],
            "type": "contour"
           }
          ],
          "contourcarpet": [
           {
            "colorbar": {
             "outlinewidth": 0,
             "ticks": ""
            },
            "type": "contourcarpet"
           }
          ],
          "heatmap": [
           {
            "colorbar": {
             "outlinewidth": 0,
             "ticks": ""
            },
            "colorscale": [
             [
              0,
              "#0d0887"
             ],
             [
              0.1111111111111111,
              "#46039f"
             ],
             [
              0.2222222222222222,
              "#7201a8"
             ],
             [
              0.3333333333333333,
              "#9c179e"
             ],
             [
              0.4444444444444444,
              "#bd3786"
             ],
             [
              0.5555555555555556,
              "#d8576b"
             ],
             [
              0.6666666666666666,
              "#ed7953"
             ],
             [
              0.7777777777777778,
              "#fb9f3a"
             ],
             [
              0.8888888888888888,
              "#fdca26"
             ],
             [
              1,
              "#f0f921"
             ]
            ],
            "type": "heatmap"
           }
          ],
          "heatmapgl": [
           {
            "colorbar": {
             "outlinewidth": 0,
             "ticks": ""
            },
            "colorscale": [
             [
              0,
              "#0d0887"
             ],
             [
              0.1111111111111111,
              "#46039f"
             ],
             [
              0.2222222222222222,
              "#7201a8"
             ],
             [
              0.3333333333333333,
              "#9c179e"
             ],
             [
              0.4444444444444444,
              "#bd3786"
             ],
             [
              0.5555555555555556,
              "#d8576b"
             ],
             [
              0.6666666666666666,
              "#ed7953"
             ],
             [
              0.7777777777777778,
              "#fb9f3a"
             ],
             [
              0.8888888888888888,
              "#fdca26"
             ],
             [
              1,
              "#f0f921"
             ]
            ],
            "type": "heatmapgl"
           }
          ],
          "histogram": [
           {
            "marker": {
             "pattern": {
              "fillmode": "overlay",
              "size": 10,
              "solidity": 0.2
             }
            },
            "type": "histogram"
           }
          ],
          "histogram2d": [
           {
            "colorbar": {
             "outlinewidth": 0,
             "ticks": ""
            },
            "colorscale": [
             [
              0,
              "#0d0887"
             ],
             [
              0.1111111111111111,
              "#46039f"
             ],
             [
              0.2222222222222222,
              "#7201a8"
             ],
             [
              0.3333333333333333,
              "#9c179e"
             ],
             [
              0.4444444444444444,
              "#bd3786"
             ],
             [
              0.5555555555555556,
              "#d8576b"
             ],
             [
              0.6666666666666666,
              "#ed7953"
             ],
             [
              0.7777777777777778,
              "#fb9f3a"
             ],
             [
              0.8888888888888888,
              "#fdca26"
             ],
             [
              1,
              "#f0f921"
             ]
            ],
            "type": "histogram2d"
           }
          ],
          "histogram2dcontour": [
           {
            "colorbar": {
             "outlinewidth": 0,
             "ticks": ""
            },
            "colorscale": [
             [
              0,
              "#0d0887"
             ],
             [
              0.1111111111111111,
              "#46039f"
             ],
             [
              0.2222222222222222,
              "#7201a8"
             ],
             [
              0.3333333333333333,
              "#9c179e"
             ],
             [
              0.4444444444444444,
              "#bd3786"
             ],
             [
              0.5555555555555556,
              "#d8576b"
             ],
             [
              0.6666666666666666,
              "#ed7953"
             ],
             [
              0.7777777777777778,
              "#fb9f3a"
             ],
             [
              0.8888888888888888,
              "#fdca26"
             ],
             [
              1,
              "#f0f921"
             ]
            ],
            "type": "histogram2dcontour"
           }
          ],
          "mesh3d": [
           {
            "colorbar": {
             "outlinewidth": 0,
             "ticks": ""
            },
            "type": "mesh3d"
           }
          ],
          "parcoords": [
           {
            "line": {
             "colorbar": {
              "outlinewidth": 0,
              "ticks": ""
             }
            },
            "type": "parcoords"
           }
          ],
          "pie": [
           {
            "automargin": true,
            "type": "pie"
           }
          ],
          "scatter": [
           {
            "fillpattern": {
             "fillmode": "overlay",
             "size": 10,
             "solidity": 0.2
            },
            "type": "scatter"
           }
          ],
          "scatter3d": [
           {
            "line": {
             "colorbar": {
              "outlinewidth": 0,
              "ticks": ""
             }
            },
            "marker": {
             "colorbar": {
              "outlinewidth": 0,
              "ticks": ""
             }
            },
            "type": "scatter3d"
           }
          ],
          "scattercarpet": [
           {
            "marker": {
             "colorbar": {
              "outlinewidth": 0,
              "ticks": ""
             }
            },
            "type": "scattercarpet"
           }
          ],
          "scattergeo": [
           {
            "marker": {
             "colorbar": {
              "outlinewidth": 0,
              "ticks": ""
             }
            },
            "type": "scattergeo"
           }
          ],
          "scattergl": [
           {
            "marker": {
             "colorbar": {
              "outlinewidth": 0,
              "ticks": ""
             }
            },
            "type": "scattergl"
           }
          ],
          "scattermapbox": [
           {
            "marker": {
             "colorbar": {
              "outlinewidth": 0,
              "ticks": ""
             }
            },
            "type": "scattermapbox"
           }
          ],
          "scatterpolar": [
           {
            "marker": {
             "colorbar": {
              "outlinewidth": 0,
              "ticks": ""
             }
            },
            "type": "scatterpolar"
           }
          ],
          "scatterpolargl": [
           {
            "marker": {
             "colorbar": {
              "outlinewidth": 0,
              "ticks": ""
             }
            },
            "type": "scatterpolargl"
           }
          ],
          "scatterternary": [
           {
            "marker": {
             "colorbar": {
              "outlinewidth": 0,
              "ticks": ""
             }
            },
            "type": "scatterternary"
           }
          ],
          "surface": [
           {
            "colorbar": {
             "outlinewidth": 0,
             "ticks": ""
            },
            "colorscale": [
             [
              0,
              "#0d0887"
             ],
             [
              0.1111111111111111,
              "#46039f"
             ],
             [
              0.2222222222222222,
              "#7201a8"
             ],
             [
              0.3333333333333333,
              "#9c179e"
             ],
             [
              0.4444444444444444,
              "#bd3786"
             ],
             [
              0.5555555555555556,
              "#d8576b"
             ],
             [
              0.6666666666666666,
              "#ed7953"
             ],
             [
              0.7777777777777778,
              "#fb9f3a"
             ],
             [
              0.8888888888888888,
              "#fdca26"
             ],
             [
              1,
              "#f0f921"
             ]
            ],
            "type": "surface"
           }
          ],
          "table": [
           {
            "cells": {
             "fill": {
              "color": "#EBF0F8"
             },
             "line": {
              "color": "white"
             }
            },
            "header": {
             "fill": {
              "color": "#C8D4E3"
             },
             "line": {
              "color": "white"
             }
            },
            "type": "table"
           }
          ]
         },
         "layout": {
          "annotationdefaults": {
           "arrowcolor": "#2a3f5f",
           "arrowhead": 0,
           "arrowwidth": 1
          },
          "autotypenumbers": "strict",
          "coloraxis": {
           "colorbar": {
            "outlinewidth": 0,
            "ticks": ""
           }
          },
          "colorscale": {
           "diverging": [
            [
             0,
             "#8e0152"
            ],
            [
             0.1,
             "#c51b7d"
            ],
            [
             0.2,
             "#de77ae"
            ],
            [
             0.3,
             "#f1b6da"
            ],
            [
             0.4,
             "#fde0ef"
            ],
            [
             0.5,
             "#f7f7f7"
            ],
            [
             0.6,
             "#e6f5d0"
            ],
            [
             0.7,
             "#b8e186"
            ],
            [
             0.8,
             "#7fbc41"
            ],
            [
             0.9,
             "#4d9221"
            ],
            [
             1,
             "#276419"
            ]
           ],
           "sequential": [
            [
             0,
             "#0d0887"
            ],
            [
             0.1111111111111111,
             "#46039f"
            ],
            [
             0.2222222222222222,
             "#7201a8"
            ],
            [
             0.3333333333333333,
             "#9c179e"
            ],
            [
             0.4444444444444444,
             "#bd3786"
            ],
            [
             0.5555555555555556,
             "#d8576b"
            ],
            [
             0.6666666666666666,
             "#ed7953"
            ],
            [
             0.7777777777777778,
             "#fb9f3a"
            ],
            [
             0.8888888888888888,
             "#fdca26"
            ],
            [
             1,
             "#f0f921"
            ]
           ],
           "sequentialminus": [
            [
             0,
             "#0d0887"
            ],
            [
             0.1111111111111111,
             "#46039f"
            ],
            [
             0.2222222222222222,
             "#7201a8"
            ],
            [
             0.3333333333333333,
             "#9c179e"
            ],
            [
             0.4444444444444444,
             "#bd3786"
            ],
            [
             0.5555555555555556,
             "#d8576b"
            ],
            [
             0.6666666666666666,
             "#ed7953"
            ],
            [
             0.7777777777777778,
             "#fb9f3a"
            ],
            [
             0.8888888888888888,
             "#fdca26"
            ],
            [
             1,
             "#f0f921"
            ]
           ]
          },
          "colorway": [
           "#636efa",
           "#EF553B",
           "#00cc96",
           "#ab63fa",
           "#FFA15A",
           "#19d3f3",
           "#FF6692",
           "#B6E880",
           "#FF97FF",
           "#FECB52"
          ],
          "font": {
           "color": "#2a3f5f"
          },
          "geo": {
           "bgcolor": "white",
           "lakecolor": "white",
           "landcolor": "#E5ECF6",
           "showlakes": true,
           "showland": true,
           "subunitcolor": "white"
          },
          "hoverlabel": {
           "align": "left"
          },
          "hovermode": "closest",
          "mapbox": {
           "style": "light"
          },
          "paper_bgcolor": "white",
          "plot_bgcolor": "#E5ECF6",
          "polar": {
           "angularaxis": {
            "gridcolor": "white",
            "linecolor": "white",
            "ticks": ""
           },
           "bgcolor": "#E5ECF6",
           "radialaxis": {
            "gridcolor": "white",
            "linecolor": "white",
            "ticks": ""
           }
          },
          "scene": {
           "xaxis": {
            "backgroundcolor": "#E5ECF6",
            "gridcolor": "white",
            "gridwidth": 2,
            "linecolor": "white",
            "showbackground": true,
            "ticks": "",
            "zerolinecolor": "white"
           },
           "yaxis": {
            "backgroundcolor": "#E5ECF6",
            "gridcolor": "white",
            "gridwidth": 2,
            "linecolor": "white",
            "showbackground": true,
            "ticks": "",
            "zerolinecolor": "white"
           },
           "zaxis": {
            "backgroundcolor": "#E5ECF6",
            "gridcolor": "white",
            "gridwidth": 2,
            "linecolor": "white",
            "showbackground": true,
            "ticks": "",
            "zerolinecolor": "white"
           }
          },
          "shapedefaults": {
           "line": {
            "color": "#2a3f5f"
           }
          },
          "ternary": {
           "aaxis": {
            "gridcolor": "white",
            "linecolor": "white",
            "ticks": ""
           },
           "baxis": {
            "gridcolor": "white",
            "linecolor": "white",
            "ticks": ""
           },
           "bgcolor": "#E5ECF6",
           "caxis": {
            "gridcolor": "white",
            "linecolor": "white",
            "ticks": ""
           }
          },
          "title": {
           "x": 0.05
          },
          "xaxis": {
           "automargin": true,
           "gridcolor": "white",
           "linecolor": "white",
           "ticks": "",
           "title": {
            "standoff": 15
           },
           "zerolinecolor": "white",
           "zerolinewidth": 2
          },
          "yaxis": {
           "automargin": true,
           "gridcolor": "white",
           "linecolor": "white",
           "ticks": "",
           "title": {
            "standoff": 15
           },
           "zerolinecolor": "white",
           "zerolinewidth": 2
          }
         }
        },
        "title": {
         "text": "GPA Distribution by Gender"
        },
        "xaxis": {
         "anchor": "y",
         "domain": [
          0,
          1
         ],
         "title": {
          "text": "GPA"
         }
        },
        "xaxis2": {
         "anchor": "y2",
         "domain": [
          0,
          1
         ],
         "matches": "x",
         "showgrid": true,
         "showticklabels": false
        },
        "yaxis": {
         "anchor": "x",
         "domain": [
          0,
          0.7326
         ],
         "title": {
          "text": "count"
         }
        },
        "yaxis2": {
         "anchor": "x2",
         "domain": [
          0.7426,
          1
         ],
         "matches": "y2",
         "showgrid": false,
         "showline": false,
         "showticklabels": false,
         "ticks": ""
        }
       }
      }
     },
     "metadata": {},
     "output_type": "display_data"
    }
   ],
   "source": [
    "px.histogram(df, x=\"GPA\", color=\"Gender\", marginal=\"box\", title=\"GPA Distribution by Gender\")"
   ]
  },
  {
   "cell_type": "code",
   "execution_count": 29,
   "id": "e4369ced",
   "metadata": {},
   "outputs": [
    {
     "data": {
      "image/png": "[encoded data removed]",
      "text/plain": [
       "<Figure size 1500x1500 with 1 Axes>"
      ]
     },
     "metadata": {},
     "output_type": "display_data"
    }
   ],
   "source": [
    "# Create a bar chart using seaborn\n",
    "plt.figure(figsize=(15, 15))\n",
    "sns.countplot(x='Future Career', hue='Gender', data=df, palette='viridis')\n",
    "\n",
    "# Add titles and labels\n",
    "plt.title('Gender-Based Career Trends in Computer Science', fontsize=16)\n",
    "plt.xlabel('Future Career', fontsize=12)\n",
    "plt.ylabel('Count', fontsize=12)\n",
    "\n",
    "# Rotate x labels for better readability\n",
    "plt.xticks(rotation=45)\n",
    "\n",
    "# Show the plot\n",
    "plt.tight_layout()\n",
    "plt.show()"
   ]
  },
  {
   "cell_type": "code",
   "execution_count": 30,
   "id": "e56cd68e",
   "metadata": {},
   "outputs": [
    {
     "data": {
      "application/vnd.plotly.v1+json": {
       "config": {
        "plotlyServerURL": "https://plot.ly"
       },
       "data": [
        {
         "alignmentgroup": "True",
         "hovertemplate": "Future Career=Machine Learning Researcher<br>Interested Domain=%{x}<br>count=%{y}<extra></extra>",
         "legendgroup": "Machine Learning Researcher",
         "marker": {
          "color": "#636efa",
          "pattern": {
           "shape": ""
          }
         },
         "name": "Machine Learning Researcher",
         "offsetgroup": "Machine Learning Researcher",
         "orientation": "v",
         "showlegend": true,
         "textposition": "auto",
         "type": "bar",
         "x": [
          "Artificial Intelligence"
         ],
         "xaxis": "x",
         "y": [
          1
         ],
         "yaxis": "y"
        },
        {
         "alignmentgroup": "True",
         "hovertemplate": "Future Career=Data Scientist<br>Interested Domain=%{x}<br>count=%{y}<extra></extra>",
         "legendgroup": "Data Scientist",
         "marker": {
          "color": "#EF553B",
          "pattern": {
           "shape": ""
          }
         },
         "name": "Data Scientist",
         "offsetgroup": "Data Scientist",
         "orientation": "v",
         "showlegend": true,
         "textposition": "auto",
         "type": "bar",
         "x": [
          "Data Science",
          "Data Science",
          "Data Science",
          "Data Science",
          "Data Science",
          "Data Science",
          "Data Science",
          "Data Science"
         ],
         "xaxis": "x",
         "y": [
          1,
          1,
          1,
          1,
          1,
          1,
          1,
          1
         ],
         "yaxis": "y"
        },
        {
         "alignmentgroup": "True",
         "hovertemplate": "Future Career=Software Engineer<br>Interested Domain=%{x}<br>count=%{y}<extra></extra>",
         "legendgroup": "Software Engineer",
         "marker": {
          "color": "#00cc96",
          "pattern": {
           "shape": ""
          }
         },
         "name": "Software Engineer",
         "offsetgroup": "Software Engineer",
         "orientation": "v",
         "showlegend": true,
         "textposition": "auto",
         "type": "bar",
         "x": [
          "Software Development",
          "Software Engineering",
          "Software Engineering",
          "Software Engineering",
          "Software Development",
          "Software Development",
          "Software Development",
          "Software Development",
          "Software Development",
          "Software Development",
          "Software Engineering",
          "Software Development",
          "Software Development",
          "Software Development"
         ],
         "xaxis": "x",
         "y": [
          1,
          1,
          1,
          1,
          1,
          1,
          1,
          1,
          1,
          1,
          1,
          1,
          1,
          1
         ],
         "yaxis": "y"
        },
        {
         "alignmentgroup": "True",
         "hovertemplate": "Future Career=Web Developer<br>Interested Domain=%{x}<br>count=%{y}<extra></extra>",
         "legendgroup": "Web Developer",
         "marker": {
          "color": "#ab63fa",
          "pattern": {
           "shape": ""
          }
         },
         "name": "Web Developer",
         "offsetgroup": "Web Developer",
         "orientation": "v",
         "showlegend": true,
         "textposition": "auto",
         "type": "bar",
         "x": [
          "Web Development",
          "Web Development",
          "Web Development",
          "Web Development",
          "Web Development",
          "Web Development",
          "Web Development",
          "Web Development",
          "Web Development",
          "Web Development",
          "Web Development",
          "Web Development",
          "Web Development",
          "Web Development",
          "Web Development",
          "Web Development",
          "Web Development",
          "Web Development",
          "Web Development"
         ],
         "xaxis": "x",
         "y": [
          1,
          1,
          1,
          1,
          1,
          1,
          1,
          1,
          1,
          1,
          1,
          1,
          1,
          1,
          1,
          1,
          1,
          1,
          1
         ],
         "yaxis": "y"
        },
        {
         "alignmentgroup": "True",
         "hovertemplate": "Future Career=Information Security Analyst<br>Interested Domain=%{x}<br>count=%{y}<extra></extra>",
         "legendgroup": "Information Security Analyst",
         "marker": {
          "color": "#FFA15A",
          "pattern": {
           "shape": ""
          }
         },
         "name": "Information Security Analyst",
         "offsetgroup": "Information Security Analyst",
         "orientation": "v",
         "showlegend": true,
         "textposition": "auto",
         "type": "bar",
         "x": [
          "Cybersecurity",
          "Cybersecurity",
          "Cybersecurity",
          "Cybersecurity",
          "Cybersecurity",
          "Cybersecurity",
          "Cybersecurity",
          "Cybersecurity",
          "Cybersecurity",
          "Cybersecurity",
          "Cybersecurity",
          "Cybersecurity",
          "Cybersecurity",
          "Cybersecurity",
          "Cybersecurity",
          "Cybersecurity",
          "Cybersecurity"
         ],
         "xaxis": "x",
         "y": [
          1,
          1,
          1,
          1,
          1,
          1,
          1,
          1,
          1,
          1,
          1,
          1,
          1,
          1,
          1,
          1,
          1
         ],
         "yaxis": "y"
        },
        {
         "alignmentgroup": "True",
         "hovertemplate": "Future Career=Machine Learning Engineer<br>Interested Domain=%{x}<br>count=%{y}<extra></extra>",
         "legendgroup": "Machine Learning Engineer",
         "marker": {
          "color": "#19d3f3",
          "pattern": {
           "shape": ""
          }
         },
         "name": "Machine Learning Engineer",
         "offsetgroup": "Machine Learning Engineer",
         "orientation": "v",
         "showlegend": true,
         "textposition": "auto",
         "type": "bar",
         "x": [
          "Machine Learning",
          "Machine Learning",
          "Machine Learning",
          "Machine Learning",
          "Machine Learning",
          "Machine Learning",
          "Machine Learning",
          "Machine Learning",
          "Machine Learning",
          "Machine Learning",
          "Machine Learning",
          "Machine Learning",
          "Machine Learning"
         ],
         "xaxis": "x",
         "y": [
          1,
          1,
          1,
          1,
          1,
          1,
          1,
          1,
          1,
          1,
          1,
          1,
          1
         ],
         "yaxis": "y"
        },
        {
         "alignmentgroup": "True",
         "hovertemplate": "Future Career=Database Administrator<br>Interested Domain=%{x}<br>count=%{y}<extra></extra>",
         "legendgroup": "Database Administrator",
         "marker": {
          "color": "#FF6692",
          "pattern": {
           "shape": ""
          }
         },
         "name": "Database Administrator",
         "offsetgroup": "Database Administrator",
         "orientation": "v",
         "showlegend": true,
         "textposition": "auto",
         "type": "bar",
         "x": [
          "Database Management",
          "Database Management",
          "Database Management",
          "Database Management",
          "Database Management",
          "Database Management",
          "Database Management",
          "Database Management",
          "Database Management",
          "Database Management",
          "Database Management",
          "Database Management",
          "Database Management",
          "Database Management",
          "Database Management",
          "Database Management"
         ],
         "xaxis": "x",
         "y": [
          1,
          1,
          1,
          1,
          1,
          1,
          1,
          1,
          1,
          1,
          1,
          1,
          1,
          1,
          1,
          1
         ],
         "yaxis": "y"
        },
        {
         "alignmentgroup": "True",
         "hovertemplate": "Future Career=Cloud Solutions Architect<br>Interested Domain=%{x}<br>count=%{y}<extra></extra>",
         "legendgroup": "Cloud Solutions Architect",
         "marker": {
          "color": "#B6E880",
          "pattern": {
           "shape": ""
          }
         },
         "name": "Cloud Solutions Architect",
         "offsetgroup": "Cloud Solutions Architect",
         "orientation": "v",
         "showlegend": true,
         "textposition": "auto",
         "type": "bar",
         "x": [
          "Cloud Computing",
          "Cloud Computing",
          "Cloud Computing",
          "Cloud Computing",
          "Cloud Computing",
          "Cloud Computing",
          "Cloud Computing",
          "Cloud Computing",
          "Cloud Computing",
          "Cloud Computing",
          "Cloud Computing",
          "Cloud Computing",
          "Cloud Computing",
          "Cloud Computing",
          "Cloud Computing",
          "Cloud Computing"
         ],
         "xaxis": "x",
         "y": [
          1,
          1,
          1,
          1,
          1,
          1,
          1,
          1,
          1,
          1,
          1,
          1,
          1,
          1,
          1,
          1
         ],
         "yaxis": "y"
        },
        {
         "alignmentgroup": "True",
         "hovertemplate": "Future Career=Mobile App Developer<br>Interested Domain=%{x}<br>count=%{y}<extra></extra>",
         "legendgroup": "Mobile App Developer",
         "marker": {
          "color": "#FF97FF",
          "pattern": {
           "shape": ""
          }
         },
         "name": "Mobile App Developer",
         "offsetgroup": "Mobile App Developer",
         "orientation": "v",
         "showlegend": true,
         "textposition": "auto",
         "type": "bar",
         "x": [
          "Mobile App Development",
          "Mobile App Development",
          "Mobile App Development",
          "Mobile App Development",
          "Mobile App Development",
          "Mobile App Development",
          "Mobile App Development",
          "Mobile App Development",
          "Mobile App Development",
          "Mobile App Development",
          "Mobile App Development",
          "Mobile App Development",
          "Mobile App Development",
          "Mobile App Development",
          "Mobile App Development",
          "Mobile App Development",
          "Mobile App Development"
         ],
         "xaxis": "x",
         "y": [
          1,
          1,
          1,
          1,
          1,
          1,
          1,
          1,
          1,
          1,
          1,
          1,
          1,
          1,
          1,
          1,
          1
         ],
         "yaxis": "y"
        },
        {
         "alignmentgroup": "True",
         "hovertemplate": "Future Career=Graphics Programmer<br>Interested Domain=%{x}<br>count=%{y}<extra></extra>",
         "legendgroup": "Graphics Programmer",
         "marker": {
          "color": "#FECB52",
          "pattern": {
           "shape": ""
          }
         },
         "name": "Graphics Programmer",
         "offsetgroup": "Graphics Programmer",
         "orientation": "v",
         "showlegend": true,
         "textposition": "auto",
         "type": "bar",
         "x": [
          "Computer Graphics",
          "Computer Graphics",
          "Computer Graphics",
          "Computer Graphics",
          "Computer Graphics",
          "Computer Graphics",
          "Computer Graphics",
          "Computer Graphics",
          "Computer Graphics"
         ],
         "xaxis": "x",
         "y": [
          1,
          1,
          1,
          1,
          1,
          1,
          1,
          1,
          1
         ],
         "yaxis": "y"
        },
        {
         "alignmentgroup": "True",
         "hovertemplate": "Future Career=NLP Research Scientist<br>Interested Domain=%{x}<br>count=%{y}<extra></extra>",
         "legendgroup": "NLP Research Scientist",
         "marker": {
          "color": "#636efa",
          "pattern": {
           "shape": ""
          }
         },
         "name": "NLP Research Scientist",
         "offsetgroup": "NLP Research Scientist",
         "orientation": "v",
         "showlegend": true,
         "textposition": "auto",
         "type": "bar",
         "x": [
          "Artificial Intelligence",
          "Artificial Intelligence",
          "Artificial Intelligence",
          "Artificial Intelligence",
          "Artificial Intelligence",
          "Artificial Intelligence",
          "Artificial Intelligence",
          "Artificial Intelligence",
          "Artificial Intelligence",
          "Artificial Intelligence",
          "Artificial Intelligence"
         ],
         "xaxis": "x",
         "y": [
          1,
          1,
          1,
          1,
          1,
          1,
          1,
          1,
          1,
          1,
          1
         ],
         "yaxis": "y"
        },
        {
         "alignmentgroup": "True",
         "hovertemplate": "Future Career=Game Developer<br>Interested Domain=%{x}<br>count=%{y}<extra></extra>",
         "legendgroup": "Game Developer",
         "marker": {
          "color": "#EF553B",
          "pattern": {
           "shape": ""
          }
         },
         "name": "Game Developer",
         "offsetgroup": "Game Developer",
         "orientation": "v",
         "showlegend": true,
         "textposition": "auto",
         "type": "bar",
         "x": [
          "Computer Graphics",
          "Computer Graphics",
          "Computer Graphics",
          "Game Development"
         ],
         "xaxis": "x",
         "y": [
          1,
          1,
          1,
          1
         ],
         "yaxis": "y"
        },
        {
         "alignmentgroup": "True",
         "hovertemplate": "Future Career=Security Analyst<br>Interested Domain=%{x}<br>count=%{y}<extra></extra>",
         "legendgroup": "Security Analyst",
         "marker": {
          "color": "#00cc96",
          "pattern": {
           "shape": ""
          }
         },
         "name": "Security Analyst",
         "offsetgroup": "Security Analyst",
         "orientation": "v",
         "showlegend": true,
         "textposition": "auto",
         "type": "bar",
         "x": [
          "Network Security"
         ],
         "xaxis": "x",
         "y": [
          1
         ],
         "yaxis": "y"
        },
        {
         "alignmentgroup": "True",
         "hovertemplate": "Future Career=Embedded Software Engineer<br>Interested Domain=%{x}<br>count=%{y}<extra></extra>",
         "legendgroup": "Embedded Software Engineer",
         "marker": {
          "color": "#ab63fa",
          "pattern": {
           "shape": ""
          }
         },
         "name": "Embedded Software Engineer",
         "offsetgroup": "Embedded Software Engineer",
         "orientation": "v",
         "showlegend": true,
         "textposition": "auto",
         "type": "bar",
         "x": [
          "Software Development"
         ],
         "xaxis": "x",
         "y": [
          1
         ],
         "yaxis": "y"
        },
        {
         "alignmentgroup": "True",
         "hovertemplate": "Future Career=Data Analyst<br>Interested Domain=%{x}<br>count=%{y}<extra></extra>",
         "legendgroup": "Data Analyst",
         "marker": {
          "color": "#FFA15A",
          "pattern": {
           "shape": ""
          }
         },
         "name": "Data Analyst",
         "offsetgroup": "Data Analyst",
         "orientation": "v",
         "showlegend": true,
         "textposition": "auto",
         "type": "bar",
         "x": [
          "Data Science",
          "Data Mining",
          "Data Science",
          "Data Science",
          "Data Science",
          "Data Science"
         ],
         "xaxis": "x",
         "y": [
          1,
          1,
          1,
          1,
          1,
          1
         ],
         "yaxis": "y"
        },
        {
         "alignmentgroup": "True",
         "hovertemplate": "Future Career=Robotics Engineer<br>Interested Domain=%{x}<br>count=%{y}<extra></extra>",
         "legendgroup": "Robotics Engineer",
         "marker": {
          "color": "#19d3f3",
          "pattern": {
           "shape": ""
          }
         },
         "name": "Robotics Engineer",
         "offsetgroup": "Robotics Engineer",
         "orientation": "v",
         "showlegend": true,
         "textposition": "auto",
         "type": "bar",
         "x": [
          "Artificial Intelligence"
         ],
         "xaxis": "x",
         "y": [
          1
         ],
         "yaxis": "y"
        },
        {
         "alignmentgroup": "True",
         "hovertemplate": "Future Career=Ethical Hacker<br>Interested Domain=%{x}<br>count=%{y}<extra></extra>",
         "legendgroup": "Ethical Hacker",
         "marker": {
          "color": "#FF6692",
          "pattern": {
           "shape": ""
          }
         },
         "name": "Ethical Hacker",
         "offsetgroup": "Ethical Hacker",
         "orientation": "v",
         "showlegend": true,
         "textposition": "auto",
         "type": "bar",
         "x": [
          "Cybersecurity"
         ],
         "xaxis": "x",
         "y": [
          1
         ],
         "yaxis": "y"
        },
        {
         "alignmentgroup": "True",
         "hovertemplate": "Future Career=Computer Vision Engineer<br>Interested Domain=%{x}<br>count=%{y}<extra></extra>",
         "legendgroup": "Computer Vision Engineer",
         "marker": {
          "color": "#B6E880",
          "pattern": {
           "shape": ""
          }
         },
         "name": "Computer Vision Engineer",
         "offsetgroup": "Computer Vision Engineer",
         "orientation": "v",
         "showlegend": true,
         "textposition": "auto",
         "type": "bar",
         "x": [
          "Computer Vision"
         ],
         "xaxis": "x",
         "y": [
          1
         ],
         "yaxis": "y"
        },
        {
         "alignmentgroup": "True",
         "hovertemplate": "Future Career=DevOps Engineer<br>Interested Domain=%{x}<br>count=%{y}<extra></extra>",
         "legendgroup": "DevOps Engineer",
         "marker": {
          "color": "#FF97FF",
          "pattern": {
           "shape": ""
          }
         },
         "name": "DevOps Engineer",
         "offsetgroup": "DevOps Engineer",
         "orientation": "v",
         "showlegend": true,
         "textposition": "auto",
         "type": "bar",
         "x": [
          "Software Engineering"
         ],
         "xaxis": "x",
         "y": [
          1
         ],
         "yaxis": "y"
        },
        {
         "alignmentgroup": "True",
         "hovertemplate": "Future Career=Bioinformatician<br>Interested Domain=%{x}<br>count=%{y}<extra></extra>",
         "legendgroup": "Bioinformatician",
         "marker": {
          "color": "#FECB52",
          "pattern": {
           "shape": ""
          }
         },
         "name": "Bioinformatician",
         "offsetgroup": "Bioinformatician",
         "orientation": "v",
         "showlegend": true,
         "textposition": "auto",
         "type": "bar",
         "x": [
          "Bioinformatics",
          "Bioinformatics"
         ],
         "xaxis": "x",
         "y": [
          1,
          1
         ],
         "yaxis": "y"
        },
        {
         "alignmentgroup": "True",
         "hovertemplate": "Future Career=IoT Developer<br>Interested Domain=%{x}<br>count=%{y}<extra></extra>",
         "legendgroup": "IoT Developer",
         "marker": {
          "color": "#636efa",
          "pattern": {
           "shape": ""
          }
         },
         "name": "IoT Developer",
         "offsetgroup": "IoT Developer",
         "orientation": "v",
         "showlegend": true,
         "textposition": "auto",
         "type": "bar",
         "x": [
          "IoT (Internet of Things)"
         ],
         "xaxis": "x",
         "y": [
          1
         ],
         "yaxis": "y"
        },
        {
         "alignmentgroup": "True",
         "hovertemplate": "Future Career=NLP Engineer<br>Interested Domain=%{x}<br>count=%{y}<extra></extra>",
         "legendgroup": "NLP Engineer",
         "marker": {
          "color": "#EF553B",
          "pattern": {
           "shape": ""
          }
         },
         "name": "NLP Engineer",
         "offsetgroup": "NLP Engineer",
         "orientation": "v",
         "showlegend": true,
         "textposition": "auto",
         "type": "bar",
         "x": [
          "Natural Language Processing"
         ],
         "xaxis": "x",
         "y": [
          1
         ],
         "yaxis": "y"
        },
        {
         "alignmentgroup": "True",
         "hovertemplate": "Future Career=UX Designer<br>Interested Domain=%{x}<br>count=%{y}<extra></extra>",
         "legendgroup": "UX Designer",
         "marker": {
          "color": "#00cc96",
          "pattern": {
           "shape": ""
          }
         },
         "name": "UX Designer",
         "offsetgroup": "UX Designer",
         "orientation": "v",
         "showlegend": true,
         "textposition": "auto",
         "type": "bar",
         "x": [
          "Human-Computer Interaction",
          "Human-Computer Interaction"
         ],
         "xaxis": "x",
         "y": [
          1,
          1
         ],
         "yaxis": "y"
        },
        {
         "alignmentgroup": "True",
         "hovertemplate": "Future Career=Healthcare IT Specialist<br>Interested Domain=%{x}<br>count=%{y}<extra></extra>",
         "legendgroup": "Healthcare IT Specialist",
         "marker": {
          "color": "#ab63fa",
          "pattern": {
           "shape": ""
          }
         },
         "name": "Healthcare IT Specialist",
         "offsetgroup": "Healthcare IT Specialist",
         "orientation": "v",
         "showlegend": true,
         "textposition": "auto",
         "type": "bar",
         "x": [
          "Biomedical Computing",
          "Biomedical Computing"
         ],
         "xaxis": "x",
         "y": [
          1,
          1
         ],
         "yaxis": "y"
        },
        {
         "alignmentgroup": "True",
         "hovertemplate": "Future Career=Quantum Computing Researcher<br>Interested Domain=%{x}<br>count=%{y}<extra></extra>",
         "legendgroup": "Quantum Computing Researcher",
         "marker": {
          "color": "#FFA15A",
          "pattern": {
           "shape": ""
          }
         },
         "name": "Quantum Computing Researcher",
         "offsetgroup": "Quantum Computing Researcher",
         "orientation": "v",
         "showlegend": true,
         "textposition": "auto",
         "type": "bar",
         "x": [
          "Quantum Computing",
          "Quantum Computing"
         ],
         "xaxis": "x",
         "y": [
          1,
          1
         ],
         "yaxis": "y"
        },
        {
         "alignmentgroup": "True",
         "hovertemplate": "Future Career=VR Developer<br>Interested Domain=%{x}<br>count=%{y}<extra></extra>",
         "legendgroup": "VR Developer",
         "marker": {
          "color": "#19d3f3",
          "pattern": {
           "shape": ""
          }
         },
         "name": "VR Developer",
         "offsetgroup": "VR Developer",
         "orientation": "v",
         "showlegend": true,
         "textposition": "auto",
         "type": "bar",
         "x": [
          "Computer Graphics"
         ],
         "xaxis": "x",
         "y": [
          1
         ],
         "yaxis": "y"
        },
        {
         "alignmentgroup": "True",
         "hovertemplate": "Future Career=Blockchain Engineer<br>Interested Domain=%{x}<br>count=%{y}<extra></extra>",
         "legendgroup": "Blockchain Engineer",
         "marker": {
          "color": "#FF6692",
          "pattern": {
           "shape": ""
          }
         },
         "name": "Blockchain Engineer",
         "offsetgroup": "Blockchain Engineer",
         "orientation": "v",
         "showlegend": true,
         "textposition": "auto",
         "type": "bar",
         "x": [
          "Blockchain Technology"
         ],
         "xaxis": "x",
         "y": [
          1
         ],
         "yaxis": "y"
        },
        {
         "alignmentgroup": "True",
         "hovertemplate": "Future Career=SEO Specialist<br>Interested Domain=%{x}<br>count=%{y}<extra></extra>",
         "legendgroup": "SEO Specialist",
         "marker": {
          "color": "#B6E880",
          "pattern": {
           "shape": ""
          }
         },
         "name": "SEO Specialist",
         "offsetgroup": "SEO Specialist",
         "orientation": "v",
         "showlegend": true,
         "textposition": "auto",
         "type": "bar",
         "x": [
          "Information Retrieval"
         ],
         "xaxis": "x",
         "y": [
          1
         ],
         "yaxis": "y"
        },
        {
         "alignmentgroup": "True",
         "hovertemplate": "Future Career=Data Privacy Specialist<br>Interested Domain=%{x}<br>count=%{y}<extra></extra>",
         "legendgroup": "Data Privacy Specialist",
         "marker": {
          "color": "#FF97FF",
          "pattern": {
           "shape": ""
          }
         },
         "name": "Data Privacy Specialist",
         "offsetgroup": "Data Privacy Specialist",
         "orientation": "v",
         "showlegend": true,
         "textposition": "auto",
         "type": "bar",
         "x": [
          "Data Privacy"
         ],
         "xaxis": "x",
         "y": [
          1
         ],
         "yaxis": "y"
        },
        {
         "alignmentgroup": "True",
         "hovertemplate": "Future Career=Geospatial Analyst<br>Interested Domain=%{x}<br>count=%{y}<extra></extra>",
         "legendgroup": "Geospatial Analyst",
         "marker": {
          "color": "#FECB52",
          "pattern": {
           "shape": ""
          }
         },
         "name": "Geospatial Analyst",
         "offsetgroup": "Geospatial Analyst",
         "orientation": "v",
         "showlegend": true,
         "textposition": "auto",
         "type": "bar",
         "x": [
          "Geographic Information Systems"
         ],
         "xaxis": "x",
         "y": [
          1
         ],
         "yaxis": "y"
        },
        {
         "alignmentgroup": "True",
         "hovertemplate": "Future Career=Distributed Systems Engineer<br>Interested Domain=%{x}<br>count=%{y}<extra></extra>",
         "legendgroup": "Distributed Systems Engineer",
         "marker": {
          "color": "#636efa",
          "pattern": {
           "shape": ""
          }
         },
         "name": "Distributed Systems Engineer",
         "offsetgroup": "Distributed Systems Engineer",
         "orientation": "v",
         "showlegend": true,
         "textposition": "auto",
         "type": "bar",
         "x": [
          "Distributed Systems"
         ],
         "xaxis": "x",
         "y": [
          1
         ],
         "yaxis": "y"
        },
        {
         "alignmentgroup": "True",
         "hovertemplate": "Future Career=Digital Forensics Specialist<br>Interested Domain=%{x}<br>count=%{y}<extra></extra>",
         "legendgroup": "Digital Forensics Specialist",
         "marker": {
          "color": "#EF553B",
          "pattern": {
           "shape": ""
          }
         },
         "name": "Digital Forensics Specialist",
         "offsetgroup": "Digital Forensics Specialist",
         "orientation": "v",
         "showlegend": true,
         "textposition": "auto",
         "type": "bar",
         "x": [
          "Digital Forensics"
         ],
         "xaxis": "x",
         "y": [
          1
         ],
         "yaxis": "y"
        },
        {
         "alignmentgroup": "True",
         "hovertemplate": "Future Career=AI Researcher<br>Interested Domain=%{x}<br>count=%{y}<extra></extra>",
         "legendgroup": "AI Researcher",
         "marker": {
          "color": "#00cc96",
          "pattern": {
           "shape": ""
          }
         },
         "name": "AI Researcher",
         "offsetgroup": "AI Researcher",
         "orientation": "v",
         "showlegend": true,
         "textposition": "auto",
         "type": "bar",
         "x": [
          "Artificial Intelligence",
          "Artificial Intelligence",
          "Artificial Intelligence",
          "Artificial Intelligence",
          "Artificial Intelligence",
          "Artificial Intelligence"
         ],
         "xaxis": "x",
         "y": [
          1,
          1,
          1,
          1,
          1,
          1
         ],
         "yaxis": "y"
        }
       ],
       "layout": {
        "barmode": "group",
        "legend": {
         "title": {
          "text": "Future Career"
         },
         "tracegroupgap": 0
        },
        "template": {
         "data": {
          "bar": [
           {
            "error_x": {
             "color": "#2a3f5f"
            },
            "error_y": {
             "color": "#2a3f5f"
            },
            "marker": {
             "line": {
              "color": "#E5ECF6",
              "width": 0.5
             },
             "pattern": {
              "fillmode": "overlay",
              "size": 10,
              "solidity": 0.2
             }
            },
            "type": "bar"
           }
          ],
          "barpolar": [
           {
            "marker": {
             "line": {
              "color": "#E5ECF6",
              "width": 0.5
             },
             "pattern": {
              "fillmode": "overlay",
              "size": 10,
              "solidity": 0.2
             }
            },
            "type": "barpolar"
           }
          ],
          "carpet": [
           {
            "aaxis": {
             "endlinecolor": "#2a3f5f",
             "gridcolor": "white",
             "linecolor": "white",
             "minorgridcolor": "white",
             "startlinecolor": "#2a3f5f"
            },
            "baxis": {
             "endlinecolor": "#2a3f5f",
             "gridcolor": "white",
             "linecolor": "white",
             "minorgridcolor": "white",
             "startlinecolor": "#2a3f5f"
            },
            "type": "carpet"
           }
          ],
          "choropleth": [
           {
            "colorbar": {
             "outlinewidth": 0,
             "ticks": ""
            },
            "type": "choropleth"
           }
          ],
          "contour": [
           {
            "colorbar": {
             "outlinewidth": 0,
             "ticks": ""
            },
            "colorscale": [
             [
              0,
              "#0d0887"
             ],
             [
              0.1111111111111111,
              "#46039f"
             ],
             [
              0.2222222222222222,
              "#7201a8"
             ],
             [
              0.3333333333333333,
              "#9c179e"
             ],
             [
              0.4444444444444444,
              "#bd3786"
             ],
             [
              0.5555555555555556,
              "#d8576b"
             ],
             [
              0.6666666666666666,
              "#ed7953"
             ],
             [
              0.7777777777777778,
              "#fb9f3a"
             ],
             [
              0.8888888888888888,
              "#fdca26"
             ],
             [
              1,
              "#f0f921"
             ]
            ],
            "type": "contour"
           }
          ],
          "contourcarpet": [
           {
            "colorbar": {
             "outlinewidth": 0,
             "ticks": ""
            },
            "type": "contourcarpet"
           }
          ],
          "heatmap": [
           {
            "colorbar": {
             "outlinewidth": 0,
             "ticks": ""
            },
            "colorscale": [
             [
              0,
              "#0d0887"
             ],
             [
              0.1111111111111111,
              "#46039f"
             ],
             [
              0.2222222222222222,
              "#7201a8"
             ],
             [
              0.3333333333333333,
              "#9c179e"
             ],
             [
              0.4444444444444444,
              "#bd3786"
             ],
             [
              0.5555555555555556,
              "#d8576b"
             ],
             [
              0.6666666666666666,
              "#ed7953"
             ],
             [
              0.7777777777777778,
              "#fb9f3a"
             ],
             [
              0.8888888888888888,
              "#fdca26"
             ],
             [
              1,
              "#f0f921"
             ]
            ],
            "type": "heatmap"
           }
          ],
          "heatmapgl": [
           {
            "colorbar": {
             "outlinewidth": 0,
             "ticks": ""
            },
            "colorscale": [
             [
              0,
              "#0d0887"
             ],
             [
              0.1111111111111111,
              "#46039f"
             ],
             [
              0.2222222222222222,
              "#7201a8"
             ],
             [
              0.3333333333333333,
              "#9c179e"
             ],
             [
              0.4444444444444444,
              "#bd3786"
             ],
             [
              0.5555555555555556,
              "#d8576b"
             ],
             [
              0.6666666666666666,
              "#ed7953"
             ],
             [
              0.7777777777777778,
              "#fb9f3a"
             ],
             [
              0.8888888888888888,
              "#fdca26"
             ],
             [
              1,
              "#f0f921"
             ]
            ],
            "type": "heatmapgl"
           }
          ],
          "histogram": [
           {
            "marker": {
             "pattern": {
              "fillmode": "overlay",
              "size": 10,
              "solidity": 0.2
             }
            },
            "type": "histogram"
           }
          ],
          "histogram2d": [
           {
            "colorbar": {
             "outlinewidth": 0,
             "ticks": ""
            },
            "colorscale": [
             [
              0,
              "#0d0887"
             ],
             [
              0.1111111111111111,
              "#46039f"
             ],
             [
              0.2222222222222222,
              "#7201a8"
             ],
             [
              0.3333333333333333,
              "#9c179e"
             ],
             [
              0.4444444444444444,
              "#bd3786"
             ],
             [
              0.5555555555555556,
              "#d8576b"
             ],
             [
              0.6666666666666666,
              "#ed7953"
             ],
             [
              0.7777777777777778,
              "#fb9f3a"
             ],
             [
              0.8888888888888888,
              "#fdca26"
             ],
             [
              1,
              "#f0f921"
             ]
            ],
            "type": "histogram2d"
           }
          ],
          "histogram2dcontour": [
           {
            "colorbar": {
             "outlinewidth": 0,
             "ticks": ""
            },
            "colorscale": [
             [
              0,
              "#0d0887"
             ],
             [
              0.1111111111111111,
              "#46039f"
             ],
             [
              0.2222222222222222,
              "#7201a8"
             ],
             [
              0.3333333333333333,
              "#9c179e"
             ],
             [
              0.4444444444444444,
              "#bd3786"
             ],
             [
              0.5555555555555556,
              "#d8576b"
             ],
             [
              0.6666666666666666,
              "#ed7953"
             ],
             [
              0.7777777777777778,
              "#fb9f3a"
             ],
             [
              0.8888888888888888,
              "#fdca26"
             ],
             [
              1,
              "#f0f921"
             ]
            ],
            "type": "histogram2dcontour"
           }
          ],
          "mesh3d": [
           {
            "colorbar": {
             "outlinewidth": 0,
             "ticks": ""
            },
            "type": "mesh3d"
           }
          ],
          "parcoords": [
           {
            "line": {
             "colorbar": {
              "outlinewidth": 0,
              "ticks": ""
             }
            },
            "type": "parcoords"
           }
          ],
          "pie": [
           {
            "automargin": true,
            "type": "pie"
           }
          ],
          "scatter": [
           {
            "fillpattern": {
             "fillmode": "overlay",
             "size": 10,
             "solidity": 0.2
            },
            "type": "scatter"
           }
          ],
          "scatter3d": [
           {
            "line": {
             "colorbar": {
              "outlinewidth": 0,
              "ticks": ""
             }
            },
            "marker": {
             "colorbar": {
              "outlinewidth": 0,
              "ticks": ""
             }
            },
            "type": "scatter3d"
           }
          ],
          "scattercarpet": [
           {
            "marker": {
             "colorbar": {
              "outlinewidth": 0,
              "ticks": ""
             }
            },
            "type": "scattercarpet"
           }
          ],
          "scattergeo": [
           {
            "marker": {
             "colorbar": {
              "outlinewidth": 0,
              "ticks": ""
             }
            },
            "type": "scattergeo"
           }
          ],
          "scattergl": [
           {
            "marker": {
             "colorbar": {
              "outlinewidth": 0,
              "ticks": ""
             }
            },
            "type": "scattergl"
           }
          ],
          "scattermapbox": [
           {
            "marker": {
             "colorbar": {
              "outlinewidth": 0,
              "ticks": ""
             }
            },
            "type": "scattermapbox"
           }
          ],
          "scatterpolar": [
           {
            "marker": {
             "colorbar": {
              "outlinewidth": 0,
              "ticks": ""
             }
            },
            "type": "scatterpolar"
           }
          ],
          "scatterpolargl": [
           {
            "marker": {
             "colorbar": {
              "outlinewidth": 0,
              "ticks": ""
             }
            },
            "type": "scatterpolargl"
           }
          ],
          "scatterternary": [
           {
            "marker": {
             "colorbar": {
              "outlinewidth": 0,
              "ticks": ""
             }
            },
            "type": "scatterternary"
           }
          ],
          "surface": [
           {
            "colorbar": {
             "outlinewidth": 0,
             "ticks": ""
            },
            "colorscale": [
             [
              0,
              "#0d0887"
             ],
             [
              0.1111111111111111,
              "#46039f"
             ],
             [
              0.2222222222222222,
              "#7201a8"
             ],
             [
              0.3333333333333333,
              "#9c179e"
             ],
             [
              0.4444444444444444,
              "#bd3786"
             ],
             [
              0.5555555555555556,
              "#d8576b"
             ],
             [
              0.6666666666666666,
              "#ed7953"
             ],
             [
              0.7777777777777778,
              "#fb9f3a"
             ],
             [
              0.8888888888888888,
              "#fdca26"
             ],
             [
              1,
              "#f0f921"
             ]
            ],
            "type": "surface"
           }
          ],
          "table": [
           {
            "cells": {
             "fill": {
              "color": "#EBF0F8"
             },
             "line": {
              "color": "white"
             }
            },
            "header": {
             "fill": {
              "color": "#C8D4E3"
             },
             "line": {
              "color": "white"
             }
            },
            "type": "table"
           }
          ]
         },
         "layout": {
          "annotationdefaults": {
           "arrowcolor": "#2a3f5f",
           "arrowhead": 0,
           "arrowwidth": 1
          },
          "autotypenumbers": "strict",
          "coloraxis": {
           "colorbar": {
            "outlinewidth": 0,
            "ticks": ""
           }
          },
          "colorscale": {
           "diverging": [
            [
             0,
             "#8e0152"
            ],
            [
             0.1,
             "#c51b7d"
            ],
            [
             0.2,
             "#de77ae"
            ],
            [
             0.3,
             "#f1b6da"
            ],
            [
             0.4,
             "#fde0ef"
            ],
            [
             0.5,
             "#f7f7f7"
            ],
            [
             0.6,
             "#e6f5d0"
            ],
            [
             0.7,
             "#b8e186"
            ],
            [
             0.8,
             "#7fbc41"
            ],
            [
             0.9,
             "#4d9221"
            ],
            [
             1,
             "#276419"
            ]
           ],
           "sequential": [
            [
             0,
             "#0d0887"
            ],
            [
             0.1111111111111111,
             "#46039f"
            ],
            [
             0.2222222222222222,
             "#7201a8"
            ],
            [
             0.3333333333333333,
             "#9c179e"
            ],
            [
             0.4444444444444444,
             "#bd3786"
            ],
            [
             0.5555555555555556,
             "#d8576b"
            ],
            [
             0.6666666666666666,
             "#ed7953"
            ],
            [
             0.7777777777777778,
             "#fb9f3a"
            ],
            [
             0.8888888888888888,
             "#fdca26"
            ],
            [
             1,
             "#f0f921"
            ]
           ],
           "sequentialminus": [
            [
             0,
             "#0d0887"
            ],
            [
             0.1111111111111111,
             "#46039f"
            ],
            [
             0.2222222222222222,
             "#7201a8"
            ],
            [
             0.3333333333333333,
             "#9c179e"
            ],
            [
             0.4444444444444444,
             "#bd3786"
            ],
            [
             0.5555555555555556,
             "#d8576b"
            ],
            [
             0.6666666666666666,
             "#ed7953"
            ],
            [
             0.7777777777777778,
             "#fb9f3a"
            ],
            [
             0.8888888888888888,
             "#fdca26"
            ],
            [
             1,
             "#f0f921"
            ]
           ]
          },
          "colorway": [
           "#636efa",
           "#EF553B",
           "#00cc96",
           "#ab63fa",
           "#FFA15A",
           "#19d3f3",
           "#FF6692",
           "#B6E880",
           "#FF97FF",
           "#FECB52"
          ],
          "font": {
           "color": "#2a3f5f"
          },
          "geo": {
           "bgcolor": "white",
           "lakecolor": "white",
           "landcolor": "#E5ECF6",
           "showlakes": true,
           "showland": true,
           "subunitcolor": "white"
          },
          "hoverlabel": {
           "align": "left"
          },
          "hovermode": "closest",
          "mapbox": {
           "style": "light"
          },
          "paper_bgcolor": "white",
          "plot_bgcolor": "#E5ECF6",
          "polar": {
           "angularaxis": {
            "gridcolor": "white",
            "linecolor": "white",
            "ticks": ""
           },
           "bgcolor": "#E5ECF6",
           "radialaxis": {
            "gridcolor": "white",
            "linecolor": "white",
            "ticks": ""
           }
          },
          "scene": {
           "xaxis": {
            "backgroundcolor": "#E5ECF6",
            "gridcolor": "white",
            "gridwidth": 2,
            "linecolor": "white",
            "showbackground": true,
            "ticks": "",
            "zerolinecolor": "white"
           },
           "yaxis": {
            "backgroundcolor": "#E5ECF6",
            "gridcolor": "white",
            "gridwidth": 2,
            "linecolor": "white",
            "showbackground": true,
            "ticks": "",
            "zerolinecolor": "white"
           },
           "zaxis": {
            "backgroundcolor": "#E5ECF6",
            "gridcolor": "white",
            "gridwidth": 2,
            "linecolor": "white",
            "showbackground": true,
            "ticks": "",
            "zerolinecolor": "white"
           }
          },
          "shapedefaults": {
           "line": {
            "color": "#2a3f5f"
           }
          },
          "ternary": {
           "aaxis": {
            "gridcolor": "white",
            "linecolor": "white",
            "ticks": ""
           },
           "baxis": {
            "gridcolor": "white",
            "linecolor": "white",
            "ticks": ""
           },
           "bgcolor": "#E5ECF6",
           "caxis": {
            "gridcolor": "white",
            "linecolor": "white",
            "ticks": ""
           }
          },
          "title": {
           "x": 0.05
          },
          "xaxis": {
           "automargin": true,
           "gridcolor": "white",
           "linecolor": "white",
           "ticks": "",
           "title": {
            "standoff": 15
           },
           "zerolinecolor": "white",
           "zerolinewidth": 2
          },
          "yaxis": {
           "automargin": true,
           "gridcolor": "white",
           "linecolor": "white",
           "ticks": "",
           "title": {
            "standoff": 15
           },
           "zerolinecolor": "white",
           "zerolinewidth": 2
          }
         }
        },
        "title": {
         "text": "Future Career Choices by Interested Domain"
        },
        "xaxis": {
         "anchor": "y",
         "domain": [
          0,
          1
         ],
         "title": {
          "text": "Interested Domain"
         }
        },
        "yaxis": {
         "anchor": "x",
         "domain": [
          0,
          1
         ],
         "title": {
          "text": "count"
         }
        }
       }
      }
     },
     "metadata": {},
     "output_type": "display_data"
    }
   ],
   "source": [
    "px.bar(df, x=\"Interested Domain\", color=\"Future Career\", title=\"Future Career Choices by Interested Domain\", barmode=\"group\")"
   ]
  },
  {
   "cell_type": "code",
   "execution_count": 31,
   "id": "bba00f64",
   "metadata": {},
   "outputs": [
    {
     "data": {
      "image/png": "[encoded data removed]",
      "text/plain": [
       "<Figure size 2000x2000 with 1 Axes>"
      ]
     },
     "metadata": {},
     "output_type": "display_data"
    }
   ],
   "source": [
    "# First, we need to create a summary of the number of students by Project Area and Future Career\n",
    "summary_df = df.groupby(['Projects', 'Future Career']).size().reset_index(name='Number_of_Students')\n",
    "\n",
    "# Plot grouped bar chart\n",
    "plt.figure(figsize=(20, 20))\n",
    "sns.barplot(x='Projects', y='Number_of_Students', hue='Future Career', data=summary_df)\n",
    "plt.title('Impact of Project Experience on Career Outcomes')\n",
    "plt.xlabel('Project Area')\n",
    "plt.ylabel('Number of Students')\n",
    "plt.xticks(rotation=45, ha='right')\n",
    "plt.legend(title='Career Outcome', bbox_to_anchor=(1.05, 1), loc='upper left')\n",
    "plt.tight_layout()\n",
    "plt.show()"
   ]
  },
  {
   "cell_type": "code",
   "execution_count": 32,
   "id": "c432a601",
   "metadata": {},
   "outputs": [
    {
     "data": {
      "application/vnd.plotly.v1+json": {
       "config": {
        "plotlyServerURL": "https://plot.ly"
       },
       "data": [
        {
         "dimensions": [
          {
           "label": "Future Career",
           "values": [
            "Machine Learning Researcher",
            "Data Scientist",
            "Software Engineer",
            "Web Developer",
            "Information Security Analyst",
            "Machine Learning Engineer",
            "Database Administrator",
            "Cloud Solutions Architect",
            "Mobile App Developer",
            "Graphics Programmer",
            "NLP Research Scientist",
            "Web Developer",
            "Mobile App Developer",
            "Game Developer",
            "Software Engineer",
            "Information Security Analyst",
            "Machine Learning Engineer",
            "Database Administrator",
            "Cloud Solutions Architect",
            "Mobile App Developer",
            "Graphics Programmer",
            "NLP Research Scientist",
            "Web Developer",
            "Mobile App Developer",
            "Game Developer",
            "Software Engineer",
            "Information Security Analyst",
            "Machine Learning Engineer",
            "Database Administrator",
            "Cloud Solutions Architect",
            "Mobile App Developer",
            "Graphics Programmer",
            "NLP Research Scientist",
            "Web Developer",
            "Mobile App Developer",
            "Game Developer",
            "Software Engineer",
            "Information Security Analyst",
            "Machine Learning Engineer",
            "Cloud Solutions Architect",
            "Software Engineer",
            "Web Developer",
            "Mobile App Developer",
            "Graphics Programmer",
            "NLP Research Scientist",
            "Data Scientist",
            "Information Security Analyst",
            "Database Administrator",
            "Cloud Solutions Architect",
            "Software Engineer",
            "Web Developer",
            "Mobile App Developer",
            "Graphics Programmer",
            "NLP Research Scientist",
            "Data Scientist",
            "Information Security Analyst",
            "Database Administrator",
            "Cloud Solutions Architect",
            "Software Engineer",
            "Web Developer",
            "Mobile App Developer",
            "Graphics Programmer",
            "NLP Research Scientist",
            "Data Scientist",
            "Information Security Analyst",
            "Database Administrator",
            "Cloud Solutions Architect",
            "Software Engineer",
            "Web Developer",
            "Mobile App Developer",
            "Graphics Programmer",
            "NLP Research Scientist",
            "Data Scientist",
            "Information Security Analyst",
            "Database Administrator",
            "Information Security Analyst",
            "Cloud Solutions Architect",
            "Information Security Analyst",
            "Database Administrator",
            "Mobile App Developer",
            "Web Developer",
            "Software Engineer",
            "Graphics Programmer",
            "NLP Research Scientist",
            "Data Scientist",
            "Security Analyst",
            "Machine Learning Engineer",
            "Database Administrator",
            "Embedded Software Engineer",
            "Web Developer",
            "Data Analyst",
            "Robotics Engineer",
            "Game Developer",
            "Ethical Hacker",
            "Computer Vision Engineer",
            "DevOps Engineer",
            "Bioinformatician",
            "IoT Developer",
            "NLP Engineer",
            "Data Analyst",
            "Cloud Solutions Architect",
            "UX Designer",
            "Healthcare IT Specialist",
            "Quantum Computing Researcher",
            "VR Developer",
            "Blockchain Engineer",
            "SEO Specialist",
            "Data Privacy Specialist",
            "Geospatial Analyst",
            "Distributed Systems Engineer",
            "Digital Forensics Specialist",
            "Bioinformatician",
            "UX Designer",
            "Healthcare IT Specialist",
            "Quantum Computing Researcher",
            "AI Researcher",
            "Data Analyst",
            "Software Engineer",
            "Web Developer",
            "Information Security Analyst",
            "Machine Learning Engineer",
            "Database Administrator",
            "Cloud Solutions Architect",
            "Mobile App Developer",
            "NLP Research Scientist",
            "Web Developer",
            "Mobile App Developer",
            "Graphics Programmer",
            "Software Engineer",
            "Information Security Analyst",
            "Database Administrator",
            "Cloud Solutions Architect",
            "AI Researcher",
            "Data Scientist",
            "Software Engineer",
            "Web Developer",
            "Information Security Analyst",
            "Machine Learning Engineer",
            "Database Administrator",
            "Cloud Solutions Architect",
            "Mobile App Developer",
            "AI Researcher",
            "Data Analyst",
            "Web Developer",
            "Machine Learning Engineer",
            "AI Researcher",
            "Data Scientist",
            "Software Engineer",
            "Web Developer",
            "Information Security Analyst",
            "Machine Learning Engineer",
            "Database Administrator",
            "Cloud Solutions Architect",
            "Mobile App Developer",
            "NLP Research Scientist",
            "Web Developer",
            "Information Security Analyst",
            "Machine Learning Engineer",
            "Database Administrator",
            "Cloud Solutions Architect",
            "Mobile App Developer",
            "AI Researcher",
            "Data Analyst",
            "Web Developer",
            "Machine Learning Engineer",
            "AI Researcher",
            "Data Analyst",
            "Software Engineer",
            "Web Developer",
            "Information Security Analyst",
            "Machine Learning Engineer",
            "Database Administrator",
            "Cloud Solutions Architect",
            "Mobile App Developer",
            "NLP Research Scientist",
            "Web Developer",
            "Information Security Analyst",
            "Machine Learning Engineer",
            "Database Administrator",
            "Cloud Solutions Architect"
           ]
          },
          {
           "label": "Python",
           "values": [
            "Strong",
            "Average",
            "Strong",
            "Weak",
            "Average",
            "Strong",
            "Average",
            "Weak",
            "Average",
            "Weak",
            "Strong",
            "Strong",
            "Average",
            "Weak",
            "Strong",
            "Average",
            "Strong",
            "Average",
            "Weak",
            "Average",
            "Weak",
            "Strong",
            "Strong",
            "Average",
            "Weak",
            "Strong",
            "Average",
            "Strong",
            "Average",
            "Weak",
            "Average",
            "Weak",
            "Strong",
            "Strong",
            "Average",
            "Weak",
            "Strong",
            "Average",
            "Strong",
            "Strong",
            "Average",
            "Weak",
            "Average",
            "Weak",
            "Strong",
            "Average",
            "Weak",
            "Average",
            "Strong",
            "Average",
            "Weak",
            "Average",
            "Weak",
            "Strong",
            "Average",
            "Weak",
            "Average",
            "Strong",
            "Average",
            "Weak",
            "Average",
            "Weak",
            "Strong",
            "Average",
            "Weak",
            "Average",
            "Strong",
            "Average",
            "Weak",
            "Average",
            "Weak",
            "Strong",
            "Average",
            "Weak",
            "Average",
            "Weak",
            "Strong",
            "Weak",
            "Average",
            "Strong",
            "Weak",
            "Average",
            "Weak",
            "Strong",
            "Average",
            "Strong",
            "Strong",
            "Average",
            "Weak",
            "Strong",
            "Strong",
            "Strong",
            "Weak",
            "Strong",
            "Strong",
            "Strong",
            "Weak",
            "Weak",
            "Strong",
            "Strong",
            "Weak",
            "Strong",
            "Weak",
            "Strong",
            "Weak",
            "Weak",
            "Weak",
            "Weak",
            "Weak",
            "Weak",
            "Weak",
            "Weak",
            "Weak",
            "Weak",
            "Weak",
            "Strong",
            "Average",
            "Strong",
            "Weak",
            "Average",
            "Strong",
            "Weak",
            "Strong",
            "Average",
            "Strong",
            "Weak",
            "Average",
            "Weak",
            "Strong",
            "Average",
            "Average",
            "Weak",
            "Strong",
            "Average",
            "Strong",
            "Weak",
            "Strong",
            "Strong",
            "Weak",
            "Strong",
            "Weak",
            "Strong",
            "Average",
            "Weak",
            "Strong",
            "Strong",
            "Strong",
            "Strong",
            "Weak",
            "Average",
            "Strong",
            "Weak",
            "Strong",
            "Weak",
            "Strong",
            "Weak",
            "Strong",
            "Strong",
            "Weak",
            "Strong",
            "Weak",
            "Strong",
            "Average",
            "Weak",
            "Strong",
            "Strong",
            "Average",
            "Strong",
            "Weak",
            "Average",
            "Strong",
            "Weak",
            "Strong",
            "Weak",
            "Strong",
            "Weak",
            "Strong",
            "Strong",
            "Weak",
            "Strong"
           ]
          },
          {
           "label": "SQL",
           "values": [
            "Strong",
            "Strong",
            "Strong",
            "Strong",
            "Weak",
            "Average",
            "Strong",
            "Strong",
            "Weak",
            "Average",
            "Average",
            "Strong",
            "Weak",
            "Average",
            "Strong",
            "Weak",
            "Average",
            "Strong",
            "Strong",
            "Weak",
            "Average",
            "Average",
            "Strong",
            "Weak",
            "Average",
            "Strong",
            "Weak",
            "Average",
            "Strong",
            "Strong",
            "Weak",
            "Average",
            "Average",
            "Strong",
            "Weak",
            "Average",
            "Strong",
            "Weak",
            "Average",
            "Strong",
            "Weak",
            "Strong",
            "Weak",
            "Average",
            "Average",
            "Strong",
            "Strong",
            "Weak",
            "Strong",
            "Weak",
            "Strong",
            "Weak",
            "Average",
            "Average",
            "Strong",
            "Strong",
            "Weak",
            "Strong",
            "Weak",
            "Strong",
            "Weak",
            "Average",
            "Average",
            "Strong",
            "Strong",
            "Weak",
            "Strong",
            "Weak",
            "Strong",
            "Weak",
            "Average",
            "Average",
            "Strong",
            "Strong",
            "Weak",
            "Strong",
            "Strong",
            "Strong",
            "Weak",
            "Average",
            "Strong",
            "Weak",
            "Average",
            "Average",
            "Strong",
            "Average",
            "Average",
            "Strong",
            "Strong",
            "Average",
            "Average",
            "Strong",
            "Strong",
            "Strong",
            "Average",
            "Average",
            "Strong",
            "Strong",
            "Average",
            "Average",
            "Strong",
            "Average",
            "Strong",
            "Average",
            "Strong",
            "Average",
            "Average",
            "Average",
            "Average",
            "Average",
            "Average",
            "Average",
            "Average",
            "Average",
            "Average",
            "Average",
            "Strong",
            "Strong",
            "Strong",
            "Weak",
            "Weak",
            "Strong",
            "Weak",
            "Strong",
            "Weak",
            "Strong",
            "Weak",
            "Average",
            "Strong",
            "Weak",
            "Strong",
            "Strong",
            "Average",
            "Strong",
            "Weak",
            "Strong",
            "Average",
            "Average",
            "Strong",
            "Strong",
            "Strong",
            "Weak",
            "Weak",
            "Strong",
            "Average",
            "Average",
            "Average",
            "Strong",
            "Strong",
            "Weak",
            "Average",
            "Strong",
            "Weak",
            "Strong",
            "Weak",
            "Strong",
            "Average",
            "Average",
            "Strong",
            "Strong",
            "Strong",
            "Weak",
            "Weak",
            "Strong",
            "Average",
            "Average",
            "Strong",
            "Strong",
            "Strong",
            "Weak",
            "Average",
            "Strong",
            "Weak",
            "Strong",
            "Weak",
            "Strong",
            "Average",
            "Average",
            "Strong",
            "Strong"
           ]
          },
          {
           "label": "Java",
           "values": [
            "Weak",
            "Weak",
            "Average",
            "Strong",
            "Strong",
            "Weak",
            "Weak",
            "Average",
            "Strong",
            "Strong",
            "Weak",
            "Average",
            "Strong",
            "Strong",
            "Average",
            "Strong",
            "Weak",
            "Weak",
            "Average",
            "Strong",
            "Strong",
            "Weak",
            "Average",
            "Strong",
            "Strong",
            "Average",
            "Strong",
            "Weak",
            "Weak",
            "Average",
            "Strong",
            "Strong",
            "Weak",
            "Average",
            "Strong",
            "Strong",
            "Average",
            "Strong",
            "Weak",
            "Average",
            "Strong",
            "Strong",
            "Strong",
            "Strong",
            "Weak",
            "Weak",
            "Average",
            "Strong",
            "Average",
            "Strong",
            "Strong",
            "Strong",
            "Strong",
            "Weak",
            "Weak",
            "Average",
            "Strong",
            "Average",
            "Strong",
            "Strong",
            "Strong",
            "Strong",
            "Weak",
            "Weak",
            "Average",
            "Strong",
            "Average",
            "Strong",
            "Strong",
            "Strong",
            "Strong",
            "Weak",
            "Weak",
            "Average",
            "Strong",
            "Average",
            "Average",
            "Average",
            "Strong",
            "Strong",
            "Strong",
            "Strong",
            "Strong",
            "Weak",
            "Weak",
            "Weak",
            "Weak",
            "Weak",
            "Average",
            "Weak",
            "Weak",
            "Weak",
            "Average",
            "Average",
            "Weak",
            "Weak",
            "Strong",
            "Average",
            "Weak",
            "Weak",
            "Average",
            "Weak",
            "Average",
            "Weak",
            "Average",
            "Strong",
            "Strong",
            "Strong",
            "Strong",
            "Strong",
            "Strong",
            "Strong",
            "Strong",
            "Strong",
            "Strong",
            "Weak",
            "Weak",
            "Average",
            "Strong",
            "Strong",
            "Weak",
            "Average",
            "Weak",
            "Weak",
            "Weak",
            "Strong",
            "Strong",
            "Strong",
            "Average",
            "Strong",
            "Weak",
            "Average",
            "Weak",
            "Weak",
            "Strong",
            "Strong",
            "Weak",
            "Weak",
            "Average",
            "Weak",
            "Average",
            "Average",
            "Strong",
            "Average",
            "Weak",
            "Weak",
            "Weak",
            "Average",
            "Strong",
            "Strong",
            "Weak",
            "Average",
            "Weak",
            "Average",
            "Weak",
            "Strong",
            "Weak",
            "Weak",
            "Average",
            "Weak",
            "Average",
            "Average",
            "Strong",
            "Average",
            "Weak",
            "Weak",
            "Weak",
            "Average",
            "Strong",
            "Strong",
            "Weak",
            "Average",
            "Weak",
            "Average",
            "Weak",
            "Strong",
            "Weak",
            "Weak",
            "Average",
            "Weak"
           ]
          }
         ],
         "domain": {
          "x": [
           0,
           1
          ],
          "y": [
           0,
           1
          ]
         },
         "name": "",
         "type": "parcats"
        }
       ],
       "layout": {
        "legend": {
         "tracegroupgap": 0
        },
        "template": {
         "data": {
          "bar": [
           {
            "error_x": {
             "color": "#2a3f5f"
            },
            "error_y": {
             "color": "#2a3f5f"
            },
            "marker": {
             "line": {
              "color": "#E5ECF6",
              "width": 0.5
             },
             "pattern": {
              "fillmode": "overlay",
              "size": 10,
              "solidity": 0.2
             }
            },
            "type": "bar"
           }
          ],
          "barpolar": [
           {
            "marker": {
             "line": {
              "color": "#E5ECF6",
              "width": 0.5
             },
             "pattern": {
              "fillmode": "overlay",
              "size": 10,
              "solidity": 0.2
             }
            },
            "type": "barpolar"
           }
          ],
          "carpet": [
           {
            "aaxis": {
             "endlinecolor": "#2a3f5f",
             "gridcolor": "white",
             "linecolor": "white",
             "minorgridcolor": "white",
             "startlinecolor": "#2a3f5f"
            },
            "baxis": {
             "endlinecolor": "#2a3f5f",
             "gridcolor": "white",
             "linecolor": "white",
             "minorgridcolor": "white",
             "startlinecolor": "#2a3f5f"
            },
            "type": "carpet"
           }
          ],
          "choropleth": [
           {
            "colorbar": {
             "outlinewidth": 0,
             "ticks": ""
            },
            "type": "choropleth"
           }
          ],
          "contour": [
           {
            "colorbar": {
             "outlinewidth": 0,
             "ticks": ""
            },
            "colorscale": [
             [
              0,
              "#0d0887"
             ],
             [
              0.1111111111111111,
              "#46039f"
             ],
             [
              0.2222222222222222,
              "#7201a8"
             ],
             [
              0.3333333333333333,
              "#9c179e"
             ],
             [
              0.4444444444444444,
              "#bd3786"
             ],
             [
              0.5555555555555556,
              "#d8576b"
             ],
             [
              0.6666666666666666,
              "#ed7953"
             ],
             [
              0.7777777777777778,
              "#fb9f3a"
             ],
             [
              0.8888888888888888,
              "#fdca26"
             ],
             [
              1,
              "#f0f921"
             ]
            ],
            "type": "contour"
           }
          ],
          "contourcarpet": [
           {
            "colorbar": {
             "outlinewidth": 0,
             "ticks": ""
            },
            "type": "contourcarpet"
           }
          ],
          "heatmap": [
           {
            "colorbar": {
             "outlinewidth": 0,
             "ticks": ""
            },
            "colorscale": [
             [
              0,
              "#0d0887"
             ],
             [
              0.1111111111111111,
              "#46039f"
             ],
             [
              0.2222222222222222,
              "#7201a8"
             ],
             [
              0.3333333333333333,
              "#9c179e"
             ],
             [
              0.4444444444444444,
              "#bd3786"
             ],
             [
              0.5555555555555556,
              "#d8576b"
             ],
             [
              0.6666666666666666,
              "#ed7953"
             ],
             [
              0.7777777777777778,
              "#fb9f3a"
             ],
             [
              0.8888888888888888,
              "#fdca26"
             ],
             [
              1,
              "#f0f921"
             ]
            ],
            "type": "heatmap"
           }
          ],
          "heatmapgl": [
           {
            "colorbar": {
             "outlinewidth": 0,
             "ticks": ""
            },
            "colorscale": [
             [
              0,
              "#0d0887"
             ],
             [
              0.1111111111111111,
              "#46039f"
             ],
             [
              0.2222222222222222,
              "#7201a8"
             ],
             [
              0.3333333333333333,
              "#9c179e"
             ],
             [
              0.4444444444444444,
              "#bd3786"
             ],
             [
              0.5555555555555556,
              "#d8576b"
             ],
             [
              0.6666666666666666,
              "#ed7953"
             ],
             [
              0.7777777777777778,
              "#fb9f3a"
             ],
             [
              0.8888888888888888,
              "#fdca26"
             ],
             [
              1,
              "#f0f921"
             ]
            ],
            "type": "heatmapgl"
           }
          ],
          "histogram": [
           {
            "marker": {
             "pattern": {
              "fillmode": "overlay",
              "size": 10,
              "solidity": 0.2
             }
            },
            "type": "histogram"
           }
          ],
          "histogram2d": [
           {
            "colorbar": {
             "outlinewidth": 0,
             "ticks": ""
            },
            "colorscale": [
             [
              0,
              "#0d0887"
             ],
             [
              0.1111111111111111,
              "#46039f"
             ],
             [
              0.2222222222222222,
              "#7201a8"
             ],
             [
              0.3333333333333333,
              "#9c179e"
             ],
             [
              0.4444444444444444,
              "#bd3786"
             ],
             [
              0.5555555555555556,
              "#d8576b"
             ],
             [
              0.6666666666666666,
              "#ed7953"
             ],
             [
              0.7777777777777778,
              "#fb9f3a"
             ],
             [
              0.8888888888888888,
              "#fdca26"
             ],
             [
              1,
              "#f0f921"
             ]
            ],
            "type": "histogram2d"
           }
          ],
          "histogram2dcontour": [
           {
            "colorbar": {
             "outlinewidth": 0,
             "ticks": ""
            },
            "colorscale": [
             [
              0,
              "#0d0887"
             ],
             [
              0.1111111111111111,
              "#46039f"
             ],
             [
              0.2222222222222222,
              "#7201a8"
             ],
             [
              0.3333333333333333,
              "#9c179e"
             ],
             [
              0.4444444444444444,
              "#bd3786"
             ],
             [
              0.5555555555555556,
              "#d8576b"
             ],
             [
              0.6666666666666666,
              "#ed7953"
             ],
             [
              0.7777777777777778,
              "#fb9f3a"
             ],
             [
              0.8888888888888888,
              "#fdca26"
             ],
             [
              1,
              "#f0f921"
             ]
            ],
            "type": "histogram2dcontour"
           }
          ],
          "mesh3d": [
           {
            "colorbar": {
             "outlinewidth": 0,
             "ticks": ""
            },
            "type": "mesh3d"
           }
          ],
          "parcoords": [
           {
            "line": {
             "colorbar": {
              "outlinewidth": 0,
              "ticks": ""
             }
            },
            "type": "parcoords"
           }
          ],
          "pie": [
           {
            "automargin": true,
            "type": "pie"
           }
          ],
          "scatter": [
           {
            "fillpattern": {
             "fillmode": "overlay",
             "size": 10,
             "solidity": 0.2
            },
            "type": "scatter"
           }
          ],
          "scatter3d": [
           {
            "line": {
             "colorbar": {
              "outlinewidth": 0,
              "ticks": ""
             }
            },
            "marker": {
             "colorbar": {
              "outlinewidth": 0,
              "ticks": ""
             }
            },
            "type": "scatter3d"
           }
          ],
          "scattercarpet": [
           {
            "marker": {
             "colorbar": {
              "outlinewidth": 0,
              "ticks": ""
             }
            },
            "type": "scattercarpet"
           }
          ],
          "scattergeo": [
           {
            "marker": {
             "colorbar": {
              "outlinewidth": 0,
              "ticks": ""
             }
            },
            "type": "scattergeo"
           }
          ],
          "scattergl": [
           {
            "marker": {
             "colorbar": {
              "outlinewidth": 0,
              "ticks": ""
             }
            },
            "type": "scattergl"
           }
          ],
          "scattermapbox": [
           {
            "marker": {
             "colorbar": {
              "outlinewidth": 0,
              "ticks": ""
             }
            },
            "type": "scattermapbox"
           }
          ],
          "scatterpolar": [
           {
            "marker": {
             "colorbar": {
              "outlinewidth": 0,
              "ticks": ""
             }
            },
            "type": "scatterpolar"
           }
          ],
          "scatterpolargl": [
           {
            "marker": {
             "colorbar": {
              "outlinewidth": 0,
              "ticks": ""
             }
            },
            "type": "scatterpolargl"
           }
          ],
          "scatterternary": [
           {
            "marker": {
             "colorbar": {
              "outlinewidth": 0,
              "ticks": ""
             }
            },
            "type": "scatterternary"
           }
          ],
          "surface": [
           {
            "colorbar": {
             "outlinewidth": 0,
             "ticks": ""
            },
            "colorscale": [
             [
              0,
              "#0d0887"
             ],
             [
              0.1111111111111111,
              "#46039f"
             ],
             [
              0.2222222222222222,
              "#7201a8"
             ],
             [
              0.3333333333333333,
              "#9c179e"
             ],
             [
              0.4444444444444444,
              "#bd3786"
             ],
             [
              0.5555555555555556,
              "#d8576b"
             ],
             [
              0.6666666666666666,
              "#ed7953"
             ],
             [
              0.7777777777777778,
              "#fb9f3a"
             ],
             [
              0.8888888888888888,
              "#fdca26"
             ],
             [
              1,
              "#f0f921"
             ]
            ],
            "type": "surface"
           }
          ],
          "table": [
           {
            "cells": {
             "fill": {
              "color": "#EBF0F8"
             },
             "line": {
              "color": "white"
             }
            },
            "header": {
             "fill": {
              "color": "#C8D4E3"
             },
             "line": {
              "color": "white"
             }
            },
            "type": "table"
           }
          ]
         },
         "layout": {
          "annotationdefaults": {
           "arrowcolor": "#2a3f5f",
           "arrowhead": 0,
           "arrowwidth": 1
          },
          "autotypenumbers": "strict",
          "coloraxis": {
           "colorbar": {
            "outlinewidth": 0,
            "ticks": ""
           }
          },
          "colorscale": {
           "diverging": [
            [
             0,
             "#8e0152"
            ],
            [
             0.1,
             "#c51b7d"
            ],
            [
             0.2,
             "#de77ae"
            ],
            [
             0.3,
             "#f1b6da"
            ],
            [
             0.4,
             "#fde0ef"
            ],
            [
             0.5,
             "#f7f7f7"
            ],
            [
             0.6,
             "#e6f5d0"
            ],
            [
             0.7,
             "#b8e186"
            ],
            [
             0.8,
             "#7fbc41"
            ],
            [
             0.9,
             "#4d9221"
            ],
            [
             1,
             "#276419"
            ]
           ],
           "sequential": [
            [
             0,
             "#0d0887"
            ],
            [
             0.1111111111111111,
             "#46039f"
            ],
            [
             0.2222222222222222,
             "#7201a8"
            ],
            [
             0.3333333333333333,
             "#9c179e"
            ],
            [
             0.4444444444444444,
             "#bd3786"
            ],
            [
             0.5555555555555556,
             "#d8576b"
            ],
            [
             0.6666666666666666,
             "#ed7953"
            ],
            [
             0.7777777777777778,
             "#fb9f3a"
            ],
            [
             0.8888888888888888,
             "#fdca26"
            ],
            [
             1,
             "#f0f921"
            ]
           ],
           "sequentialminus": [
            [
             0,
             "#0d0887"
            ],
            [
             0.1111111111111111,
             "#46039f"
            ],
            [
             0.2222222222222222,
             "#7201a8"
            ],
            [
             0.3333333333333333,
             "#9c179e"
            ],
            [
             0.4444444444444444,
             "#bd3786"
            ],
            [
             0.5555555555555556,
             "#d8576b"
            ],
            [
             0.6666666666666666,
             "#ed7953"
            ],
            [
             0.7777777777777778,
             "#fb9f3a"
            ],
            [
             0.8888888888888888,
             "#fdca26"
            ],
            [
             1,
             "#f0f921"
            ]
           ]
          },
          "colorway": [
           "#636efa",
           "#EF553B",
           "#00cc96",
           "#ab63fa",
           "#FFA15A",
           "#19d3f3",
           "#FF6692",
           "#B6E880",
           "#FF97FF",
           "#FECB52"
          ],
          "font": {
           "color": "#2a3f5f"
          },
          "geo": {
           "bgcolor": "white",
           "lakecolor": "white",
           "landcolor": "#E5ECF6",
           "showlakes": true,
           "showland": true,
           "subunitcolor": "white"
          },
          "hoverlabel": {
           "align": "left"
          },
          "hovermode": "closest",
          "mapbox": {
           "style": "light"
          },
          "paper_bgcolor": "white",
          "plot_bgcolor": "#E5ECF6",
          "polar": {
           "angularaxis": {
            "gridcolor": "white",
            "linecolor": "white",
            "ticks": ""
           },
           "bgcolor": "#E5ECF6",
           "radialaxis": {
            "gridcolor": "white",
            "linecolor": "white",
            "ticks": ""
           }
          },
          "scene": {
           "xaxis": {
            "backgroundcolor": "#E5ECF6",
            "gridcolor": "white",
            "gridwidth": 2,
            "linecolor": "white",
            "showbackground": true,
            "ticks": "",
            "zerolinecolor": "white"
           },
           "yaxis": {
            "backgroundcolor": "#E5ECF6",
            "gridcolor": "white",
            "gridwidth": 2,
            "linecolor": "white",
            "showbackground": true,
            "ticks": "",
            "zerolinecolor": "white"
           },
           "zaxis": {
            "backgroundcolor": "#E5ECF6",
            "gridcolor": "white",
            "gridwidth": 2,
            "linecolor": "white",
            "showbackground": true,
            "ticks": "",
            "zerolinecolor": "white"
           }
          },
          "shapedefaults": {
           "line": {
            "color": "#2a3f5f"
           }
          },
          "ternary": {
           "aaxis": {
            "gridcolor": "white",
            "linecolor": "white",
            "ticks": ""
           },
           "baxis": {
            "gridcolor": "white",
            "linecolor": "white",
            "ticks": ""
           },
           "bgcolor": "#E5ECF6",
           "caxis": {
            "gridcolor": "white",
            "linecolor": "white",
            "ticks": ""
           }
          },
          "title": {
           "x": 0.05
          },
          "xaxis": {
           "automargin": true,
           "gridcolor": "white",
           "linecolor": "white",
           "ticks": "",
           "title": {
            "standoff": 15
           },
           "zerolinecolor": "white",
           "zerolinewidth": 2
          },
          "yaxis": {
           "automargin": true,
           "gridcolor": "white",
           "linecolor": "white",
           "ticks": "",
           "title": {
            "standoff": 15
           },
           "zerolinecolor": "white",
           "zerolinewidth": 2
          }
         }
        },
        "title": {
         "text": "Skill Proficiency Across Future Careers"
        }
       }
      }
     },
     "metadata": {},
     "output_type": "display_data"
    }
   ],
   "source": [
    "px.parallel_categories(df, dimensions=[\"Future Career\", \"Python\", \"SQL\", \"Java\"], title=\"Skill Proficiency Across Future Careers\")"
   ]
  },
  {
   "cell_type": "code",
   "execution_count": 33,
   "id": "33679377",
   "metadata": {},
   "outputs": [
    {
     "data": {
      "application/vnd.plotly.v1+json": {
       "config": {
        "plotlyServerURL": "https://plot.ly"
       },
       "data": [
        {
         "alignmentgroup": "True",
         "hovertemplate": "Gender=Male<br>Interested Domain=%{x}<br>Projects=%{y}<extra></extra>",
         "legendgroup": "Male",
         "marker": {
          "color": "#636efa",
          "pattern": {
           "shape": ""
          }
         },
         "name": "Male",
         "offsetgroup": "Male",
         "orientation": "v",
         "showlegend": true,
         "textposition": "auto",
         "type": "bar",
         "x": [
          "Artificial Intelligence",
          "Software Development",
          "Cybersecurity",
          "Database Management",
          "Mobile App Development",
          "Artificial Intelligence",
          "Web Development",
          "Computer Graphics",
          "Cybersecurity",
          "Database Management",
          "Mobile App Development",
          "Artificial Intelligence",
          "Web Development",
          "Computer Graphics",
          "Cybersecurity",
          "Database Management",
          "Mobile App Development",
          "Artificial Intelligence",
          "Web Development",
          "Computer Graphics",
          "Cybersecurity",
          "Software Development",
          "Mobile App Development",
          "Artificial Intelligence",
          "Cybersecurity",
          "Cloud Computing",
          "Software Development",
          "Mobile App Development",
          "Data Science",
          "Cybersecurity",
          "Database Management",
          "Cloud Computing",
          "Software Development",
          "Web Development",
          "Mobile App Development",
          "Computer Graphics",
          "Artificial Intelligence",
          "Data Science",
          "Cybersecurity",
          "Database Management",
          "Cloud Computing",
          "Software Development",
          "Web Development",
          "Mobile App Development",
          "Computer Graphics",
          "Artificial Intelligence",
          "Data Science",
          "Cybersecurity",
          "Database Management",
          "Cloud Computing",
          "Software Development",
          "Computer Graphics",
          "Data Science",
          "Network Security",
          "Database Management",
          "Web Development",
          "Artificial Intelligence",
          "Cybersecurity",
          "Software Engineering",
          "IoT (Internet of Things)",
          "Data Mining",
          "Human-Computer Interaction",
          "Quantum Computing",
          "Computer Graphics",
          "Information Retrieval",
          "Geographic Information Systems",
          "Digital Forensics",
          "Human-Computer Interaction",
          "Quantum Computing",
          "Data Science",
          "Web Development",
          "Machine Learning",
          "Cloud Computing",
          "Artificial Intelligence",
          "Mobile App Development",
          "Software Engineering",
          "Database Management",
          "Artificial Intelligence",
          "Data Science",
          "Web Development",
          "Machine Learning",
          "Cloud Computing",
          "Artificial Intelligence",
          "Web Development",
          "Data Science",
          "Web Development",
          "Machine Learning",
          "Cloud Computing",
          "Artificial Intelligence",
          "Web Development",
          "Machine Learning",
          "Cloud Computing",
          "Artificial Intelligence",
          "Web Development",
          "Data Science",
          "Web Development",
          "Machine Learning",
          "Cloud Computing",
          "Artificial Intelligence",
          "Web Development",
          "Machine Learning",
          "Cloud Computing"
         ],
         "xaxis": "x",
         "y": [
          "Chatbot Development",
          "E-commerce Website",
          "Network Security",
          "SQL Query Optimization",
          "Android App",
          "Natural Language Processing",
          "Full-Stack Web App",
          "Game Development",
          "Network Security",
          "SQL Query Optimization",
          "Android App",
          "Natural Language Processing",
          "Full-Stack Web App",
          "Game Development",
          "Network Security",
          "SQL Query Optimization",
          "Android App",
          "Natural Language Processing",
          "Full-Stack Web App",
          "Game Development",
          "Network Security",
          "Social Media Platform",
          "iOS Game",
          "Natural Language Processing",
          "Network Security",
          "AWS Deployment",
          "Social Media Platform",
          "Android Game",
          "Machine Learning",
          "Network Security",
          "SQL Query Optimization",
          "AWS Deployment",
          "Social Media Platform",
          "E-commerce Website",
          "Android Game",
          "3D Animation",
          "Natural Language Processing",
          "Machine Learning",
          "Network Security",
          "SQL Query Optimization",
          "AWS Deployment",
          "Social Media Platform",
          "E-commerce Website",
          "Android Game",
          "3D Animation",
          "Natural Language Processing",
          "Machine Learning",
          "Network Security",
          "SQL Query Optimization",
          "AWS Deployment",
          "Social Media Platform",
          "3D Animation",
          "Machine Learning",
          "Firewall Management",
          "Data Warehouse Design",
          "Front-End Development",
          "Robotics",
          "Penetration Testing",
          "DevOps",
          "Smart Home Automation",
          "Market Analysis",
          "Usability Testing",
          "Quantum Algorithm Development",
          "Virtual Reality Development",
          "Search Engine Optimization",
          "GIS Mapping",
          "Computer Forensic Analyst",
          "User Experience Researcher",
          "Quantum Algorithm Development",
          "Big Data Analytics",
          "E-commerce Website",
          "Image Classification",
          "Cloud Infrastructure Management",
          "Natural Language Processing",
          "Android App Development",
          "Enterprise Software Development",
          "SQL Query Optimization",
          "Computer Vision",
          "Machine Learning",
          "E-commerce Website",
          "Natural Language Processing",
          "Cloud Solution Architecture",
          "Reinforcement Learning",
          "Front-End Development",
          "Machine Learning",
          "E-commerce Website",
          "Image Classification",
          "Cloud Infrastructure Management",
          "Natural Language Processing",
          "Full-Stack Web App",
          "Natural Language Processing",
          "Cloud Solution Architecture",
          "Reinforcement Learning",
          "Front-End Development",
          "Big Data Analytics",
          "E-commerce Website",
          "Image Classification",
          "Cloud Infrastructure Management",
          "Natural Language Processing",
          "Full-Stack Web App",
          "Natural Language Processing",
          "Cloud Solution Architecture"
         ],
         "yaxis": "y"
        },
        {
         "alignmentgroup": "True",
         "hovertemplate": "Gender=Female<br>Interested Domain=%{x}<br>Projects=%{y}<extra></extra>",
         "legendgroup": "Female",
         "marker": {
          "color": "#EF553B",
          "pattern": {
           "shape": ""
          }
         },
         "name": "Female",
         "offsetgroup": "Female",
         "orientation": "v",
         "showlegend": true,
         "textposition": "auto",
         "type": "bar",
         "x": [
          "Data Science",
          "Web Development",
          "Machine Learning",
          "Cloud Computing",
          "Computer Graphics",
          "Mobile App Development",
          "Software Engineering",
          "Machine Learning",
          "Cloud Computing",
          "Computer Graphics",
          "Mobile App Development",
          "Software Engineering",
          "Machine Learning",
          "Cloud Computing",
          "Computer Graphics",
          "Mobile App Development",
          "Software Engineering",
          "Machine Learning",
          "Cloud Computing",
          "Web Development",
          "Computer Graphics",
          "Data Science",
          "Database Management",
          "Web Development",
          "Computer Graphics",
          "Artificial Intelligence",
          "Cybersecurity",
          "Cybersecurity",
          "Database Management",
          "Mobile App Development",
          "Web Development",
          "Artificial Intelligence",
          "Machine Learning",
          "Software Development",
          "Data Science",
          "Game Development",
          "Computer Vision",
          "Bioinformatics",
          "Natural Language Processing",
          "Cloud Computing",
          "Biomedical Computing",
          "Blockchain Technology",
          "Data Privacy",
          "Distributed Systems",
          "Bioinformatics",
          "Biomedical Computing",
          "Artificial Intelligence",
          "Software Development",
          "Cybersecurity",
          "Database Management",
          "Mobile App Development",
          "Web Development",
          "Computer Graphics",
          "Cybersecurity",
          "Cloud Computing",
          "Software Development",
          "Cybersecurity",
          "Database Management",
          "Mobile App Development",
          "Data Science",
          "Machine Learning",
          "Artificial Intelligence",
          "Software Development",
          "Cybersecurity",
          "Database Management",
          "Mobile App Development",
          "Cybersecurity",
          "Database Management",
          "Mobile App Development",
          "Data Science",
          "Machine Learning",
          "Artificial Intelligence",
          "Software Development",
          "Cybersecurity",
          "Database Management",
          "Mobile App Development",
          "Cybersecurity",
          "Database Management"
         ],
         "xaxis": "x",
         "y": [
          "Data Analytics",
          "Full-Stack Web App",
          "Image Recognition",
          "AWS Deployment",
          "3D Rendering",
          "iOS App",
          "E-commerce Website",
          "Image Recognition",
          "AWS Deployment",
          "3D Rendering",
          "iOS App",
          "E-commerce Website",
          "Image Recognition",
          "AWS Deployment",
          "3D Rendering",
          "iOS App",
          "E-commerce Website",
          "Image Recognition",
          "GCP Deployment",
          "E-commerce Website",
          "3D Animation",
          "Machine Learning",
          "SQL Query Optimization",
          "E-commerce Website",
          "3D Modeling",
          "Natural Language Processing",
          "Network Security",
          "Network Security",
          "SQL Query Optimization",
          "Android Game",
          "E-commerce Website",
          "Natural Language Processing",
          "Deep Learning Models",
          "Embedded Systems",
          "Statistical Analysis",
          "Mobile Game Development",
          "Object Detection",
          "Genomic Data Analysis",
          "Chatbot Development",
          "Cloud Migration Specialist",
          "Medical Imaging Analysis",
          "Smart Contracts Developer",
          "Privacy Compliance Officer",
          "Distributed Systems Architect",
          "Protein Structure Prediction",
          "Healthcare Data Analyst",
          "Neural Network Development",
          "Mobile App Development",
          "Network Security",
          "SQL Database Design",
          "iOS App Development",
          "Full-Stack Web App",
          "3D Modeling",
          "Network Security",
          "AWS Deployment",
          "Web Application Development",
          "Security Auditing",
          "SQL Database Administration",
          "Cross-Platform App Development",
          "Data Mining",
          "Computer Vision",
          "Reinforcement Learning",
          "Mobile App Development",
          "Network Security",
          "SQL Database Design",
          "iOS App Development",
          "Security Auditing",
          "SQL Database Administration",
          "Cross-Platform App Development",
          "Data Mining",
          "Computer Vision",
          "Neural Network Development",
          "Mobile App Development",
          "Network Security",
          "SQL Database Design",
          "iOS App Development",
          "Security Auditing",
          "SQL Database Administration"
         ],
         "yaxis": "y"
        }
       ],
       "layout": {
        "barmode": "stack",
        "legend": {
         "title": {
          "text": "Gender"
         },
         "tracegroupgap": 0
        },
        "template": {
         "data": {
          "bar": [
           {
            "error_x": {
             "color": "#2a3f5f"
            },
            "error_y": {
             "color": "#2a3f5f"
            },
            "marker": {
             "line": {
              "color": "#E5ECF6",
              "width": 0.5
             },
             "pattern": {
              "fillmode": "overlay",
              "size": 10,
              "solidity": 0.2
             }
            },
            "type": "bar"
           }
          ],
          "barpolar": [
           {
            "marker": {
             "line": {
              "color": "#E5ECF6",
              "width": 0.5
             },
             "pattern": {
              "fillmode": "overlay",
              "size": 10,
              "solidity": 0.2
             }
            },
            "type": "barpolar"
           }
          ],
          "carpet": [
           {
            "aaxis": {
             "endlinecolor": "#2a3f5f",
             "gridcolor": "white",
             "linecolor": "white",
             "minorgridcolor": "white",
             "startlinecolor": "#2a3f5f"
            },
            "baxis": {
             "endlinecolor": "#2a3f5f",
             "gridcolor": "white",
             "linecolor": "white",
             "minorgridcolor": "white",
             "startlinecolor": "#2a3f5f"
            },
            "type": "carpet"
           }
          ],
          "choropleth": [
           {
            "colorbar": {
             "outlinewidth": 0,
             "ticks": ""
            },
            "type": "choropleth"
           }
          ],
          "contour": [
           {
            "colorbar": {
             "outlinewidth": 0,
             "ticks": ""
            },
            "colorscale": [
             [
              0,
              "#0d0887"
             ],
             [
              0.1111111111111111,
              "#46039f"
             ],
             [
              0.2222222222222222,
              "#7201a8"
             ],
             [
              0.3333333333333333,
              "#9c179e"
             ],
             [
              0.4444444444444444,
              "#bd3786"
             ],
             [
              0.5555555555555556,
              "#d8576b"
             ],
             [
              0.6666666666666666,
              "#ed7953"
             ],
             [
              0.7777777777777778,
              "#fb9f3a"
             ],
             [
              0.8888888888888888,
              "#fdca26"
             ],
             [
              1,
              "#f0f921"
             ]
            ],
            "type": "contour"
           }
          ],
          "contourcarpet": [
           {
            "colorbar": {
             "outlinewidth": 0,
             "ticks": ""
            },
            "type": "contourcarpet"
           }
          ],
          "heatmap": [
           {
            "colorbar": {
             "outlinewidth": 0,
             "ticks": ""
            },
            "colorscale": [
             [
              0,
              "#0d0887"
             ],
             [
              0.1111111111111111,
              "#46039f"
             ],
             [
              0.2222222222222222,
              "#7201a8"
             ],
             [
              0.3333333333333333,
              "#9c179e"
             ],
             [
              0.4444444444444444,
              "#bd3786"
             ],
             [
              0.5555555555555556,
              "#d8576b"
             ],
             [
              0.6666666666666666,
              "#ed7953"
             ],
             [
              0.7777777777777778,
              "#fb9f3a"
             ],
             [
              0.8888888888888888,
              "#fdca26"
             ],
             [
              1,
              "#f0f921"
             ]
            ],
            "type": "heatmap"
           }
          ],
          "heatmapgl": [
           {
            "colorbar": {
             "outlinewidth": 0,
             "ticks": ""
            },
            "colorscale": [
             [
              0,
              "#0d0887"
             ],
             [
              0.1111111111111111,
              "#46039f"
             ],
             [
              0.2222222222222222,
              "#7201a8"
             ],
             [
              0.3333333333333333,
              "#9c179e"
             ],
             [
              0.4444444444444444,
              "#bd3786"
             ],
             [
              0.5555555555555556,
              "#d8576b"
             ],
             [
              0.6666666666666666,
              "#ed7953"
             ],
             [
              0.7777777777777778,
              "#fb9f3a"
             ],
             [
              0.8888888888888888,
              "#fdca26"
             ],
             [
              1,
              "#f0f921"
             ]
            ],
            "type": "heatmapgl"
           }
          ],
          "histogram": [
           {
            "marker": {
             "pattern": {
              "fillmode": "overlay",
              "size": 10,
              "solidity": 0.2
             }
            },
            "type": "histogram"
           }
          ],
          "histogram2d": [
           {
            "colorbar": {
             "outlinewidth": 0,
             "ticks": ""
            },
            "colorscale": [
             [
              0,
              "#0d0887"
             ],
             [
              0.1111111111111111,
              "#46039f"
             ],
             [
              0.2222222222222222,
              "#7201a8"
             ],
             [
              0.3333333333333333,
              "#9c179e"
             ],
             [
              0.4444444444444444,
              "#bd3786"
             ],
             [
              0.5555555555555556,
              "#d8576b"
             ],
             [
              0.6666666666666666,
              "#ed7953"
             ],
             [
              0.7777777777777778,
              "#fb9f3a"
             ],
             [
              0.8888888888888888,
              "#fdca26"
             ],
             [
              1,
              "#f0f921"
             ]
            ],
            "type": "histogram2d"
           }
          ],
          "histogram2dcontour": [
           {
            "colorbar": {
             "outlinewidth": 0,
             "ticks": ""
            },
            "colorscale": [
             [
              0,
              "#0d0887"
             ],
             [
              0.1111111111111111,
              "#46039f"
             ],
             [
              0.2222222222222222,
              "#7201a8"
             ],
             [
              0.3333333333333333,
              "#9c179e"
             ],
             [
              0.4444444444444444,
              "#bd3786"
             ],
             [
              0.5555555555555556,
              "#d8576b"
             ],
             [
              0.6666666666666666,
              "#ed7953"
             ],
             [
              0.7777777777777778,
              "#fb9f3a"
             ],
             [
              0.8888888888888888,
              "#fdca26"
             ],
             [
              1,
              "#f0f921"
             ]
            ],
            "type": "histogram2dcontour"
           }
          ],
          "mesh3d": [
           {
            "colorbar": {
             "outlinewidth": 0,
             "ticks": ""
            },
            "type": "mesh3d"
           }
          ],
          "parcoords": [
           {
            "line": {
             "colorbar": {
              "outlinewidth": 0,
              "ticks": ""
             }
            },
            "type": "parcoords"
           }
          ],
          "pie": [
           {
            "automargin": true,
            "type": "pie"
           }
          ],
          "scatter": [
           {
            "fillpattern": {
             "fillmode": "overlay",
             "size": 10,
             "solidity": 0.2
            },
            "type": "scatter"
           }
          ],
          "scatter3d": [
           {
            "line": {
             "colorbar": {
              "outlinewidth": 0,
              "ticks": ""
             }
            },
            "marker": {
             "colorbar": {
              "outlinewidth": 0,
              "ticks": ""
             }
            },
            "type": "scatter3d"
           }
          ],
          "scattercarpet": [
           {
            "marker": {
             "colorbar": {
              "outlinewidth": 0,
              "ticks": ""
             }
            },
            "type": "scattercarpet"
           }
          ],
          "scattergeo": [
           {
            "marker": {
             "colorbar": {
              "outlinewidth": 0,
              "ticks": ""
             }
            },
            "type": "scattergeo"
           }
          ],
          "scattergl": [
           {
            "marker": {
             "colorbar": {
              "outlinewidth": 0,
              "ticks": ""
             }
            },
            "type": "scattergl"
           }
          ],
          "scattermapbox": [
           {
            "marker": {
             "colorbar": {
              "outlinewidth": 0,
              "ticks": ""
             }
            },
            "type": "scattermapbox"
           }
          ],
          "scatterpolar": [
           {
            "marker": {
             "colorbar": {
              "outlinewidth": 0,
              "ticks": ""
             }
            },
            "type": "scatterpolar"
           }
          ],
          "scatterpolargl": [
           {
            "marker": {
             "colorbar": {
              "outlinewidth": 0,
              "ticks": ""
             }
            },
            "type": "scatterpolargl"
           }
          ],
          "scatterternary": [
           {
            "marker": {
             "colorbar": {
              "outlinewidth": 0,
              "ticks": ""
             }
            },
            "type": "scatterternary"
           }
          ],
          "surface": [
           {
            "colorbar": {
             "outlinewidth": 0,
             "ticks": ""
            },
            "colorscale": [
             [
              0,
              "#0d0887"
             ],
             [
              0.1111111111111111,
              "#46039f"
             ],
             [
              0.2222222222222222,
              "#7201a8"
             ],
             [
              0.3333333333333333,
              "#9c179e"
             ],
             [
              0.4444444444444444,
              "#bd3786"
             ],
             [
              0.5555555555555556,
              "#d8576b"
             ],
             [
              0.6666666666666666,
              "#ed7953"
             ],
             [
              0.7777777777777778,
              "#fb9f3a"
             ],
             [
              0.8888888888888888,
              "#fdca26"
             ],
             [
              1,
              "#f0f921"
             ]
            ],
            "type": "surface"
           }
          ],
          "table": [
           {
            "cells": {
             "fill": {
              "color": "#EBF0F8"
             },
             "line": {
              "color": "white"
             }
            },
            "header": {
             "fill": {
              "color": "#C8D4E3"
             },
             "line": {
              "color": "white"
             }
            },
            "type": "table"
           }
          ]
         },
         "layout": {
          "annotationdefaults": {
           "arrowcolor": "#2a3f5f",
           "arrowhead": 0,
           "arrowwidth": 1
          },
          "autotypenumbers": "strict",
          "coloraxis": {
           "colorbar": {
            "outlinewidth": 0,
            "ticks": ""
           }
          },
          "colorscale": {
           "diverging": [
            [
             0,
             "#8e0152"
            ],
            [
             0.1,
             "#c51b7d"
            ],
            [
             0.2,
             "#de77ae"
            ],
            [
             0.3,
             "#f1b6da"
            ],
            [
             0.4,
             "#fde0ef"
            ],
            [
             0.5,
             "#f7f7f7"
            ],
            [
             0.6,
             "#e6f5d0"
            ],
            [
             0.7,
             "#b8e186"
            ],
            [
             0.8,
             "#7fbc41"
            ],
            [
             0.9,
             "#4d9221"
            ],
            [
             1,
             "#276419"
            ]
           ],
           "sequential": [
            [
             0,
             "#0d0887"
            ],
            [
             0.1111111111111111,
             "#46039f"
            ],
            [
             0.2222222222222222,
             "#7201a8"
            ],
            [
             0.3333333333333333,
             "#9c179e"
            ],
            [
             0.4444444444444444,
             "#bd3786"
            ],
            [
             0.5555555555555556,
             "#d8576b"
            ],
            [
             0.6666666666666666,
             "#ed7953"
            ],
            [
             0.7777777777777778,
             "#fb9f3a"
            ],
            [
             0.8888888888888888,
             "#fdca26"
            ],
            [
             1,
             "#f0f921"
            ]
           ],
           "sequentialminus": [
            [
             0,
             "#0d0887"
            ],
            [
             0.1111111111111111,
             "#46039f"
            ],
            [
             0.2222222222222222,
             "#7201a8"
            ],
            [
             0.3333333333333333,
             "#9c179e"
            ],
            [
             0.4444444444444444,
             "#bd3786"
            ],
            [
             0.5555555555555556,
             "#d8576b"
            ],
            [
             0.6666666666666666,
             "#ed7953"
            ],
            [
             0.7777777777777778,
             "#fb9f3a"
            ],
            [
             0.8888888888888888,
             "#fdca26"
            ],
            [
             1,
             "#f0f921"
            ]
           ]
          },
          "colorway": [
           "#636efa",
           "#EF553B",
           "#00cc96",
           "#ab63fa",
           "#FFA15A",
           "#19d3f3",
           "#FF6692",
           "#B6E880",
           "#FF97FF",
           "#FECB52"
          ],
          "font": {
           "color": "#2a3f5f"
          },
          "geo": {
           "bgcolor": "white",
           "lakecolor": "white",
           "landcolor": "#E5ECF6",
           "showlakes": true,
           "showland": true,
           "subunitcolor": "white"
          },
          "hoverlabel": {
           "align": "left"
          },
          "hovermode": "closest",
          "mapbox": {
           "style": "light"
          },
          "paper_bgcolor": "white",
          "plot_bgcolor": "#E5ECF6",
          "polar": {
           "angularaxis": {
            "gridcolor": "white",
            "linecolor": "white",
            "ticks": ""
           },
           "bgcolor": "#E5ECF6",
           "radialaxis": {
            "gridcolor": "white",
            "linecolor": "white",
            "ticks": ""
           }
          },
          "scene": {
           "xaxis": {
            "backgroundcolor": "#E5ECF6",
            "gridcolor": "white",
            "gridwidth": 2,
            "linecolor": "white",
            "showbackground": true,
            "ticks": "",
            "zerolinecolor": "white"
           },
           "yaxis": {
            "backgroundcolor": "#E5ECF6",
            "gridcolor": "white",
            "gridwidth": 2,
            "linecolor": "white",
            "showbackground": true,
            "ticks": "",
            "zerolinecolor": "white"
           },
           "zaxis": {
            "backgroundcolor": "#E5ECF6",
            "gridcolor": "white",
            "gridwidth": 2,
            "linecolor": "white",
            "showbackground": true,
            "ticks": "",
            "zerolinecolor": "white"
           }
          },
          "shapedefaults": {
           "line": {
            "color": "#2a3f5f"
           }
          },
          "ternary": {
           "aaxis": {
            "gridcolor": "white",
            "linecolor": "white",
            "ticks": ""
           },
           "baxis": {
            "gridcolor": "white",
            "linecolor": "white",
            "ticks": ""
           },
           "bgcolor": "#E5ECF6",
           "caxis": {
            "gridcolor": "white",
            "linecolor": "white",
            "ticks": ""
           }
          },
          "title": {
           "x": 0.05
          },
          "xaxis": {
           "automargin": true,
           "gridcolor": "white",
           "linecolor": "white",
           "ticks": "",
           "title": {
            "standoff": 15
           },
           "zerolinecolor": "white",
           "zerolinewidth": 2
          },
          "yaxis": {
           "automargin": true,
           "gridcolor": "white",
           "linecolor": "white",
           "ticks": "",
           "title": {
            "standoff": 15
           },
           "zerolinecolor": "white",
           "zerolinewidth": 2
          }
         }
        },
        "title": {
         "text": "Projects Completed by Interested Domain"
        },
        "xaxis": {
         "anchor": "y",
         "domain": [
          0,
          1
         ],
         "title": {
          "text": "Interested Domain"
         }
        },
        "yaxis": {
         "anchor": "x",
         "domain": [
          0,
          1
         ],
         "title": {
          "text": "Projects"
         }
        }
       }
      }
     },
     "metadata": {},
     "output_type": "display_data"
    }
   ],
   "source": [
    "px.bar(df, x=\"Interested Domain\", y=\"Projects\", color=\"Gender\", title=\"Projects Completed by Interested Domain\", barmode=\"stack\")"
   ]
  },
  {
   "cell_type": "code",
   "execution_count": 34,
   "id": "6118a599",
   "metadata": {},
   "outputs": [
    {
     "data": {
      "application/vnd.plotly.v1+json": {
       "config": {
        "plotlyServerURL": "https://plot.ly"
       },
       "data": [
        {
         "customdata": [
          [
           "John Smith"
          ],
          [
           "Robert Davis"
          ],
          [
           "Michael Brown"
          ],
          [
           "William Johnson"
          ],
          [
           "James Wilson"
          ],
          [
           "Andrew Hall"
          ],
          [
           "David Jones"
          ],
          [
           "Charles Miller"
          ],
          [
           "John Brown"
          ],
          [
           "William Johnson"
          ],
          [
           "James Wilson"
          ],
          [
           "Andrew Hall"
          ],
          [
           "David Jones"
          ],
          [
           "Charles Miller"
          ],
          [
           "John Brown"
          ],
          [
           "William Johnson"
          ],
          [
           "James Wilson"
          ],
          [
           "Andrew Hall"
          ],
          [
           "David Jones"
          ],
          [
           "Charles Miller"
          ],
          [
           "John Brown"
          ],
          [
           "Peter Parker"
          ],
          [
           "Harry Osborn"
          ],
          [
           "Eddie Brock"
          ],
          [
           "Flash Thompson"
          ],
          [
           "Jason Macendale"
          ],
          [
           "Fred Myers"
          ],
          [
           "Ned Leeds"
          ],
          [
           "Venom"
          ],
          [
           "Carnage"
          ],
          [
           "Lizard"
          ],
          [
           "Electro"
          ],
          [
           "Sandman"
          ],
          [
           "Mysterio"
          ],
          [
           "Rhino"
          ],
          [
           "Scorpion"
          ],
          [
           "Vulture"
          ],
          [
           "Shocker"
          ],
          [
           "Kraven the Hunter"
          ],
          [
           "Green Goblin"
          ],
          [
           "Doctor Octopus"
          ],
          [
           "Morbius"
          ],
          [
           "Lizard"
          ],
          [
           "Hydro-Man"
          ],
          [
           "Kingpin"
          ],
          [
           "Taskmaster"
          ],
          [
           "MODOK"
          ],
          [
           "AIM"
          ],
          [
           "Hydra"
          ],
          [
           "Agent Coulson"
          ],
          [
           "Agent Fitz"
          ],
          [
           "Agent Mack"
          ],
          [
           "Agent Lance Hunter"
          ],
          [
           "Oliver Davis"
          ],
          [
           "Liam Wilson"
          ],
          [
           "Michael Brown"
          ],
          [
           "William Davis"
          ],
          [
           "John Smith"
          ],
          [
           "Robert Davis"
          ],
          [
           "Michael Brown"
          ],
          [
           "William Johnson"
          ],
          [
           "James Wilson"
          ],
          [
           "Andrew Hall"
          ],
          [
           "David Jones"
          ],
          [
           "Charles Miller"
          ],
          [
           "John Brown"
          ],
          [
           "William Johnson"
          ],
          [
           "James Wilson"
          ],
          [
           "Andrew Hall"
          ],
          [
           "Michael Johnson"
          ],
          [
           "William Brown"
          ],
          [
           "David Lee"
          ],
          [
           "James Wilson"
          ],
          [
           "Matthew Hall"
          ],
          [
           "William Smith"
          ],
          [
           "David Brown"
          ],
          [
           "James Miller"
          ],
          [
           "Matthew Lee"
          ],
          [
           "Oliver Davis"
          ],
          [
           "Elijah Smith"
          ],
          [
           "Liam Wilson"
          ],
          [
           "Michael Brown"
          ],
          [
           "William Davis"
          ],
          [
           "John Smith"
          ],
          [
           "Joseph Miller"
          ],
          [
           "Oliver Brown"
          ],
          [
           "William Smith"
          ],
          [
           "James Wilson"
          ],
          [
           "Matthew Hall"
          ],
          [
           "Elijah Davis"
          ],
          [
           "Liam Wilson"
          ],
          [
           "Michael Brown"
          ],
          [
           "William Davis"
          ],
          [
           "John Smith"
          ],
          [
           "Joseph Miller"
          ],
          [
           "Oliver Brown"
          ],
          [
           "William Smith"
          ],
          [
           "James Wilson"
          ],
          [
           "Matthew Hall"
          ],
          [
           "Elijah Davis"
          ],
          [
           "Liam Wilson"
          ],
          [
           "Michael Brown"
          ]
         ],
         "hovertemplate": "Gender=Male<br>GPA=%{x}<br>Future Career=%{y}<br>Age=%{marker.size}<br>Name=%{customdata[0]}<extra></extra>",
         "legendgroup": "Male",
         "marker": {
          "color": "#636efa",
          "size": [
           21,
           22,
           23,
           20,
           23,
           21,
           22,
           23,
           20,
           23,
           20,
           23,
           22,
           23,
           20,
           23,
           20,
           23,
           22,
           23,
           20,
           20,
           23,
           21,
           22,
           23,
           22,
           20,
           20,
           22,
           21,
           23,
           22,
           20,
           21,
           22,
           23,
           20,
           22,
           21,
           23,
           22,
           20,
           21,
           22,
           23,
           20,
           22,
           21,
           35,
           35,
           37,
           33,
           22,
           23,
           21,
           22,
           23,
           22,
           23,
           20,
           23,
           21,
           22,
           23,
           20,
           23,
           20,
           23,
           22,
           23,
           21,
           23,
           21,
           23,
           22,
           23,
           21,
           23,
           22,
           23,
           21,
           23,
           21,
           21,
           23,
           21,
           20,
           23,
           22,
           21,
           23,
           21,
           23,
           21,
           23,
           21,
           20,
           23,
           22,
           21,
           23
          ],
          "sizemode": "area",
          "sizeref": 0.0925,
          "symbol": "circle"
         },
         "mode": "markers",
         "name": "Male",
         "orientation": "h",
         "showlegend": true,
         "type": "scatter",
         "x": [
          3.5,
          3.8,
          3.4,
          3.6,
          3.3,
          3.8,
          3.7,
          3.5,
          3.6,
          3.6,
          3.3,
          3.8,
          3.7,
          3.5,
          3.6,
          3.6,
          3.3,
          3.8,
          3.7,
          3.5,
          3.6,
          3.3,
          3.5,
          3.6,
          3.7,
          3.8,
          3.6,
          3.3,
          3.3,
          3.7,
          3.5,
          3.8,
          3.6,
          3.3,
          3.7,
          3.5,
          3.8,
          3.3,
          3.7,
          3.5,
          3.8,
          3.6,
          3.3,
          3.7,
          3.5,
          3.8,
          3.3,
          3.7,
          3.5,
          3.9,
          3.9,
          3.8,
          3.6,
          3.7,
          3.8,
          3.9,
          3.4,
          3.6,
          3.8,
          3.4,
          3.6,
          3.3,
          3.8,
          3.7,
          3.5,
          3.6,
          3.6,
          3.3,
          3.8,
          3.4,
          3.7,
          3.8,
          3.3,
          3.8,
          3.3,
          3.8,
          3.3,
          3.8,
          3.7,
          3.4,
          3.7,
          3.8,
          3.3,
          3.6,
          3.6,
          3.7,
          3.9,
          3.6,
          3.8,
          3.7,
          3.4,
          3.7,
          3.7,
          3.6,
          3.6,
          3.7,
          3.9,
          3.6,
          3.8,
          3.7,
          3.4,
          3.7
         ],
         "xaxis": "x",
         "y": [
          "Machine Learning Researcher",
          "Software Engineer",
          "Information Security Analyst",
          "Database Administrator",
          "Mobile App Developer",
          "NLP Research Scientist",
          "Web Developer",
          "Game Developer",
          "Information Security Analyst",
          "Database Administrator",
          "Mobile App Developer",
          "NLP Research Scientist",
          "Web Developer",
          "Game Developer",
          "Information Security Analyst",
          "Database Administrator",
          "Mobile App Developer",
          "NLP Research Scientist",
          "Web Developer",
          "Game Developer",
          "Information Security Analyst",
          "Software Engineer",
          "Mobile App Developer",
          "NLP Research Scientist",
          "Information Security Analyst",
          "Cloud Solutions Architect",
          "Software Engineer",
          "Mobile App Developer",
          "Data Scientist",
          "Information Security Analyst",
          "Database Administrator",
          "Cloud Solutions Architect",
          "Software Engineer",
          "Web Developer",
          "Mobile App Developer",
          "Graphics Programmer",
          "NLP Research Scientist",
          "Data Scientist",
          "Information Security Analyst",
          "Database Administrator",
          "Cloud Solutions Architect",
          "Software Engineer",
          "Web Developer",
          "Mobile App Developer",
          "Graphics Programmer",
          "NLP Research Scientist",
          "Data Scientist",
          "Information Security Analyst",
          "Database Administrator",
          "Cloud Solutions Architect",
          "Software Engineer",
          "Graphics Programmer",
          "Data Scientist",
          "Security Analyst",
          "Database Administrator",
          "Web Developer",
          "Robotics Engineer",
          "Ethical Hacker",
          "DevOps Engineer",
          "IoT Developer",
          "Data Analyst",
          "UX Designer",
          "Quantum Computing Researcher",
          "VR Developer",
          "SEO Specialist",
          "Geospatial Analyst",
          "Digital Forensics Specialist",
          "UX Designer",
          "Quantum Computing Researcher",
          "Data Analyst",
          "Web Developer",
          "Machine Learning Engineer",
          "Cloud Solutions Architect",
          "NLP Research Scientist",
          "Mobile App Developer",
          "Software Engineer",
          "Database Administrator",
          "AI Researcher",
          "Data Scientist",
          "Web Developer",
          "Machine Learning Engineer",
          "Cloud Solutions Architect",
          "AI Researcher",
          "Web Developer",
          "Data Scientist",
          "Web Developer",
          "Machine Learning Engineer",
          "Cloud Solutions Architect",
          "NLP Research Scientist",
          "Web Developer",
          "Machine Learning Engineer",
          "Cloud Solutions Architect",
          "AI Researcher",
          "Web Developer",
          "Data Analyst",
          "Web Developer",
          "Machine Learning Engineer",
          "Cloud Solutions Architect",
          "NLP Research Scientist",
          "Web Developer",
          "Machine Learning Engineer",
          "Cloud Solutions Architect"
         ],
         "yaxis": "y"
        },
        {
         "customdata": [
          [
           "Alice Johnson"
          ],
          [
           "Emily Wilson"
          ],
          [
           "Laura Lee"
          ],
          [
           "Sarah Miller"
          ],
          [
           "Olivia Clark"
          ],
          [
           "Elizabeth Williams"
          ],
          [
           "Susan Davis"
          ],
          [
           "Laura Lee"
          ],
          [
           "Sarah Miller"
          ],
          [
           "Olivia Clark"
          ],
          [
           "Elizabeth Williams"
          ],
          [
           "Susan Davis"
          ],
          [
           "Laura Lee"
          ],
          [
           "Sarah Miller"
          ],
          [
           "Olivia Clark"
          ],
          [
           "Elizabeth Williams"
          ],
          [
           "Susan Davis"
          ],
          [
           "Laura Lee"
          ],
          [
           "Jessica Jones"
          ],
          [
           "Mary Jane Watson"
          ],
          [
           "Gwen Stacy"
          ],
          [
           "Michelle Williams"
          ],
          [
           "Liz Allan"
          ],
          [
           "Betty Brant"
          ],
          [
           "Silver Sable"
          ],
          [
           "Black Cat"
          ],
          [
           "AIM"
          ],
          [
           "Agent Hill"
          ],
          [
           "Agent Melinda May"
          ],
          [
           "Agent Daisy Johnson"
          ],
          [
           "Agent Simmons"
          ],
          [
           "Agent Bobbi Morse"
          ],
          [
           "Ava Miller"
          ],
          [
           "Sophia Johnson"
          ],
          [
           "Emily Lee"
          ],
          [
           "Olivia Brown"
          ],
          [
           "Alice Johnson"
          ],
          [
           "Emily Wilson"
          ],
          [
           "Laura Lee"
          ],
          [
           "Sarah Miller"
          ],
          [
           "Olivia Clark"
          ],
          [
           "Elizabeth Williams"
          ],
          [
           "Susan Davis"
          ],
          [
           "Laura Lee"
          ],
          [
           "Sarah Miller"
          ],
          [
           "Olivia Clark"
          ],
          [
           "Grace Smith"
          ],
          [
           "Olivia Davis"
          ],
          [
           "Emily Wilson"
          ],
          [
           "Sophia Miller"
          ],
          [
           "Emma Clark"
          ],
          [
           "Olivia Davis"
          ],
          [
           "Emily Johnson"
          ],
          [
           "Sophia Wilson"
          ],
          [
           "Emma Johnson"
          ],
          [
           "Isabella Brown"
          ],
          [
           "Ava Miller"
          ],
          [
           "Sophia Johnson"
          ],
          [
           "Emily Lee"
          ],
          [
           "Olivia Brown"
          ],
          [
           "Alice Johnson"
          ],
          [
           "Charlotte Davis"
          ],
          [
           "Emma Wilson"
          ],
          [
           "Sophia Johnson"
          ],
          [
           "Charlotte Davis"
          ],
          [
           "Olivia Clark"
          ],
          [
           "Emma Johnson"
          ],
          [
           "Sophia Johnson"
          ],
          [
           "Emily Lee"
          ],
          [
           "Olivia Brown"
          ],
          [
           "Alice Johnson"
          ],
          [
           "Charlotte Davis"
          ],
          [
           "Emma Wilson"
          ],
          [
           "Sophia Johnson"
          ],
          [
           "Charlotte Davis"
          ],
          [
           "Olivia Clark"
          ],
          [
           "Emma Johnson"
          ],
          [
           "Sophia Johnson"
          ]
         ],
         "hovertemplate": "Gender=Female<br>GPA=%{x}<br>Future Career=%{y}<br>Age=%{marker.size}<br>Name=%{customdata[0]}<extra></extra>",
         "legendgroup": "Female",
         "marker": {
          "color": "#EF553B",
          "size": [
           20,
           21,
           22,
           21,
           22,
           21,
           22,
           21,
           22,
           21,
           21,
           22,
           21,
           22,
           21,
           21,
           22,
           21,
           22,
           21,
           22,
           20,
           21,
           21,
           22,
           21,
           22,
           33,
           37,
           29,
           31,
           29,
           21,
           22,
           20,
           21,
           20,
           21,
           22,
           21,
           22,
           21,
           22,
           21,
           22,
           21,
           20,
           21,
           22,
           20,
           22,
           22,
           20,
           21,
           22,
           20,
           21,
           22,
           20,
           22,
           20,
           22,
           20,
           22,
           22,
           21,
           20,
           22,
           20,
           22,
           20,
           22,
           20,
           22,
           22,
           21,
           20,
           22
          ],
          "sizemode": "area",
          "sizeref": 0.0925,
          "symbol": "circle"
         },
         "mode": "markers",
         "name": "Female",
         "orientation": "h",
         "showlegend": true,
         "type": "scatter",
         "x": [
          3.2,
          3.7,
          3.9,
          3.7,
          3.5,
          3.3,
          3.8,
          3.9,
          3.7,
          3.5,
          3.3,
          3.8,
          3.9,
          3.7,
          3.5,
          3.3,
          3.8,
          3.9,
          3.6,
          3.7,
          3.8,
          3.3,
          3.5,
          3.7,
          3.8,
          3.6,
          3.7,
          3.8,
          3.7,
          3.6,
          3.5,
          3.7,
          3.6,
          3.5,
          3.7,
          3.5,
          3.2,
          3.7,
          3.9,
          3.7,
          3.5,
          3.3,
          3.8,
          3.9,
          3.7,
          3.5,
          3.6,
          3.9,
          3.5,
          3.7,
          3.5,
          3.7,
          3.5,
          3.7,
          3.5,
          3.6,
          3.9,
          3.5,
          3.7,
          3.5,
          3.7,
          3.7,
          3.8,
          3.5,
          3.7,
          3.5,
          3.6,
          3.5,
          3.8,
          3.5,
          3.7,
          3.7,
          3.8,
          3.5,
          3.7,
          3.5,
          3.6,
          3.5
         ],
         "xaxis": "x",
         "y": [
          "Data Scientist",
          "Web Developer",
          "Machine Learning Engineer",
          "Cloud Solutions Architect",
          "Graphics Programmer",
          "Mobile App Developer",
          "Software Engineer",
          "Machine Learning Engineer",
          "Cloud Solutions Architect",
          "Graphics Programmer",
          "Mobile App Developer",
          "Software Engineer",
          "Machine Learning Engineer",
          "Cloud Solutions Architect",
          "Graphics Programmer",
          "Mobile App Developer",
          "Software Engineer",
          "Machine Learning Engineer",
          "Cloud Solutions Architect",
          "Web Developer",
          "Graphics Programmer",
          "Data Scientist",
          "Database Administrator",
          "Web Developer",
          "Graphics Programmer",
          "NLP Research Scientist",
          "Information Security Analyst",
          "Information Security Analyst",
          "Database Administrator",
          "Mobile App Developer",
          "Web Developer",
          "NLP Research Scientist",
          "Machine Learning Engineer",
          "Embedded Software Engineer",
          "Data Analyst",
          "Game Developer",
          "Computer Vision Engineer",
          "Bioinformatician",
          "NLP Engineer",
          "Cloud Solutions Architect",
          "Healthcare IT Specialist",
          "Blockchain Engineer",
          "Data Privacy Specialist",
          "Distributed Systems Engineer",
          "Bioinformatician",
          "Healthcare IT Specialist",
          "AI Researcher",
          "Software Engineer",
          "Information Security Analyst",
          "Database Administrator",
          "Mobile App Developer",
          "Web Developer",
          "Graphics Programmer",
          "Information Security Analyst",
          "Cloud Solutions Architect",
          "Software Engineer",
          "Information Security Analyst",
          "Database Administrator",
          "Mobile App Developer",
          "Data Analyst",
          "Machine Learning Engineer",
          "AI Researcher",
          "Software Engineer",
          "Information Security Analyst",
          "Database Administrator",
          "Mobile App Developer",
          "Information Security Analyst",
          "Database Administrator",
          "Mobile App Developer",
          "Data Analyst",
          "Machine Learning Engineer",
          "AI Researcher",
          "Software Engineer",
          "Information Security Analyst",
          "Database Administrator",
          "Mobile App Developer",
          "Information Security Analyst",
          "Database Administrator"
         ],
         "yaxis": "y"
        }
       ],
       "layout": {
        "legend": {
         "itemsizing": "constant",
         "title": {
          "text": "Gender"
         },
         "tracegroupgap": 0
        },
        "template": {
         "data": {
          "bar": [
           {
            "error_x": {
             "color": "#2a3f5f"
            },
            "error_y": {
             "color": "#2a3f5f"
            },
            "marker": {
             "line": {
              "color": "#E5ECF6",
              "width": 0.5
             },
             "pattern": {
              "fillmode": "overlay",
              "size": 10,
              "solidity": 0.2
             }
            },
            "type": "bar"
           }
          ],
          "barpolar": [
           {
            "marker": {
             "line": {
              "color": "#E5ECF6",
              "width": 0.5
             },
             "pattern": {
              "fillmode": "overlay",
              "size": 10,
              "solidity": 0.2
             }
            },
            "type": "barpolar"
           }
          ],
          "carpet": [
           {
            "aaxis": {
             "endlinecolor": "#2a3f5f",
             "gridcolor": "white",
             "linecolor": "white",
             "minorgridcolor": "white",
             "startlinecolor": "#2a3f5f"
            },
            "baxis": {
             "endlinecolor": "#2a3f5f",
             "gridcolor": "white",
             "linecolor": "white",
             "minorgridcolor": "white",
             "startlinecolor": "#2a3f5f"
            },
            "type": "carpet"
           }
          ],
          "choropleth": [
           {
            "colorbar": {
             "outlinewidth": 0,
             "ticks": ""
            },
            "type": "choropleth"
           }
          ],
          "contour": [
           {
            "colorbar": {
             "outlinewidth": 0,
             "ticks": ""
            },
            "colorscale": [
             [
              0,
              "#0d0887"
             ],
             [
              0.1111111111111111,
              "#46039f"
             ],
             [
              0.2222222222222222,
              "#7201a8"
             ],
             [
              0.3333333333333333,
              "#9c179e"
             ],
             [
              0.4444444444444444,
              "#bd3786"
             ],
             [
              0.5555555555555556,
              "#d8576b"
             ],
             [
              0.6666666666666666,
              "#ed7953"
             ],
             [
              0.7777777777777778,
              "#fb9f3a"
             ],
             [
              0.8888888888888888,
              "#fdca26"
             ],
             [
              1,
              "#f0f921"
             ]
            ],
            "type": "contour"
           }
          ],
          "contourcarpet": [
           {
            "colorbar": {
             "outlinewidth": 0,
             "ticks": ""
            },
            "type": "contourcarpet"
           }
          ],
          "heatmap": [
           {
            "colorbar": {
             "outlinewidth": 0,
             "ticks": ""
            },
            "colorscale": [
             [
              0,
              "#0d0887"
             ],
             [
              0.1111111111111111,
              "#46039f"
             ],
             [
              0.2222222222222222,
              "#7201a8"
             ],
             [
              0.3333333333333333,
              "#9c179e"
             ],
             [
              0.4444444444444444,
              "#bd3786"
             ],
             [
              0.5555555555555556,
              "#d8576b"
             ],
             [
              0.6666666666666666,
              "#ed7953"
             ],
             [
              0.7777777777777778,
              "#fb9f3a"
             ],
             [
              0.8888888888888888,
              "#fdca26"
             ],
             [
              1,
              "#f0f921"
             ]
            ],
            "type": "heatmap"
           }
          ],
          "heatmapgl": [
           {
            "colorbar": {
             "outlinewidth": 0,
             "ticks": ""
            },
            "colorscale": [
             [
              0,
              "#0d0887"
             ],
             [
              0.1111111111111111,
              "#46039f"
             ],
             [
              0.2222222222222222,
              "#7201a8"
             ],
             [
              0.3333333333333333,
              "#9c179e"
             ],
             [
              0.4444444444444444,
              "#bd3786"
             ],
             [
              0.5555555555555556,
              "#d8576b"
             ],
             [
              0.6666666666666666,
              "#ed7953"
             ],
             [
              0.7777777777777778,
              "#fb9f3a"
             ],
             [
              0.8888888888888888,
              "#fdca26"
             ],
             [
              1,
              "#f0f921"
             ]
            ],
            "type": "heatmapgl"
           }
          ],
          "histogram": [
           {
            "marker": {
             "pattern": {
              "fillmode": "overlay",
              "size": 10,
              "solidity": 0.2
             }
            },
            "type": "histogram"
           }
          ],
          "histogram2d": [
           {
            "colorbar": {
             "outlinewidth": 0,
             "ticks": ""
            },
            "colorscale": [
             [
              0,
              "#0d0887"
             ],
             [
              0.1111111111111111,
              "#46039f"
             ],
             [
              0.2222222222222222,
              "#7201a8"
             ],
             [
              0.3333333333333333,
              "#9c179e"
             ],
             [
              0.4444444444444444,
              "#bd3786"
             ],
             [
              0.5555555555555556,
              "#d8576b"
             ],
             [
              0.6666666666666666,
              "#ed7953"
             ],
             [
              0.7777777777777778,
              "#fb9f3a"
             ],
             [
              0.8888888888888888,
              "#fdca26"
             ],
             [
              1,
              "#f0f921"
             ]
            ],
            "type": "histogram2d"
           }
          ],
          "histogram2dcontour": [
           {
            "colorbar": {
             "outlinewidth": 0,
             "ticks": ""
            },
            "colorscale": [
             [
              0,
              "#0d0887"
             ],
             [
              0.1111111111111111,
              "#46039f"
             ],
             [
              0.2222222222222222,
              "#7201a8"
             ],
             [
              0.3333333333333333,
              "#9c179e"
             ],
             [
              0.4444444444444444,
              "#bd3786"
             ],
             [
              0.5555555555555556,
              "#d8576b"
             ],
             [
              0.6666666666666666,
              "#ed7953"
             ],
             [
              0.7777777777777778,
              "#fb9f3a"
             ],
             [
              0.8888888888888888,
              "#fdca26"
             ],
             [
              1,
              "#f0f921"
             ]
            ],
            "type": "histogram2dcontour"
           }
          ],
          "mesh3d": [
           {
            "colorbar": {
             "outlinewidth": 0,
             "ticks": ""
            },
            "type": "mesh3d"
           }
          ],
          "parcoords": [
           {
            "line": {
             "colorbar": {
              "outlinewidth": 0,
              "ticks": ""
             }
            },
            "type": "parcoords"
           }
          ],
          "pie": [
           {
            "automargin": true,
            "type": "pie"
           }
          ],
          "scatter": [
           {
            "fillpattern": {
             "fillmode": "overlay",
             "size": 10,
             "solidity": 0.2
            },
            "type": "scatter"
           }
          ],
          "scatter3d": [
           {
            "line": {
             "colorbar": {
              "outlinewidth": 0,
              "ticks": ""
             }
            },
            "marker": {
             "colorbar": {
              "outlinewidth": 0,
              "ticks": ""
             }
            },
            "type": "scatter3d"
           }
          ],
          "scattercarpet": [
           {
            "marker": {
             "colorbar": {
              "outlinewidth": 0,
              "ticks": ""
             }
            },
            "type": "scattercarpet"
           }
          ],
          "scattergeo": [
           {
            "marker": {
             "colorbar": {
              "outlinewidth": 0,
              "ticks": ""
             }
            },
            "type": "scattergeo"
           }
          ],
          "scattergl": [
           {
            "marker": {
             "colorbar": {
              "outlinewidth": 0,
              "ticks": ""
             }
            },
            "type": "scattergl"
           }
          ],
          "scattermapbox": [
           {
            "marker": {
             "colorbar": {
              "outlinewidth": 0,
              "ticks": ""
             }
            },
            "type": "scattermapbox"
           }
          ],
          "scatterpolar": [
           {
            "marker": {
             "colorbar": {
              "outlinewidth": 0,
              "ticks": ""
             }
            },
            "type": "scatterpolar"
           }
          ],
          "scatterpolargl": [
           {
            "marker": {
             "colorbar": {
              "outlinewidth": 0,
              "ticks": ""
             }
            },
            "type": "scatterpolargl"
           }
          ],
          "scatterternary": [
           {
            "marker": {
             "colorbar": {
              "outlinewidth": 0,
              "ticks": ""
             }
            },
            "type": "scatterternary"
           }
          ],
          "surface": [
           {
            "colorbar": {
             "outlinewidth": 0,
             "ticks": ""
            },
            "colorscale": [
             [
              0,
              "#0d0887"
             ],
             [
              0.1111111111111111,
              "#46039f"
             ],
             [
              0.2222222222222222,
              "#7201a8"
             ],
             [
              0.3333333333333333,
              "#9c179e"
             ],
             [
              0.4444444444444444,
              "#bd3786"
             ],
             [
              0.5555555555555556,
              "#d8576b"
             ],
             [
              0.6666666666666666,
              "#ed7953"
             ],
             [
              0.7777777777777778,
              "#fb9f3a"
             ],
             [
              0.8888888888888888,
              "#fdca26"
             ],
             [
              1,
              "#f0f921"
             ]
            ],
            "type": "surface"
           }
          ],
          "table": [
           {
            "cells": {
             "fill": {
              "color": "#EBF0F8"
             },
             "line": {
              "color": "white"
             }
            },
            "header": {
             "fill": {
              "color": "#C8D4E3"
             },
             "line": {
              "color": "white"
             }
            },
            "type": "table"
           }
          ]
         },
         "layout": {
          "annotationdefaults": {
           "arrowcolor": "#2a3f5f",
           "arrowhead": 0,
           "arrowwidth": 1
          },
          "autotypenumbers": "strict",
          "coloraxis": {
           "colorbar": {
            "outlinewidth": 0,
            "ticks": ""
           }
          },
          "colorscale": {
           "diverging": [
            [
             0,
             "#8e0152"
            ],
            [
             0.1,
             "#c51b7d"
            ],
            [
             0.2,
             "#de77ae"
            ],
            [
             0.3,
             "#f1b6da"
            ],
            [
             0.4,
             "#fde0ef"
            ],
            [
             0.5,
             "#f7f7f7"
            ],
            [
             0.6,
             "#e6f5d0"
            ],
            [
             0.7,
             "#b8e186"
            ],
            [
             0.8,
             "#7fbc41"
            ],
            [
             0.9,
             "#4d9221"
            ],
            [
             1,
             "#276419"
            ]
           ],
           "sequential": [
            [
             0,
             "#0d0887"
            ],
            [
             0.1111111111111111,
             "#46039f"
            ],
            [
             0.2222222222222222,
             "#7201a8"
            ],
            [
             0.3333333333333333,
             "#9c179e"
            ],
            [
             0.4444444444444444,
             "#bd3786"
            ],
            [
             0.5555555555555556,
             "#d8576b"
            ],
            [
             0.6666666666666666,
             "#ed7953"
            ],
            [
             0.7777777777777778,
             "#fb9f3a"
            ],
            [
             0.8888888888888888,
             "#fdca26"
            ],
            [
             1,
             "#f0f921"
            ]
           ],
           "sequentialminus": [
            [
             0,
             "#0d0887"
            ],
            [
             0.1111111111111111,
             "#46039f"
            ],
            [
             0.2222222222222222,
             "#7201a8"
            ],
            [
             0.3333333333333333,
             "#9c179e"
            ],
            [
             0.4444444444444444,
             "#bd3786"
            ],
            [
             0.5555555555555556,
             "#d8576b"
            ],
            [
             0.6666666666666666,
             "#ed7953"
            ],
            [
             0.7777777777777778,
             "#fb9f3a"
            ],
            [
             0.8888888888888888,
             "#fdca26"
            ],
            [
             1,
             "#f0f921"
            ]
           ]
          },
          "colorway": [
           "#636efa",
           "#EF553B",
           "#00cc96",
           "#ab63fa",
           "#FFA15A",
           "#19d3f3",
           "#FF6692",
           "#B6E880",
           "#FF97FF",
           "#FECB52"
          ],
          "font": {
           "color": "#2a3f5f"
          },
          "geo": {
           "bgcolor": "white",
           "lakecolor": "white",
           "landcolor": "#E5ECF6",
           "showlakes": true,
           "showland": true,
           "subunitcolor": "white"
          },
          "hoverlabel": {
           "align": "left"
          },
          "hovermode": "closest",
          "mapbox": {
           "style": "light"
          },
          "paper_bgcolor": "white",
          "plot_bgcolor": "#E5ECF6",
          "polar": {
           "angularaxis": {
            "gridcolor": "white",
            "linecolor": "white",
            "ticks": ""
           },
           "bgcolor": "#E5ECF6",
           "radialaxis": {
            "gridcolor": "white",
            "linecolor": "white",
            "ticks": ""
           }
          },
          "scene": {
           "xaxis": {
            "backgroundcolor": "#E5ECF6",
            "gridcolor": "white",
            "gridwidth": 2,
            "linecolor": "white",
            "showbackground": true,
            "ticks": "",
            "zerolinecolor": "white"
           },
           "yaxis": {
            "backgroundcolor": "#E5ECF6",
            "gridcolor": "white",
            "gridwidth": 2,
            "linecolor": "white",
            "showbackground": true,
            "ticks": "",
            "zerolinecolor": "white"
           },
           "zaxis": {
            "backgroundcolor": "#E5ECF6",
            "gridcolor": "white",
            "gridwidth": 2,
            "linecolor": "white",
            "showbackground": true,
            "ticks": "",
            "zerolinecolor": "white"
           }
          },
          "shapedefaults": {
           "line": {
            "color": "#2a3f5f"
           }
          },
          "ternary": {
           "aaxis": {
            "gridcolor": "white",
            "linecolor": "white",
            "ticks": ""
           },
           "baxis": {
            "gridcolor": "white",
            "linecolor": "white",
            "ticks": ""
           },
           "bgcolor": "#E5ECF6",
           "caxis": {
            "gridcolor": "white",
            "linecolor": "white",
            "ticks": ""
           }
          },
          "title": {
           "x": 0.05
          },
          "xaxis": {
           "automargin": true,
           "gridcolor": "white",
           "linecolor": "white",
           "ticks": "",
           "title": {
            "standoff": 15
           },
           "zerolinecolor": "white",
           "zerolinewidth": 2
          },
          "yaxis": {
           "automargin": true,
           "gridcolor": "white",
           "linecolor": "white",
           "ticks": "",
           "title": {
            "standoff": 15
           },
           "zerolinecolor": "white",
           "zerolinewidth": 2
          }
         }
        },
        "title": {
         "text": "Future Career by GPA"
        },
        "xaxis": {
         "anchor": "y",
         "domain": [
          0,
          1
         ],
         "title": {
          "text": "GPA"
         }
        },
        "yaxis": {
         "anchor": "x",
         "domain": [
          0,
          1
         ],
         "title": {
          "text": "Future Career"
         }
        }
       }
      }
     },
     "metadata": {},
     "output_type": "display_data"
    }
   ],
   "source": [
    "px.scatter(df, x=\"GPA\", y=\"Future Career\", color=\"Gender\", size=\"Age\", hover_data=['Name'], title=\"Future Career by GPA\")"
   ]
  },
  {
   "cell_type": "code",
   "execution_count": 35,
   "id": "a189cb29",
   "metadata": {},
   "outputs": [
    {
     "data": {
      "application/vnd.plotly.v1+json": {
       "config": {
        "plotlyServerURL": "https://plot.ly"
       },
       "data": [
        {
         "alignmentgroup": "True",
         "bingroup": "x",
         "hovertemplate": "Future Career=Machine Learning Researcher<br>Age=%{x}<br>count=%{y}<extra></extra>",
         "legendgroup": "Machine Learning Researcher",
         "marker": {
          "color": "#636efa",
          "pattern": {
           "shape": ""
          }
         },
         "name": "Machine Learning Researcher",
         "offsetgroup": "Machine Learning Researcher",
         "orientation": "v",
         "showlegend": true,
         "type": "histogram",
         "x": [
          21
         ],
         "xaxis": "x",
         "yaxis": "y"
        },
        {
         "alignmentgroup": "True",
         "bingroup": "x",
         "hovertemplate": "Future Career=Data Scientist<br>Age=%{x}<br>count=%{y}<extra></extra>",
         "legendgroup": "Data Scientist",
         "marker": {
          "color": "#EF553B",
          "pattern": {
           "shape": ""
          }
         },
         "name": "Data Scientist",
         "offsetgroup": "Data Scientist",
         "orientation": "v",
         "showlegend": true,
         "type": "histogram",
         "x": [
          20,
          20,
          20,
          20,
          20,
          33,
          23,
          21
         ],
         "xaxis": "x",
         "yaxis": "y"
        },
        {
         "alignmentgroup": "True",
         "bingroup": "x",
         "hovertemplate": "Future Career=Software Engineer<br>Age=%{x}<br>count=%{y}<extra></extra>",
         "legendgroup": "Software Engineer",
         "marker": {
          "color": "#00cc96",
          "pattern": {
           "shape": ""
          }
         },
         "name": "Software Engineer",
         "offsetgroup": "Software Engineer",
         "orientation": "v",
         "showlegend": true,
         "type": "histogram",
         "x": [
          22,
          22,
          22,
          22,
          20,
          22,
          22,
          22,
          35,
          21,
          22,
          20,
          20,
          20
         ],
         "xaxis": "x",
         "yaxis": "y"
        },
        {
         "alignmentgroup": "True",
         "bingroup": "x",
         "hovertemplate": "Future Career=Web Developer<br>Age=%{x}<br>count=%{y}<extra></extra>",
         "legendgroup": "Web Developer",
         "marker": {
          "color": "#ab63fa",
          "pattern": {
           "shape": ""
          }
         },
         "name": "Web Developer",
         "offsetgroup": "Web Developer",
         "orientation": "v",
         "showlegend": true,
         "type": "histogram",
         "x": [
          21,
          22,
          22,
          22,
          21,
          21,
          20,
          20,
          31,
          21,
          23,
          22,
          22,
          21,
          23,
          22,
          23,
          23,
          22
         ],
         "xaxis": "x",
         "yaxis": "y"
        },
        {
         "alignmentgroup": "True",
         "bingroup": "x",
         "hovertemplate": "Future Career=Information Security Analyst<br>Age=%{x}<br>count=%{y}<extra></extra>",
         "legendgroup": "Information Security Analyst",
         "marker": {
          "color": "#FFA15A",
          "pattern": {
           "shape": ""
          }
         },
         "name": "Information Security Analyst",
         "offsetgroup": "Information Security Analyst",
         "orientation": "v",
         "showlegend": true,
         "type": "histogram",
         "x": [
          23,
          20,
          20,
          20,
          22,
          22,
          22,
          22,
          22,
          33,
          22,
          21,
          21,
          22,
          20,
          22,
          20
         ],
         "xaxis": "x",
         "yaxis": "y"
        },
        {
         "alignmentgroup": "True",
         "bingroup": "x",
         "hovertemplate": "Future Career=Machine Learning Engineer<br>Age=%{x}<br>count=%{y}<extra></extra>",
         "legendgroup": "Machine Learning Engineer",
         "marker": {
          "color": "#19d3f3",
          "pattern": {
           "shape": ""
          }
         },
         "name": "Machine Learning Engineer",
         "offsetgroup": "Machine Learning Engineer",
         "orientation": "v",
         "showlegend": true,
         "type": "histogram",
         "x": [
          22,
          21,
          21,
          21,
          21,
          21,
          23,
          20,
          21,
          21,
          20,
          21,
          21
         ],
         "xaxis": "x",
         "yaxis": "y"
        },
        {
         "alignmentgroup": "True",
         "bingroup": "x",
         "hovertemplate": "Future Career=Database Administrator<br>Age=%{x}<br>count=%{y}<extra></extra>",
         "legendgroup": "Database Administrator",
         "marker": {
          "color": "#FF6692",
          "pattern": {
           "shape": ""
          }
         },
         "name": "Database Administrator",
         "offsetgroup": "Database Administrator",
         "orientation": "v",
         "showlegend": true,
         "type": "histogram",
         "x": [
          20,
          23,
          23,
          21,
          21,
          21,
          21,
          37,
          23,
          20,
          23,
          22,
          22,
          22,
          22,
          22
         ],
         "xaxis": "x",
         "yaxis": "y"
        },
        {
         "alignmentgroup": "True",
         "bingroup": "x",
         "hovertemplate": "Future Career=Cloud Solutions Architect<br>Age=%{x}<br>count=%{y}<extra></extra>",
         "legendgroup": "Cloud Solutions Architect",
         "marker": {
          "color": "#B6E880",
          "pattern": {
           "shape": ""
          }
         },
         "name": "Cloud Solutions Architect",
         "offsetgroup": "Cloud Solutions Architect",
         "orientation": "v",
         "showlegend": true,
         "type": "histogram",
         "x": [
          21,
          22,
          22,
          22,
          23,
          23,
          23,
          35,
          21,
          23,
          22,
          21,
          20,
          23,
          20,
          23
         ],
         "xaxis": "x",
         "yaxis": "y"
        },
        {
         "alignmentgroup": "True",
         "bingroup": "x",
         "hovertemplate": "Future Career=Mobile App Developer<br>Age=%{x}<br>count=%{y}<extra></extra>",
         "legendgroup": "Mobile App Developer",
         "marker": {
          "color": "#FF97FF",
          "pattern": {
           "shape": ""
          }
         },
         "name": "Mobile App Developer",
         "offsetgroup": "Mobile App Developer",
         "orientation": "v",
         "showlegend": true,
         "type": "histogram",
         "x": [
          23,
          21,
          20,
          21,
          20,
          21,
          23,
          20,
          21,
          21,
          29,
          22,
          23,
          20,
          21,
          20,
          21
         ],
         "xaxis": "x",
         "yaxis": "y"
        },
        {
         "alignmentgroup": "True",
         "bingroup": "x",
         "hovertemplate": "Future Career=Graphics Programmer<br>Age=%{x}<br>count=%{y}<extra></extra>",
         "legendgroup": "Graphics Programmer",
         "marker": {
          "color": "#FECB52",
          "pattern": {
           "shape": ""
          }
         },
         "name": "Graphics Programmer",
         "offsetgroup": "Graphics Programmer",
         "orientation": "v",
         "showlegend": true,
         "type": "histogram",
         "x": [
          22,
          21,
          21,
          22,
          22,
          22,
          22,
          37,
          20
         ],
         "xaxis": "x",
         "yaxis": "y"
        },
        {
         "alignmentgroup": "True",
         "bingroup": "x",
         "hovertemplate": "Future Career=NLP Research Scientist<br>Age=%{x}<br>count=%{y}<extra></extra>",
         "legendgroup": "NLP Research Scientist",
         "marker": {
          "color": "#636efa",
          "pattern": {
           "shape": ""
          }
         },
         "name": "NLP Research Scientist",
         "offsetgroup": "NLP Research Scientist",
         "orientation": "v",
         "showlegend": true,
         "type": "histogram",
         "x": [
          21,
          23,
          23,
          21,
          21,
          23,
          23,
          29,
          21,
          23,
          23
         ],
         "xaxis": "x",
         "yaxis": "y"
        },
        {
         "alignmentgroup": "True",
         "bingroup": "x",
         "hovertemplate": "Future Career=Game Developer<br>Age=%{x}<br>count=%{y}<extra></extra>",
         "legendgroup": "Game Developer",
         "marker": {
          "color": "#EF553B",
          "pattern": {
           "shape": ""
          }
         },
         "name": "Game Developer",
         "offsetgroup": "Game Developer",
         "orientation": "v",
         "showlegend": true,
         "type": "histogram",
         "x": [
          23,
          23,
          23,
          21
         ],
         "xaxis": "x",
         "yaxis": "y"
        },
        {
         "alignmentgroup": "True",
         "bingroup": "x",
         "hovertemplate": "Future Career=Security Analyst<br>Age=%{x}<br>count=%{y}<extra></extra>",
         "legendgroup": "Security Analyst",
         "marker": {
          "color": "#00cc96",
          "pattern": {
           "shape": ""
          }
         },
         "name": "Security Analyst",
         "offsetgroup": "Security Analyst",
         "orientation": "v",
         "showlegend": true,
         "type": "histogram",
         "x": [
          22
         ],
         "xaxis": "x",
         "yaxis": "y"
        },
        {
         "alignmentgroup": "True",
         "bingroup": "x",
         "hovertemplate": "Future Career=Embedded Software Engineer<br>Age=%{x}<br>count=%{y}<extra></extra>",
         "legendgroup": "Embedded Software Engineer",
         "marker": {
          "color": "#ab63fa",
          "pattern": {
           "shape": ""
          }
         },
         "name": "Embedded Software Engineer",
         "offsetgroup": "Embedded Software Engineer",
         "orientation": "v",
         "showlegend": true,
         "type": "histogram",
         "x": [
          22
         ],
         "xaxis": "x",
         "yaxis": "y"
        },
        {
         "alignmentgroup": "True",
         "bingroup": "x",
         "hovertemplate": "Future Career=Data Analyst<br>Age=%{x}<br>count=%{y}<extra></extra>",
         "legendgroup": "Data Analyst",
         "marker": {
          "color": "#FFA15A",
          "pattern": {
           "shape": ""
          }
         },
         "name": "Data Analyst",
         "offsetgroup": "Data Analyst",
         "orientation": "v",
         "showlegend": true,
         "type": "histogram",
         "x": [
          20,
          20,
          22,
          22,
          22,
          21
         ],
         "xaxis": "x",
         "yaxis": "y"
        },
        {
         "alignmentgroup": "True",
         "bingroup": "x",
         "hovertemplate": "Future Career=Robotics Engineer<br>Age=%{x}<br>count=%{y}<extra></extra>",
         "legendgroup": "Robotics Engineer",
         "marker": {
          "color": "#19d3f3",
          "pattern": {
           "shape": ""
          }
         },
         "name": "Robotics Engineer",
         "offsetgroup": "Robotics Engineer",
         "orientation": "v",
         "showlegend": true,
         "type": "histogram",
         "x": [
          22
         ],
         "xaxis": "x",
         "yaxis": "y"
        },
        {
         "alignmentgroup": "True",
         "bingroup": "x",
         "hovertemplate": "Future Career=Ethical Hacker<br>Age=%{x}<br>count=%{y}<extra></extra>",
         "legendgroup": "Ethical Hacker",
         "marker": {
          "color": "#FF6692",
          "pattern": {
           "shape": ""
          }
         },
         "name": "Ethical Hacker",
         "offsetgroup": "Ethical Hacker",
         "orientation": "v",
         "showlegend": true,
         "type": "histogram",
         "x": [
          23
         ],
         "xaxis": "x",
         "yaxis": "y"
        },
        {
         "alignmentgroup": "True",
         "bingroup": "x",
         "hovertemplate": "Future Career=Computer Vision Engineer<br>Age=%{x}<br>count=%{y}<extra></extra>",
         "legendgroup": "Computer Vision Engineer",
         "marker": {
          "color": "#B6E880",
          "pattern": {
           "shape": ""
          }
         },
         "name": "Computer Vision Engineer",
         "offsetgroup": "Computer Vision Engineer",
         "orientation": "v",
         "showlegend": true,
         "type": "histogram",
         "x": [
          20
         ],
         "xaxis": "x",
         "yaxis": "y"
        },
        {
         "alignmentgroup": "True",
         "bingroup": "x",
         "hovertemplate": "Future Career=DevOps Engineer<br>Age=%{x}<br>count=%{y}<extra></extra>",
         "legendgroup": "DevOps Engineer",
         "marker": {
          "color": "#FF97FF",
          "pattern": {
           "shape": ""
          }
         },
         "name": "DevOps Engineer",
         "offsetgroup": "DevOps Engineer",
         "orientation": "v",
         "showlegend": true,
         "type": "histogram",
         "x": [
          22
         ],
         "xaxis": "x",
         "yaxis": "y"
        },
        {
         "alignmentgroup": "True",
         "bingroup": "x",
         "hovertemplate": "Future Career=Bioinformatician<br>Age=%{x}<br>count=%{y}<extra></extra>",
         "legendgroup": "Bioinformatician",
         "marker": {
          "color": "#FECB52",
          "pattern": {
           "shape": ""
          }
         },
         "name": "Bioinformatician",
         "offsetgroup": "Bioinformatician",
         "orientation": "v",
         "showlegend": true,
         "type": "histogram",
         "x": [
          21,
          22
         ],
         "xaxis": "x",
         "yaxis": "y"
        },
        {
         "alignmentgroup": "True",
         "bingroup": "x",
         "hovertemplate": "Future Career=IoT Developer<br>Age=%{x}<br>count=%{y}<extra></extra>",
         "legendgroup": "IoT Developer",
         "marker": {
          "color": "#636efa",
          "pattern": {
           "shape": ""
          }
         },
         "name": "IoT Developer",
         "offsetgroup": "IoT Developer",
         "orientation": "v",
         "showlegend": true,
         "type": "histogram",
         "x": [
          23
         ],
         "xaxis": "x",
         "yaxis": "y"
        },
        {
         "alignmentgroup": "True",
         "bingroup": "x",
         "hovertemplate": "Future Career=NLP Engineer<br>Age=%{x}<br>count=%{y}<extra></extra>",
         "legendgroup": "NLP Engineer",
         "marker": {
          "color": "#EF553B",
          "pattern": {
           "shape": ""
          }
         },
         "name": "NLP Engineer",
         "offsetgroup": "NLP Engineer",
         "orientation": "v",
         "showlegend": true,
         "type": "histogram",
         "x": [
          22
         ],
         "xaxis": "x",
         "yaxis": "y"
        },
        {
         "alignmentgroup": "True",
         "bingroup": "x",
         "hovertemplate": "Future Career=UX Designer<br>Age=%{x}<br>count=%{y}<extra></extra>",
         "legendgroup": "UX Designer",
         "marker": {
          "color": "#00cc96",
          "pattern": {
           "shape": ""
          }
         },
         "name": "UX Designer",
         "offsetgroup": "UX Designer",
         "orientation": "v",
         "showlegend": true,
         "type": "histogram",
         "x": [
          23,
          20
         ],
         "xaxis": "x",
         "yaxis": "y"
        },
        {
         "alignmentgroup": "True",
         "bingroup": "x",
         "hovertemplate": "Future Career=Healthcare IT Specialist<br>Age=%{x}<br>count=%{y}<extra></extra>",
         "legendgroup": "Healthcare IT Specialist",
         "marker": {
          "color": "#ab63fa",
          "pattern": {
           "shape": ""
          }
         },
         "name": "Healthcare IT Specialist",
         "offsetgroup": "Healthcare IT Specialist",
         "orientation": "v",
         "showlegend": true,
         "type": "histogram",
         "x": [
          22,
          21
         ],
         "xaxis": "x",
         "yaxis": "y"
        },
        {
         "alignmentgroup": "True",
         "bingroup": "x",
         "hovertemplate": "Future Career=Quantum Computing Researcher<br>Age=%{x}<br>count=%{y}<extra></extra>",
         "legendgroup": "Quantum Computing Researcher",
         "marker": {
          "color": "#FFA15A",
          "pattern": {
           "shape": ""
          }
         },
         "name": "Quantum Computing Researcher",
         "offsetgroup": "Quantum Computing Researcher",
         "orientation": "v",
         "showlegend": true,
         "type": "histogram",
         "x": [
          21,
          23
         ],
         "xaxis": "x",
         "yaxis": "y"
        },
        {
         "alignmentgroup": "True",
         "bingroup": "x",
         "hovertemplate": "Future Career=VR Developer<br>Age=%{x}<br>count=%{y}<extra></extra>",
         "legendgroup": "VR Developer",
         "marker": {
          "color": "#19d3f3",
          "pattern": {
           "shape": ""
          }
         },
         "name": "VR Developer",
         "offsetgroup": "VR Developer",
         "orientation": "v",
         "showlegend": true,
         "type": "histogram",
         "x": [
          22
         ],
         "xaxis": "x",
         "yaxis": "y"
        },
        {
         "alignmentgroup": "True",
         "bingroup": "x",
         "hovertemplate": "Future Career=Blockchain Engineer<br>Age=%{x}<br>count=%{y}<extra></extra>",
         "legendgroup": "Blockchain Engineer",
         "marker": {
          "color": "#FF6692",
          "pattern": {
           "shape": ""
          }
         },
         "name": "Blockchain Engineer",
         "offsetgroup": "Blockchain Engineer",
         "orientation": "v",
         "showlegend": true,
         "type": "histogram",
         "x": [
          21
         ],
         "xaxis": "x",
         "yaxis": "y"
        },
        {
         "alignmentgroup": "True",
         "bingroup": "x",
         "hovertemplate": "Future Career=SEO Specialist<br>Age=%{x}<br>count=%{y}<extra></extra>",
         "legendgroup": "SEO Specialist",
         "marker": {
          "color": "#B6E880",
          "pattern": {
           "shape": ""
          }
         },
         "name": "SEO Specialist",
         "offsetgroup": "SEO Specialist",
         "orientation": "v",
         "showlegend": true,
         "type": "histogram",
         "x": [
          23
         ],
         "xaxis": "x",
         "yaxis": "y"
        },
        {
         "alignmentgroup": "True",
         "bingroup": "x",
         "hovertemplate": "Future Career=Data Privacy Specialist<br>Age=%{x}<br>count=%{y}<extra></extra>",
         "legendgroup": "Data Privacy Specialist",
         "marker": {
          "color": "#FF97FF",
          "pattern": {
           "shape": ""
          }
         },
         "name": "Data Privacy Specialist",
         "offsetgroup": "Data Privacy Specialist",
         "orientation": "v",
         "showlegend": true,
         "type": "histogram",
         "x": [
          22
         ],
         "xaxis": "x",
         "yaxis": "y"
        },
        {
         "alignmentgroup": "True",
         "bingroup": "x",
         "hovertemplate": "Future Career=Geospatial Analyst<br>Age=%{x}<br>count=%{y}<extra></extra>",
         "legendgroup": "Geospatial Analyst",
         "marker": {
          "color": "#FECB52",
          "pattern": {
           "shape": ""
          }
         },
         "name": "Geospatial Analyst",
         "offsetgroup": "Geospatial Analyst",
         "orientation": "v",
         "showlegend": true,
         "type": "histogram",
         "x": [
          20
         ],
         "xaxis": "x",
         "yaxis": "y"
        },
        {
         "alignmentgroup": "True",
         "bingroup": "x",
         "hovertemplate": "Future Career=Distributed Systems Engineer<br>Age=%{x}<br>count=%{y}<extra></extra>",
         "legendgroup": "Distributed Systems Engineer",
         "marker": {
          "color": "#636efa",
          "pattern": {
           "shape": ""
          }
         },
         "name": "Distributed Systems Engineer",
         "offsetgroup": "Distributed Systems Engineer",
         "orientation": "v",
         "showlegend": true,
         "type": "histogram",
         "x": [
          21
         ],
         "xaxis": "x",
         "yaxis": "y"
        },
        {
         "alignmentgroup": "True",
         "bingroup": "x",
         "hovertemplate": "Future Career=Digital Forensics Specialist<br>Age=%{x}<br>count=%{y}<extra></extra>",
         "legendgroup": "Digital Forensics Specialist",
         "marker": {
          "color": "#EF553B",
          "pattern": {
           "shape": ""
          }
         },
         "name": "Digital Forensics Specialist",
         "offsetgroup": "Digital Forensics Specialist",
         "orientation": "v",
         "showlegend": true,
         "type": "histogram",
         "x": [
          23
         ],
         "xaxis": "x",
         "yaxis": "y"
        },
        {
         "alignmentgroup": "True",
         "bingroup": "x",
         "hovertemplate": "Future Career=AI Researcher<br>Age=%{x}<br>count=%{y}<extra></extra>",
         "legendgroup": "AI Researcher",
         "marker": {
          "color": "#00cc96",
          "pattern": {
           "shape": ""
          }
         },
         "name": "AI Researcher",
         "offsetgroup": "AI Researcher",
         "orientation": "v",
         "showlegend": true,
         "type": "histogram",
         "x": [
          20,
          21,
          23,
          22,
          21,
          22
         ],
         "xaxis": "x",
         "yaxis": "y"
        }
       ],
       "layout": {
        "barmode": "group",
        "legend": {
         "title": {
          "text": "Future Career"
         },
         "tracegroupgap": 0
        },
        "template": {
         "data": {
          "bar": [
           {
            "error_x": {
             "color": "#2a3f5f"
            },
            "error_y": {
             "color": "#2a3f5f"
            },
            "marker": {
             "line": {
              "color": "#E5ECF6",
              "width": 0.5
             },
             "pattern": {
              "fillmode": "overlay",
              "size": 10,
              "solidity": 0.2
             }
            },
            "type": "bar"
           }
          ],
          "barpolar": [
           {
            "marker": {
             "line": {
              "color": "#E5ECF6",
              "width": 0.5
             },
             "pattern": {
              "fillmode": "overlay",
              "size": 10,
              "solidity": 0.2
             }
            },
            "type": "barpolar"
           }
          ],
          "carpet": [
           {
            "aaxis": {
             "endlinecolor": "#2a3f5f",
             "gridcolor": "white",
             "linecolor": "white",
             "minorgridcolor": "white",
             "startlinecolor": "#2a3f5f"
            },
            "baxis": {
             "endlinecolor": "#2a3f5f",
             "gridcolor": "white",
             "linecolor": "white",
             "minorgridcolor": "white",
             "startlinecolor": "#2a3f5f"
            },
            "type": "carpet"
           }
          ],
          "choropleth": [
           {
            "colorbar": {
             "outlinewidth": 0,
             "ticks": ""
            },
            "type": "choropleth"
           }
          ],
          "contour": [
           {
            "colorbar": {
             "outlinewidth": 0,
             "ticks": ""
            },
            "colorscale": [
             [
              0,
              "#0d0887"
             ],
             [
              0.1111111111111111,
              "#46039f"
             ],
             [
              0.2222222222222222,
              "#7201a8"
             ],
             [
              0.3333333333333333,
              "#9c179e"
             ],
             [
              0.4444444444444444,
              "#bd3786"
             ],
             [
              0.5555555555555556,
              "#d8576b"
             ],
             [
              0.6666666666666666,
              "#ed7953"
             ],
             [
              0.7777777777777778,
              "#fb9f3a"
             ],
             [
              0.8888888888888888,
              "#fdca26"
             ],
             [
              1,
              "#f0f921"
             ]
            ],
            "type": "contour"
           }
          ],
          "contourcarpet": [
           {
            "colorbar": {
             "outlinewidth": 0,
             "ticks": ""
            },
            "type": "contourcarpet"
           }
          ],
          "heatmap": [
           {
            "colorbar": {
             "outlinewidth": 0,
             "ticks": ""
            },
            "colorscale": [
             [
              0,
              "#0d0887"
             ],
             [
              0.1111111111111111,
              "#46039f"
             ],
             [
              0.2222222222222222,
              "#7201a8"
             ],
             [
              0.3333333333333333,
              "#9c179e"
             ],
             [
              0.4444444444444444,
              "#bd3786"
             ],
             [
              0.5555555555555556,
              "#d8576b"
             ],
             [
              0.6666666666666666,
              "#ed7953"
             ],
             [
              0.7777777777777778,
              "#fb9f3a"
             ],
             [
              0.8888888888888888,
              "#fdca26"
             ],
             [
              1,
              "#f0f921"
             ]
            ],
            "type": "heatmap"
           }
          ],
          "heatmapgl": [
           {
            "colorbar": {
             "outlinewidth": 0,
             "ticks": ""
            },
            "colorscale": [
             [
              0,
              "#0d0887"
             ],
             [
              0.1111111111111111,
              "#46039f"
             ],
             [
              0.2222222222222222,
              "#7201a8"
             ],
             [
              0.3333333333333333,
              "#9c179e"
             ],
             [
              0.4444444444444444,
              "#bd3786"
             ],
             [
              0.5555555555555556,
              "#d8576b"
             ],
             [
              0.6666666666666666,
              "#ed7953"
             ],
             [
              0.7777777777777778,
              "#fb9f3a"
             ],
             [
              0.8888888888888888,
              "#fdca26"
             ],
             [
              1,
              "#f0f921"
             ]
            ],
            "type": "heatmapgl"
           }
          ],
          "histogram": [
           {
            "marker": {
             "pattern": {
              "fillmode": "overlay",
              "size": 10,
              "solidity": 0.2
             }
            },
            "type": "histogram"
           }
          ],
          "histogram2d": [
           {
            "colorbar": {
             "outlinewidth": 0,
             "ticks": ""
            },
            "colorscale": [
             [
              0,
              "#0d0887"
             ],
             [
              0.1111111111111111,
              "#46039f"
             ],
             [
              0.2222222222222222,
              "#7201a8"
             ],
             [
              0.3333333333333333,
              "#9c179e"
             ],
             [
              0.4444444444444444,
              "#bd3786"
             ],
             [
              0.5555555555555556,
              "#d8576b"
             ],
             [
              0.6666666666666666,
              "#ed7953"
             ],
             [
              0.7777777777777778,
              "#fb9f3a"
             ],
             [
              0.8888888888888888,
              "#fdca26"
             ],
             [
              1,
              "#f0f921"
             ]
            ],
            "type": "histogram2d"
           }
          ],
          "histogram2dcontour": [
           {
            "colorbar": {
             "outlinewidth": 0,
             "ticks": ""
            },
            "colorscale": [
             [
              0,
              "#0d0887"
             ],
             [
              0.1111111111111111,
              "#46039f"
             ],
             [
              0.2222222222222222,
              "#7201a8"
             ],
             [
              0.3333333333333333,
              "#9c179e"
             ],
             [
              0.4444444444444444,
              "#bd3786"
             ],
             [
              0.5555555555555556,
              "#d8576b"
             ],
             [
              0.6666666666666666,
              "#ed7953"
             ],
             [
              0.7777777777777778,
              "#fb9f3a"
             ],
             [
              0.8888888888888888,
              "#fdca26"
             ],
             [
              1,
              "#f0f921"
             ]
            ],
            "type": "histogram2dcontour"
           }
          ],
          "mesh3d": [
           {
            "colorbar": {
             "outlinewidth": 0,
             "ticks": ""
            },
            "type": "mesh3d"
           }
          ],
          "parcoords": [
           {
            "line": {
             "colorbar": {
              "outlinewidth": 0,
              "ticks": ""
             }
            },
            "type": "parcoords"
           }
          ],
          "pie": [
           {
            "automargin": true,
            "type": "pie"
           }
          ],
          "scatter": [
           {
            "fillpattern": {
             "fillmode": "overlay",
             "size": 10,
             "solidity": 0.2
            },
            "type": "scatter"
           }
          ],
          "scatter3d": [
           {
            "line": {
             "colorbar": {
              "outlinewidth": 0,
              "ticks": ""
             }
            },
            "marker": {
             "colorbar": {
              "outlinewidth": 0,
              "ticks": ""
             }
            },
            "type": "scatter3d"
           }
          ],
          "scattercarpet": [
           {
            "marker": {
             "colorbar": {
              "outlinewidth": 0,
              "ticks": ""
             }
            },
            "type": "scattercarpet"
           }
          ],
          "scattergeo": [
           {
            "marker": {
             "colorbar": {
              "outlinewidth": 0,
              "ticks": ""
             }
            },
            "type": "scattergeo"
           }
          ],
          "scattergl": [
           {
            "marker": {
             "colorbar": {
              "outlinewidth": 0,
              "ticks": ""
             }
            },
            "type": "scattergl"
           }
          ],
          "scattermapbox": [
           {
            "marker": {
             "colorbar": {
              "outlinewidth": 0,
              "ticks": ""
             }
            },
            "type": "scattermapbox"
           }
          ],
          "scatterpolar": [
           {
            "marker": {
             "colorbar": {
              "outlinewidth": 0,
              "ticks": ""
             }
            },
            "type": "scatterpolar"
           }
          ],
          "scatterpolargl": [
           {
            "marker": {
             "colorbar": {
              "outlinewidth": 0,
              "ticks": ""
             }
            },
            "type": "scatterpolargl"
           }
          ],
          "scatterternary": [
           {
            "marker": {
             "colorbar": {
              "outlinewidth": 0,
              "ticks": ""
             }
            },
            "type": "scatterternary"
           }
          ],
          "surface": [
           {
            "colorbar": {
             "outlinewidth": 0,
             "ticks": ""
            },
            "colorscale": [
             [
              0,
              "#0d0887"
             ],
             [
              0.1111111111111111,
              "#46039f"
             ],
             [
              0.2222222222222222,
              "#7201a8"
             ],
             [
              0.3333333333333333,
              "#9c179e"
             ],
             [
              0.4444444444444444,
              "#bd3786"
             ],
             [
              0.5555555555555556,
              "#d8576b"
             ],
             [
              0.6666666666666666,
              "#ed7953"
             ],
             [
              0.7777777777777778,
              "#fb9f3a"
             ],
             [
              0.8888888888888888,
              "#fdca26"
             ],
             [
              1,
              "#f0f921"
             ]
            ],
            "type": "surface"
           }
          ],
          "table": [
           {
            "cells": {
             "fill": {
              "color": "#EBF0F8"
             },
             "line": {
              "color": "white"
             }
            },
            "header": {
             "fill": {
              "color": "#C8D4E3"
             },
             "line": {
              "color": "white"
             }
            },
            "type": "table"
           }
          ]
         },
         "layout": {
          "annotationdefaults": {
           "arrowcolor": "#2a3f5f",
           "arrowhead": 0,
           "arrowwidth": 1
          },
          "autotypenumbers": "strict",
          "coloraxis": {
           "colorbar": {
            "outlinewidth": 0,
            "ticks": ""
           }
          },
          "colorscale": {
           "diverging": [
            [
             0,
             "#8e0152"
            ],
            [
             0.1,
             "#c51b7d"
            ],
            [
             0.2,
             "#de77ae"
            ],
            [
             0.3,
             "#f1b6da"
            ],
            [
             0.4,
             "#fde0ef"
            ],
            [
             0.5,
             "#f7f7f7"
            ],
            [
             0.6,
             "#e6f5d0"
            ],
            [
             0.7,
             "#b8e186"
            ],
            [
             0.8,
             "#7fbc41"
            ],
            [
             0.9,
             "#4d9221"
            ],
            [
             1,
             "#276419"
            ]
           ],
           "sequential": [
            [
             0,
             "#0d0887"
            ],
            [
             0.1111111111111111,
             "#46039f"
            ],
            [
             0.2222222222222222,
             "#7201a8"
            ],
            [
             0.3333333333333333,
             "#9c179e"
            ],
            [
             0.4444444444444444,
             "#bd3786"
            ],
            [
             0.5555555555555556,
             "#d8576b"
            ],
            [
             0.6666666666666666,
             "#ed7953"
            ],
            [
             0.7777777777777778,
             "#fb9f3a"
            ],
            [
             0.8888888888888888,
             "#fdca26"
            ],
            [
             1,
             "#f0f921"
            ]
           ],
           "sequentialminus": [
            [
             0,
             "#0d0887"
            ],
            [
             0.1111111111111111,
             "#46039f"
            ],
            [
             0.2222222222222222,
             "#7201a8"
            ],
            [
             0.3333333333333333,
             "#9c179e"
            ],
            [
             0.4444444444444444,
             "#bd3786"
            ],
            [
             0.5555555555555556,
             "#d8576b"
            ],
            [
             0.6666666666666666,
             "#ed7953"
            ],
            [
             0.7777777777777778,
             "#fb9f3a"
            ],
            [
             0.8888888888888888,
             "#fdca26"
            ],
            [
             1,
             "#f0f921"
            ]
           ]
          },
          "colorway": [
           "#636efa",
           "#EF553B",
           "#00cc96",
           "#ab63fa",
           "#FFA15A",
           "#19d3f3",
           "#FF6692",
           "#B6E880",
           "#FF97FF",
           "#FECB52"
          ],
          "font": {
           "color": "#2a3f5f"
          },
          "geo": {
           "bgcolor": "white",
           "lakecolor": "white",
           "landcolor": "#E5ECF6",
           "showlakes": true,
           "showland": true,
           "subunitcolor": "white"
          },
          "hoverlabel": {
           "align": "left"
          },
          "hovermode": "closest",
          "mapbox": {
           "style": "light"
          },
          "paper_bgcolor": "white",
          "plot_bgcolor": "#E5ECF6",
          "polar": {
           "angularaxis": {
            "gridcolor": "white",
            "linecolor": "white",
            "ticks": ""
           },
           "bgcolor": "#E5ECF6",
           "radialaxis": {
            "gridcolor": "white",
            "linecolor": "white",
            "ticks": ""
           }
          },
          "scene": {
           "xaxis": {
            "backgroundcolor": "#E5ECF6",
            "gridcolor": "white",
            "gridwidth": 2,
            "linecolor": "white",
            "showbackground": true,
            "ticks": "",
            "zerolinecolor": "white"
           },
           "yaxis": {
            "backgroundcolor": "#E5ECF6",
            "gridcolor": "white",
            "gridwidth": 2,
            "linecolor": "white",
            "showbackground": true,
            "ticks": "",
            "zerolinecolor": "white"
           },
           "zaxis": {
            "backgroundcolor": "#E5ECF6",
            "gridcolor": "white",
            "gridwidth": 2,
            "linecolor": "white",
            "showbackground": true,
            "ticks": "",
            "zerolinecolor": "white"
           }
          },
          "shapedefaults": {
           "line": {
            "color": "#2a3f5f"
           }
          },
          "ternary": {
           "aaxis": {
            "gridcolor": "white",
            "linecolor": "white",
            "ticks": ""
           },
           "baxis": {
            "gridcolor": "white",
            "linecolor": "white",
            "ticks": ""
           },
           "bgcolor": "#E5ECF6",
           "caxis": {
            "gridcolor": "white",
            "linecolor": "white",
            "ticks": ""
           }
          },
          "title": {
           "x": 0.05
          },
          "xaxis": {
           "automargin": true,
           "gridcolor": "white",
           "linecolor": "white",
           "ticks": "",
           "title": {
            "standoff": 15
           },
           "zerolinecolor": "white",
           "zerolinewidth": 2
          },
          "yaxis": {
           "automargin": true,
           "gridcolor": "white",
           "linecolor": "white",
           "ticks": "",
           "title": {
            "standoff": 15
           },
           "zerolinecolor": "white",
           "zerolinewidth": 2
          }
         }
        },
        "title": {
         "text": "Distribution of Students by Age and Future Career"
        },
        "xaxis": {
         "anchor": "y",
         "domain": [
          0,
          1
         ],
         "title": {
          "text": "Age"
         }
        },
        "yaxis": {
         "anchor": "x",
         "domain": [
          0,
          1
         ],
         "title": {
          "text": "count"
         }
        }
       }
      }
     },
     "metadata": {},
     "output_type": "display_data"
    }
   ],
   "source": [
    "px.histogram(df, x=\"Age\", color=\"Future Career\", barmode=\"group\", title=\"Distribution of Students by Age and Future Career\")"
   ]
  },
  {
   "cell_type": "code",
   "execution_count": 36,
   "id": "bbf5e2cf-46b4-4a42-815c-ff55648135b2",
   "metadata": {},
   "outputs": [
    {
     "data": {
      "image/png": "[encoded data removed]",
      "text/plain": [
       "<Figure size 1000x800 with 2 Axes>"
      ]
     },
     "metadata": {},
     "output_type": "display_data"
    }
   ],
   "source": [
    "# Convert categorical skill levels to numeric values\n",
    "skill_mapping = {'Strong': 3, 'Average': 2, 'Weak': 1}\n",
    "df['Python'] = df['Python'].map(skill_mapping)\n",
    "df['SQL'] = df['SQL'].map(skill_mapping)\n",
    "df['Java'] = df['Java'].map(skill_mapping)\n",
    "\n",
    "# Correlation Heatmap\n",
    "plt.figure(figsize=(10, 8))\n",
    "sns.heatmap(df[['GPA', 'Age', 'Python', 'SQL', 'Java']].corr(), annot=True, cmap='coolwarm')\n",
    "plt.title(\"Correlation Heatmap\")\n",
    "plt.show()"
   ]
  },
  {
   "cell_type": "markdown",
   "id": "9adef8b1",
   "metadata": {},
   "source": [
    "## Model Training"
   ]
  },
  {
   "cell_type": "code",
   "execution_count": 38,
   "id": "a700552f",
   "metadata": {},
   "outputs": [
    {
     "name": "stdout",
     "output_type": "stream",
     "text": [
      "Accuracy: 0.8611111111111112\n",
      "Classification Report:\n",
      "                               precision    recall  f1-score   support\n",
      "\n",
      "               AI Researcher       1.00      1.00      1.00         1\n",
      "            Bioinformatician       0.00      0.00      0.00         1\n",
      "   Cloud Solutions Architect       1.00      1.00      1.00         5\n",
      "                Data Analyst       1.00      1.00      1.00         1\n",
      "              Data Scientist       1.00      1.00      1.00         1\n",
      "      Database Administrator       1.00      1.00      1.00         2\n",
      "Distributed Systems Engineer       0.00      0.00      0.00         1\n",
      "              Ethical Hacker       0.00      0.00      0.00         1\n",
      "              Game Developer       1.00      1.00      1.00         1\n",
      "         Graphics Programmer       0.33      1.00      0.50         1\n",
      "    Healthcare IT Specialist       0.00      0.00      0.00         1\n",
      "Information Security Analyst       0.67      1.00      0.80         2\n",
      "               IoT Developer       0.00      0.00      0.00         1\n",
      "   Machine Learning Engineer       1.00      1.00      1.00         2\n",
      "        Mobile App Developer       1.00      1.00      1.00        10\n",
      "                VR Developer       0.00      0.00      0.00         0\n",
      "               Web Developer       0.83      1.00      0.91         5\n",
      "\n",
      "                    accuracy                           0.86        36\n",
      "                   macro avg       0.58      0.65      0.60        36\n",
      "                weighted avg       0.80      0.86      0.82        36\n",
      "\n"
     ]
    },
    {
     "name": "stderr",
     "output_type": "stream",
     "text": [
      "C:\\Users\\rolex\\AppData\\Roaming\\Python\\Python312\\site-packages\\sklearn\\metrics\\_classification.py:1531: UndefinedMetricWarning:\n",
      "\n",
      "Precision is ill-defined and being set to 0.0 in labels with no predicted samples. Use `zero_division` parameter to control this behavior.\n",
      "\n",
      "C:\\Users\\rolex\\AppData\\Roaming\\Python\\Python312\\site-packages\\sklearn\\metrics\\_classification.py:1531: UndefinedMetricWarning:\n",
      "\n",
      "Recall is ill-defined and being set to 0.0 in labels with no true samples. Use `zero_division` parameter to control this behavior.\n",
      "\n",
      "C:\\Users\\rolex\\AppData\\Roaming\\Python\\Python312\\site-packages\\sklearn\\metrics\\_classification.py:1531: UndefinedMetricWarning:\n",
      "\n",
      "Precision is ill-defined and being set to 0.0 in labels with no predicted samples. Use `zero_division` parameter to control this behavior.\n",
      "\n",
      "C:\\Users\\rolex\\AppData\\Roaming\\Python\\Python312\\site-packages\\sklearn\\metrics\\_classification.py:1531: UndefinedMetricWarning:\n",
      "\n",
      "Recall is ill-defined and being set to 0.0 in labels with no true samples. Use `zero_division` parameter to control this behavior.\n",
      "\n",
      "C:\\Users\\rolex\\AppData\\Roaming\\Python\\Python312\\site-packages\\sklearn\\metrics\\_classification.py:1531: UndefinedMetricWarning:\n",
      "\n",
      "Precision is ill-defined and being set to 0.0 in labels with no predicted samples. Use `zero_division` parameter to control this behavior.\n",
      "\n",
      "C:\\Users\\rolex\\AppData\\Roaming\\Python\\Python312\\site-packages\\sklearn\\metrics\\_classification.py:1531: UndefinedMetricWarning:\n",
      "\n",
      "Recall is ill-defined and being set to 0.0 in labels with no true samples. Use `zero_division` parameter to control this behavior.\n",
      "\n"
     ]
    }
   ],
   "source": [
    "import pandas as pd\n",
    "from sklearn.model_selection import train_test_split\n",
    "from sklearn.pipeline import Pipeline\n",
    "from sklearn.compose import ColumnTransformer\n",
    "from sklearn.preprocessing import OneHotEncoder, StandardScaler\n",
    "from sklearn.ensemble import RandomForestClassifier\n",
    "from sklearn.impute import SimpleImputer\n",
    "from sklearn.metrics import accuracy_score, classification_report\n",
    "\n",
    "# Select the features and target variable\n",
    "features = ['Age', 'GPA', 'Gender', 'Major', 'Interested Domain', 'Python', 'SQL', 'Java']\n",
    "target = 'Future Career'\n",
    "\n",
    "# Separate the features and target variable\n",
    "X = df[features]\n",
    "y = df[target]\n",
    "\n",
    "# Split the dataset into training and testing sets\n",
    "X_train, X_test, y_train, y_test = train_test_split(X, y, test_size=0.2, random_state=42)\n",
    "\n",
    "# Define the preprocessor\n",
    "numeric_features = ['Age', 'GPA']\n",
    "categorical_features = ['Gender', 'Major', 'Interested Domain', 'Python', 'SQL', 'Java']\n",
    "\n",
    "numeric_transformer = Pipeline(steps=[\n",
    "    ('imputer', SimpleImputer(strategy='mean')),\n",
    "    ('scaler', StandardScaler())\n",
    "])\n",
    "\n",
    "categorical_transformer = Pipeline(steps=[\n",
    "    ('imputer', SimpleImputer(strategy='most_frequent')),\n",
    "    ('onehot', OneHotEncoder(handle_unknown='ignore'))\n",
    "])\n",
    "\n",
    "preprocessor = ColumnTransformer(\n",
    "    transformers=[\n",
    "        ('num', numeric_transformer, numeric_features),\n",
    "        ('cat', categorical_transformer, categorical_features)\n",
    "    ])\n",
    "\n",
    "# Define the pipeline\n",
    "pipeline = Pipeline(steps=[('preprocessor', preprocessor),\n",
    "                           ('classifier', RandomForestClassifier(random_state=42))])\n",
    "\n",
    "# Train the model\n",
    "pipeline.fit(X_train, y_train)\n",
    "\n",
    "# Make predictions on the test set\n",
    "y_pred = pipeline.predict(X_test)\n",
    "\n",
    "# Evaluate the model\n",
    "print(\"Accuracy:\", accuracy_score(y_test, y_pred))\n",
    "print(\"Classification Report:\\n\", classification_report(y_test, y_pred))\n"
   ]
  },
  {
   "cell_type": "markdown",
   "id": "7f01cc4e",
   "metadata": {},
   "source": [
    "## Prediction"
   ]
  },
  {
   "cell_type": "code",
   "execution_count": 39,
   "id": "97988dcc",
   "metadata": {},
   "outputs": [
    {
     "name": "stdout",
     "output_type": "stream",
     "text": [
      "Prediction for Case 1: AI Researcher\n",
      "Prediction for Case 2: UX Designer\n",
      "Prediction for Case 3: Software Engineer\n"
     ]
    }
   ],
   "source": [
    "import numpy as np\n",
    "\n",
    "# Define the three test cases\n",
    "test_cases = pd.DataFrame([\n",
    "    [22, 3.8, 'Female', 'Computer Science', 'Artificial Intelligence', 'Yes', 'No', 'Yes'],\n",
    "    [25, 3.2, 'Male', 'Computer Science', 'Robotics', 'Yes', 'Yes', 'No'],\n",
    "    [20, 3.9, 'Female', 'Computer Science', 'Security', 'Yes', 'No', 'No']\n",
    "], columns=['Age', 'GPA', 'Gender', 'Major', 'Interested Domain', 'Python', 'SQL', 'Java'])\n",
    "\n",
    "# Make predictions on the test cases\n",
    "predictions = pipeline.predict(test_cases)\n",
    "\n",
    "# Display the predictions\n",
    "for i, prediction in enumerate(predictions):\n",
    "    print(f\"Prediction for Case {i+1}: {prediction}\")"
   ]
  },
  {
   "cell_type": "markdown",
   "id": "59a6abb0",
   "metadata": {},
   "source": [
    "### Findings\n",
    "\n",
    "1. **Model Performance and Accuracy:**\n",
    "   - The Random Forest Classifier model achieved an accuracy of **86.1%** on the test set. This reflects strong performance in predicting career outcomes based on features like age, GPA, gender, major, and proficiency in programming languages (Python, SQL, Java).\n",
    "   - Key features such as GPA and the student’s \"Interested Domain\" were crucial in determining career paths. These factors significantly influenced the accuracy of predictions.\n",
    "\n",
    "2. **Precision Issues:**\n",
    "   - The model faced challenges with certain career paths due to class imbalance, resulting in low precision for categories with fewer samples. This indicates a need for additional data or techniques to balance the dataset for more accurate predictions across all career paths.\n",
    "\n",
    "3. **Versatility:**\n",
    "   - The model performed exceptionally well for careers like \"Cloud Solutions Architect,\" \"Machine Learning Engineer,\" and \"Mobile App Developer,\" showcasing its ability to handle diverse features and provide relevant career guidance.\n",
    "\n",
    "4. **Impact of Project Experience:**\n",
    "   - Students tend to complete projects in areas related to their desired career paths. This alignment helps them develop specific skills that are valuable to employers, enhancing their career prospects and providing a competitive edge in the job market.\n",
    "\n",
    "5. **Gender-Based Career Trends:**\n",
    "   - The analysis did not reveal significant gender disparities in career outcomes. However, it was observed that a higher proportion of male students pursue careers as Software Engineers. This pattern suggests that while there may not be explicit gender biases, male students are more frequently aligned with this particular career trajectory.\n",
    "\n",
    "### Conclusion\n",
    "\n",
    "The project successfully utilized data analysis to predict career paths, analyze the impact of project experience, and examine gender-based career trends among computer science students.\n",
    "\n",
    "- **Career Path Prediction:** The Random Forest Classifier model demonstrated strong performance in predicting future career paths with an accuracy of 86.1%. Key predictors such as GPA and career interests were vital in shaping accurate predictions. The model's ability to handle diverse features allowed for effective career guidance in many cases, although precision issues were noted for some underrepresented career paths.\n",
    "\n",
    "- **Project Experience:** The analysis highlighted that students who align their project work with their career aspirations are better prepared for their desired roles. Practical experience in relevant project areas enhances students' skills and gives them a competitive advantage in the job market.\n",
    "\n",
    "- **Gender Trends:** While no significant gender-based disparities were identified in career outcomes, the data revealed a trend where a majority of male students pursue careers as Software Engineers. This finding suggests a prevalent career trajectory among male students, which may warrant further investigation to understand underlying factors and ensure equitable opportunities.\n",
    "\n",
    "Overall, the analysis provided valuable insights into the factors influencing career outcomes for computer science students. These findings can guide more targeted career planning and support initiatives, helping students navigate their career paths effectively and equitably."
   ]
  }
 ],
 "metadata": {
  "kernelspec": {
   "display_name": "Python 3 (ipykernel)",
   "language": "python",
   "name": "python3"
  },
  "language_info": {
   "codemirror_mode": {
    "name": "ipython",
    "version": 3
   },
   "file_extension": ".py",
   "mimetype": "text/x-python",
   "name": "python",
   "nbconvert_exporter": "python",
   "pygments_lexer": "ipython3",
   "version": "3.12.5"
  }
 },
 "nbformat": 4,
 "nbformat_minor": 5
}
